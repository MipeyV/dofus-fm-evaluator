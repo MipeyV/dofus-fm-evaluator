{
 "cells": [
  {
   "cell_type": "markdown",
   "id": "2ead254e",
   "metadata": {
    "papermill": {
     "duration": 0.012651,
     "end_time": "2025-04-15T21:55:52.972522",
     "exception": false,
     "start_time": "2025-04-15T21:55:52.959871",
     "status": "completed"
    },
    "tags": []
   },
   "source": [
    "# Objectif de ce notebook\n",
    "1. Evaluer la qualité des datasets générés par 0_generate_dataset.ipynb\n",
    "2. Explorer les données des datasets"
   ]
  },
  {
   "cell_type": "markdown",
   "id": "398a651a",
   "metadata": {
    "papermill": {
     "duration": 0.010042,
     "end_time": "2025-04-15T21:55:52.992830",
     "exception": false,
     "start_time": "2025-04-15T21:55:52.982788",
     "status": "completed"
    },
    "tags": []
   },
   "source": [
    "# Importer toutes les libraries nécessaires avec la cellule suivante"
   ]
  },
  {
   "cell_type": "code",
   "execution_count": 1,
   "id": "9ff4ab52",
   "metadata": {
    "_cell_guid": "b1076dfc-b9ad-4769-8c92-a6c4dae69d19",
    "_uuid": "8f2839f25d086af736a60e9eeb907d3b93b6e0e5",
    "execution": {
     "iopub.execute_input": "2025-04-15T21:55:53.014286Z",
     "iopub.status.busy": "2025-04-15T21:55:53.013796Z",
     "iopub.status.idle": "2025-04-15T21:55:54.076126Z",
     "shell.execute_reply": "2025-04-15T21:55:54.074884Z"
    },
    "papermill": {
     "duration": 1.076647,
     "end_time": "2025-04-15T21:55:54.079492",
     "exception": false,
     "start_time": "2025-04-15T21:55:53.002845",
     "status": "completed"
    },
    "tags": []
   },
   "outputs": [],
   "source": [
    "import numpy as np\n",
    "import pandas as pd\n",
    "import random\n",
    "import string"
   ]
  },
  {
   "cell_type": "markdown",
   "id": "c6fca5e0",
   "metadata": {
    "papermill": {
     "duration": 0.015734,
     "end_time": "2025-04-15T21:56:01.524306",
     "exception": false,
     "start_time": "2025-04-15T21:56:01.508572",
     "status": "completed"
    },
    "tags": []
   },
   "source": [
    "# ****Modélisation et prédiction****\n",
    "## Objectifs\n",
    "- Déterminer le modèle le plus adéquate pour prédire la note d'un item\n",
    "- Tester plusieurs modèles, les évaluer et garder le meilleur modèle"
   ]
  },
  {
   "cell_type": "markdown",
   "id": "2a780dcb",
   "metadata": {
    "papermill": {
     "duration": 0.015788,
     "end_time": "2025-04-15T21:56:01.556021",
     "exception": false,
     "start_time": "2025-04-15T21:56:01.540233",
     "status": "completed"
    },
    "tags": []
   },
   "source": [
    "## 1. Modèles de regression\n",
    "## 1.1. RandomForestRegressor"
   ]
  },
  {
   "cell_type": "code",
   "execution_count": null,
   "id": "f548f118",
   "metadata": {
    "execution": {
     "iopub.execute_input": "2025-04-15T21:56:01.590050Z",
     "iopub.status.busy": "2025-04-15T21:56:01.589692Z",
     "iopub.status.idle": "2025-04-15T21:56:07.379655Z",
     "shell.execute_reply": "2025-04-15T21:56:07.378283Z"
    },
    "papermill": {
     "duration": 5.809881,
     "end_time": "2025-04-15T21:56:07.381888",
     "exception": false,
     "start_time": "2025-04-15T21:56:01.572007",
     "status": "completed"
    },
    "tags": []
   },
   "outputs": [
    {
     "ename": "KeyError",
     "evalue": "\"['nb_high_ratio', 'over_weight'] not in index\"",
     "output_type": "error",
     "traceback": [
      "\u001b[1;31m---------------------------------------------------------------------------\u001b[0m",
      "\u001b[1;31mKeyError\u001b[0m                                  Traceback (most recent call last)",
      "Cell \u001b[1;32mIn[2], line 12\u001b[0m\n\u001b[0;32m      9\u001b[0m features \u001b[38;5;241m=\u001b[39m [\u001b[38;5;124m\"\u001b[39m\u001b[38;5;124mnb_stats\u001b[39m\u001b[38;5;124m\"\u001b[39m, \u001b[38;5;124m\"\u001b[39m\u001b[38;5;124mnb_perfect_lines\u001b[39m\u001b[38;5;124m\"\u001b[39m, \u001b[38;5;124m\"\u001b[39m\u001b[38;5;124mnb_high_ratio\u001b[39m\u001b[38;5;124m\"\u001b[39m, \u001b[38;5;124m\"\u001b[39m\u001b[38;5;124mtotal_weight\u001b[39m\u001b[38;5;124m\"\u001b[39m, \u001b[38;5;124m\"\u001b[39m\u001b[38;5;124mexo_weight\u001b[39m\u001b[38;5;124m\"\u001b[39m, \u001b[38;5;124m\"\u001b[39m\u001b[38;5;124mover_weight\u001b[39m\u001b[38;5;124m\"\u001b[39m]\n\u001b[0;32m     10\u001b[0m target \u001b[38;5;241m=\u001b[39m \u001b[38;5;124m\"\u001b[39m\u001b[38;5;124mnote\u001b[39m\u001b[38;5;124m\"\u001b[39m\n\u001b[1;32m---> 12\u001b[0m X \u001b[38;5;241m=\u001b[39m \u001b[43mdf\u001b[49m\u001b[43m[\u001b[49m\u001b[43mfeatures\u001b[49m\u001b[43m]\u001b[49m\n\u001b[0;32m     13\u001b[0m y \u001b[38;5;241m=\u001b[39m df[target]\n\u001b[0;32m     15\u001b[0m \u001b[38;5;66;03m# 3. Séparation train/test\u001b[39;00m\n",
      "File \u001b[1;32mc:\\Users\\mika0\\Projets\\Portfolio\\dofus-fm-evaluator\\.venv\\lib\\site-packages\\pandas\\core\\frame.py:3813\u001b[0m, in \u001b[0;36mDataFrame.__getitem__\u001b[1;34m(self, key)\u001b[0m\n\u001b[0;32m   3811\u001b[0m     \u001b[38;5;28;01mif\u001b[39;00m is_iterator(key):\n\u001b[0;32m   3812\u001b[0m         key \u001b[38;5;241m=\u001b[39m \u001b[38;5;28mlist\u001b[39m(key)\n\u001b[1;32m-> 3813\u001b[0m     indexer \u001b[38;5;241m=\u001b[39m \u001b[38;5;28;43mself\u001b[39;49m\u001b[38;5;241;43m.\u001b[39;49m\u001b[43mcolumns\u001b[49m\u001b[38;5;241;43m.\u001b[39;49m\u001b[43m_get_indexer_strict\u001b[49m\u001b[43m(\u001b[49m\u001b[43mkey\u001b[49m\u001b[43m,\u001b[49m\u001b[43m \u001b[49m\u001b[38;5;124;43m\"\u001b[39;49m\u001b[38;5;124;43mcolumns\u001b[39;49m\u001b[38;5;124;43m\"\u001b[39;49m\u001b[43m)\u001b[49m[\u001b[38;5;241m1\u001b[39m]\n\u001b[0;32m   3815\u001b[0m \u001b[38;5;66;03m# take() does not accept boolean indexers\u001b[39;00m\n\u001b[0;32m   3816\u001b[0m \u001b[38;5;28;01mif\u001b[39;00m \u001b[38;5;28mgetattr\u001b[39m(indexer, \u001b[38;5;124m\"\u001b[39m\u001b[38;5;124mdtype\u001b[39m\u001b[38;5;124m\"\u001b[39m, \u001b[38;5;28;01mNone\u001b[39;00m) \u001b[38;5;241m==\u001b[39m \u001b[38;5;28mbool\u001b[39m:\n",
      "File \u001b[1;32mc:\\Users\\mika0\\Projets\\Portfolio\\dofus-fm-evaluator\\.venv\\lib\\site-packages\\pandas\\core\\indexes\\base.py:6070\u001b[0m, in \u001b[0;36mIndex._get_indexer_strict\u001b[1;34m(self, key, axis_name)\u001b[0m\n\u001b[0;32m   6067\u001b[0m \u001b[38;5;28;01melse\u001b[39;00m:\n\u001b[0;32m   6068\u001b[0m     keyarr, indexer, new_indexer \u001b[38;5;241m=\u001b[39m \u001b[38;5;28mself\u001b[39m\u001b[38;5;241m.\u001b[39m_reindex_non_unique(keyarr)\n\u001b[1;32m-> 6070\u001b[0m \u001b[38;5;28;43mself\u001b[39;49m\u001b[38;5;241;43m.\u001b[39;49m\u001b[43m_raise_if_missing\u001b[49m\u001b[43m(\u001b[49m\u001b[43mkeyarr\u001b[49m\u001b[43m,\u001b[49m\u001b[43m \u001b[49m\u001b[43mindexer\u001b[49m\u001b[43m,\u001b[49m\u001b[43m \u001b[49m\u001b[43maxis_name\u001b[49m\u001b[43m)\u001b[49m\n\u001b[0;32m   6072\u001b[0m keyarr \u001b[38;5;241m=\u001b[39m \u001b[38;5;28mself\u001b[39m\u001b[38;5;241m.\u001b[39mtake(indexer)\n\u001b[0;32m   6073\u001b[0m \u001b[38;5;28;01mif\u001b[39;00m \u001b[38;5;28misinstance\u001b[39m(key, Index):\n\u001b[0;32m   6074\u001b[0m     \u001b[38;5;66;03m# GH 42790 - Preserve name from an Index\u001b[39;00m\n",
      "File \u001b[1;32mc:\\Users\\mika0\\Projets\\Portfolio\\dofus-fm-evaluator\\.venv\\lib\\site-packages\\pandas\\core\\indexes\\base.py:6133\u001b[0m, in \u001b[0;36mIndex._raise_if_missing\u001b[1;34m(self, key, indexer, axis_name)\u001b[0m\n\u001b[0;32m   6130\u001b[0m     \u001b[38;5;28;01mraise\u001b[39;00m \u001b[38;5;167;01mKeyError\u001b[39;00m(\u001b[38;5;124mf\u001b[39m\u001b[38;5;124m\"\u001b[39m\u001b[38;5;124mNone of [\u001b[39m\u001b[38;5;132;01m{\u001b[39;00mkey\u001b[38;5;132;01m}\u001b[39;00m\u001b[38;5;124m] are in the [\u001b[39m\u001b[38;5;132;01m{\u001b[39;00maxis_name\u001b[38;5;132;01m}\u001b[39;00m\u001b[38;5;124m]\u001b[39m\u001b[38;5;124m\"\u001b[39m)\n\u001b[0;32m   6132\u001b[0m not_found \u001b[38;5;241m=\u001b[39m \u001b[38;5;28mlist\u001b[39m(ensure_index(key)[missing_mask\u001b[38;5;241m.\u001b[39mnonzero()[\u001b[38;5;241m0\u001b[39m]]\u001b[38;5;241m.\u001b[39munique())\n\u001b[1;32m-> 6133\u001b[0m \u001b[38;5;28;01mraise\u001b[39;00m \u001b[38;5;167;01mKeyError\u001b[39;00m(\u001b[38;5;124mf\u001b[39m\u001b[38;5;124m\"\u001b[39m\u001b[38;5;132;01m{\u001b[39;00mnot_found\u001b[38;5;132;01m}\u001b[39;00m\u001b[38;5;124m not in index\u001b[39m\u001b[38;5;124m\"\u001b[39m)\n",
      "\u001b[1;31mKeyError\u001b[0m: \"['nb_high_ratio', 'over_weight'] not in index\""
     ]
    }
   ],
   "source": [
    "from sklearn.model_selection import train_test_split\n",
    "from sklearn.ensemble import RandomForestRegressor\n",
    "from sklearn.metrics import mean_squared_error, r2_score\n",
    "\n",
    "# 1. Génération des données\n",
    "df = pd.read_csv(\"../data/processed/item_dataset.csv\")\n",
    "\n",
    "# 2. Sélection des variables numériques\n",
    "features = [\n",
    "    \"nb_stats\", \"nb_perfect_lines\", \"nb_high_ratio\",\n",
    "    \"total_weight\", \"exo_weight\", \"over_weight\",\n",
    "    \"avg_ratio\", \"nb_essential_stats_ratio\",\n",
    "    \"nb_secondary_stats_ratio\", \"nb_heavy_stats_ratio\",\n",
    "    \"nb_resistance_pourcent_ratio\", \"nb_dommage_pourcent_ratio\"\n",
    "]\n",
    "target = \"note\"\n",
    "\n",
    "X = df[features]\n",
    "y = df[target]\n",
    "\n",
    "# 3. Séparation train/test\n",
    "X_train, X_test, y_train, y_test = train_test_split(X, y, test_size=0.2, random_state=42)\n",
    "\n",
    "# 4. Modèle\n",
    "model = RandomForestRegressor(n_estimators=100, random_state=42)\n",
    "model.fit(X_train, y_train)\n",
    "\n",
    "# 5. Prédictions\n",
    "y_pred = model.predict(X_test)\n",
    "\n",
    "# 6. Évaluation\n",
    "rmse = mean_squared_error(y_test, y_pred, squared=False)\n",
    "r2 = r2_score(y_test, y_pred)\n",
    "\n",
    "print(f\"RMSE : {rmse:.2f}\")\n",
    "print(f\"R² : {r2:.3f}\")"
   ]
  },
  {
   "cell_type": "markdown",
   "id": "03722533",
   "metadata": {
    "papermill": {
     "duration": 0.016047,
     "end_time": "2025-04-15T21:56:07.415728",
     "exception": false,
     "start_time": "2025-04-15T21:56:07.399681",
     "status": "completed"
    },
    "tags": []
   },
   "source": [
    "## 1.2. GradientBoostingRegressor"
   ]
  },
  {
   "cell_type": "code",
   "execution_count": null,
   "id": "d482ff5f",
   "metadata": {
    "execution": {
     "iopub.execute_input": "2025-04-15T21:56:07.450724Z",
     "iopub.status.busy": "2025-04-15T21:56:07.450269Z",
     "iopub.status.idle": "2025-04-15T21:56:10.354092Z",
     "shell.execute_reply": "2025-04-15T21:56:10.353089Z"
    },
    "papermill": {
     "duration": 2.923758,
     "end_time": "2025-04-15T21:56:10.356075",
     "exception": false,
     "start_time": "2025-04-15T21:56:07.432317",
     "status": "completed"
    },
    "tags": []
   },
   "outputs": [
    {
     "name": "stdout",
     "output_type": "stream",
     "text": [
      "GradientBoostingRegressor → RMSE : 8.41\n",
      "GradientBoostingRegressor → R² : 0.397\n"
     ]
    }
   ],
   "source": [
    "from sklearn.ensemble import GradientBoostingRegressor\n",
    "from sklearn.model_selection import train_test_split\n",
    "from sklearn.metrics import mean_squared_error, r2_score\n",
    "\n",
    "# Générer les données\n",
    "df = pd.read_csv(\"../data/processed/item_dataset.csv\")\n",
    "\n",
    "# Features utilisées pour l'entraînement\n",
    "features = [\"nb_stats\", \"nb_perfect_lines\", \"nb_high_ratio\", \"total_weight\", \"exo_weight\", \"over_weight\"]\n",
    "target = \"note\"\n",
    "\n",
    "X = df[features]\n",
    "y = df[target]\n",
    "\n",
    "# Split train/test\n",
    "X_train, X_test, y_train, y_test = train_test_split(X, y, test_size=0.2, random_state=42)\n",
    "\n",
    "# Modèle Gradient Boosting\n",
    "model = GradientBoostingRegressor(n_estimators=100, learning_rate=0.1, max_depth=3, random_state=42)\n",
    "model.fit(X_train, y_train)\n",
    "\n",
    "# Prédiction\n",
    "y_pred = model.predict(X_test)\n",
    "\n",
    "# Évaluation\n",
    "rmse = mean_squared_error(y_test, y_pred, squared=False)\n",
    "r2 = r2_score(y_test, y_pred)\n",
    "\n",
    "print(f\"GradientBoostingRegressor → RMSE : {rmse:.2f}\")\n",
    "print(f\"GradientBoostingRegressor → R² : {r2:.3f}\")"
   ]
  },
  {
   "cell_type": "markdown",
   "id": "d25699f7",
   "metadata": {
    "papermill": {
     "duration": 0.015991,
     "end_time": "2025-04-15T21:56:10.388214",
     "exception": false,
     "start_time": "2025-04-15T21:56:10.372223",
     "status": "completed"
    },
    "tags": []
   },
   "source": [
    "### 1.3. Bilan des modèles de regression\n",
    "On remarque que pour les deux premiers modèles, le RMSE semble correcte mais l'indicateur R2 semble indiquer que les  modèles ne prédisent pas correctement le comportement souhaité\n",
    "\n",
    "On va donc vérifier l'importance des features au sein du dataset"
   ]
  },
  {
   "cell_type": "code",
   "execution_count": null,
   "id": "04460621",
   "metadata": {
    "execution": {
     "iopub.execute_input": "2025-04-15T21:56:10.425238Z",
     "iopub.status.busy": "2025-04-15T21:56:10.424892Z",
     "iopub.status.idle": "2025-04-15T21:56:10.432910Z",
     "shell.execute_reply": "2025-04-15T21:56:10.431753Z"
    },
    "papermill": {
     "duration": 0.029864,
     "end_time": "2025-04-15T21:56:10.434669",
     "exception": false,
     "start_time": "2025-04-15T21:56:10.404805",
     "status": "completed"
    },
    "tags": []
   },
   "outputs": [
    {
     "name": "stdout",
     "output_type": "stream",
     "text": [
      "nb_stats : 0.346\n",
      "nb_perfect_lines : 0.427\n",
      "nb_high_ratio : 0.091\n",
      "total_weight : 0.083\n",
      "exo_weight : 0.002\n",
      "over_weight : 0.051\n"
     ]
    }
   ],
   "source": [
    "importances = model.feature_importances_\n",
    "for feat, imp in zip(features, importances):\n",
    "    print(f\"{feat} : {imp:.3f}\")\n"
   ]
  },
  {
   "cell_type": "markdown",
   "id": "aa2ffe77",
   "metadata": {
    "papermill": {
     "duration": 0.01616,
     "end_time": "2025-04-15T21:56:10.467000",
     "exception": false,
     "start_time": "2025-04-15T21:56:10.450840",
     "status": "completed"
    },
    "tags": []
   },
   "source": [
    "On remarque que le nb_perfect_lines joue un grand rôle dans l'évaluation ce qui est normal\n",
    "Il faut donc trouver une alternative pour enrichir les features ou simplifier la prédiction\n",
    "\n",
    "Remarque : essayons de classifier nos résultats afin de faire de la classification"
   ]
  },
  {
   "cell_type": "markdown",
   "id": "dabd88f1",
   "metadata": {
    "papermill": {
     "duration": 0.016363,
     "end_time": "2025-04-15T21:56:10.499718",
     "exception": false,
     "start_time": "2025-04-15T21:56:10.483355",
     "status": "completed"
    },
    "tags": []
   },
   "source": [
    "## 2. Modèle par classification\n",
    "## 2.1. RandomForestClassifier"
   ]
  },
  {
   "cell_type": "code",
   "execution_count": null,
   "id": "5b236653",
   "metadata": {
    "execution": {
     "iopub.execute_input": "2025-04-15T21:56:10.534468Z",
     "iopub.status.busy": "2025-04-15T21:56:10.534055Z",
     "iopub.status.idle": "2025-04-15T21:56:13.095910Z",
     "shell.execute_reply": "2025-04-15T21:56:13.094640Z"
    },
    "papermill": {
     "duration": 2.581815,
     "end_time": "2025-04-15T21:56:13.097851",
     "exception": false,
     "start_time": "2025-04-15T21:56:10.516036",
     "status": "completed"
    },
    "tags": []
   },
   "outputs": [
    {
     "name": "stdout",
     "output_type": "stream",
     "text": [
      "Classification Report (multi-classes) :\n",
      "               precision    recall  f1-score   support\n",
      "\n",
      "excellent jet       0.00      0.00      0.00         7\n",
      "  jet mauvais       0.40      0.35      0.37       519\n",
      "    jet moyen       0.50      0.49      0.50      1045\n",
      "  jet parfait       0.00      0.00      0.00        28\n",
      " très bon jet       0.65      0.70      0.68      1401\n",
      "\n",
      "     accuracy                           0.56      3000\n",
      "    macro avg       0.31      0.31      0.31      3000\n",
      " weighted avg       0.55      0.56      0.55      3000\n",
      "\n",
      "Matrice de confusion :\n",
      "[[  0   1   2   0   4]\n",
      " [  0 181 198   0 140]\n",
      " [  1 177 515   1 351]\n",
      " [  0   0   1   0  27]\n",
      " [  3  91 315   5 987]]\n"
     ]
    },
    {
     "data": {
      "image/png": "[encoded data removed]",
      "text/plain": [
       "<Figure size 800x400 with 1 Axes>"
      ]
     },
     "metadata": {},
     "output_type": "display_data"
    }
   ],
   "source": [
    "from sklearn.ensemble import RandomForestClassifier\n",
    "from sklearn.model_selection import train_test_split\n",
    "from sklearn.metrics import classification_report, confusion_matrix\n",
    "\n",
    "# Le dataset est supposé avoir été généré dans une cellule précédente\n",
    "# Exemple : df = generate_dataset()\n",
    "full_df = df.copy()\n",
    "\n",
    "# Ajout d'une colonne de classe multi-niveaux selon la note\n",
    "def label_item(note):\n",
    "    if note == 100:\n",
    "        return \"jet parfait\"\n",
    "    elif note > 95:\n",
    "        return \"excellent jet\"\n",
    "    elif note > 85:\n",
    "        return \"très bon jet\"\n",
    "    elif note > 70:\n",
    "        return \"jet moyen\"\n",
    "    else:\n",
    "        return \"jet mauvais\"\n",
    "\n",
    "full_df[\"qualité\"] = full_df[\"note\"].apply(label_item)\n",
    "\n",
    "# Enrichissement des features\n",
    "full_df[\"perfect_ratio\"] = full_df[\"nb_perfect_lines\"] / full_df[\"nb_stats\"]\n",
    "full_df[\"has_dommage\"] = full_df.columns.str.contains(\"dommage\") & full_df.notna().any()\n",
    "full_df[\"has_dommage\"] = full_df.apply(lambda row: any(\"dommage\" in col and row[col] > 0 for col in full_df.columns), axis=1)\n",
    "full_df[\"has_dommage_elementaire\"] = full_df.apply(lambda row: any(stat in row and row[stat] > 0 for stat in [\"dommage_feu\", \"dommage_air\", \"dommage_eau\", \"dommage_terre\", \"dommage_neutre\"]), axis=1)\n",
    "full_df[\"has_resistance_%\"] = full_df.apply(lambda row: any(\"résistance_\" in stat and \"%\" in stat and row[stat] > 0 for stat in row.index if stat in row), axis=1)\n",
    "\n",
    "# Sélection des features numériques enrichies\n",
    "X = full_df[[\"nb_stats\", \"nb_perfect_lines\", \"nb_high_ratio\", \"total_weight\", \"exo_weight\", \"over_weight\", \"perfect_ratio\", \"has_dommage\", \"has_dommage_elementaire\", \"has_resistance_%\"]]\n",
    "y = full_df[\"qualité\"]\n",
    "\n",
    "# Split données\n",
    "X_train, X_test, y_train, y_test = train_test_split(X, y, test_size=0.2, random_state=42)\n",
    "\n",
    "# Modèle\n",
    "clf = RandomForestClassifier(n_estimators=100, random_state=42)\n",
    "clf.fit(X_train, y_train)\n",
    "\n",
    "# Prédictions\n",
    "y_pred = clf.predict(X_test)\n",
    "\n",
    "# Évaluation\n",
    "print(\"Classification Report (multi-classes) :\")\n",
    "print(classification_report(y_test, y_pred))\n",
    "\n",
    "print(\"Matrice de confusion :\")\n",
    "print(confusion_matrix(y_test, y_pred))\n",
    "\n",
    "# Visualisation de la répartition des classes\n",
    "import seaborn as sns\n",
    "import matplotlib.pyplot as plt\n",
    "\n",
    "plt.figure(figsize=(8, 4))\n",
    "sns.countplot(data=full_df, x=\"qualité\", order=full_df[\"qualité\"].value_counts().index)\n",
    "plt.title(\"Répartition des classes de qualité\")\n",
    "plt.xlabel(\"Classe de qualité\")\n",
    "plt.ylabel(\"Nombre d'items\")\n",
    "plt.xticks(rotation=30)\n",
    "plt.grid(True)\n",
    "plt.tight_layout()\n",
    "plt.show()\n"
   ]
  },
  {
   "cell_type": "markdown",
   "id": "776b50e5",
   "metadata": {
    "papermill": {
     "duration": 0.01936,
     "end_time": "2025-04-15T21:56:13.135066",
     "exception": false,
     "start_time": "2025-04-15T21:56:13.115706",
     "status": "completed"
    },
    "tags": []
   },
   "source": [
    "On remarque qu'il y a beaucoup trop d'item avec un très bon jet.\n",
    "\n",
    "On va rééquilibrer le modèle pour qu'il se foacalise davantage sur les classes minoritaires"
   ]
  },
  {
   "cell_type": "markdown",
   "id": "fdc752d2",
   "metadata": {
    "papermill": {
     "duration": 0.016935,
     "end_time": "2025-04-15T21:56:13.169013",
     "exception": false,
     "start_time": "2025-04-15T21:56:13.152078",
     "status": "completed"
    },
    "tags": []
   },
   "source": [
    "## 2.2. RandomForestClassifier Balanced"
   ]
  },
  {
   "cell_type": "code",
   "execution_count": null,
   "id": "b9eb45f6",
   "metadata": {
    "execution": {
     "iopub.execute_input": "2025-04-15T21:56:13.204339Z",
     "iopub.status.busy": "2025-04-15T21:56:13.203986Z",
     "iopub.status.idle": "2025-04-15T21:56:15.845137Z",
     "shell.execute_reply": "2025-04-15T21:56:15.843976Z"
    },
    "papermill": {
     "duration": 2.661032,
     "end_time": "2025-04-15T21:56:15.846963",
     "exception": false,
     "start_time": "2025-04-15T21:56:13.185931",
     "status": "completed"
    },
    "tags": []
   },
   "outputs": [
    {
     "name": "stdout",
     "output_type": "stream",
     "text": [
      "Classification Report (multi-classes) :\n",
      "               precision    recall  f1-score   support\n",
      "\n",
      "excellent jet       0.00      0.00      0.00         7\n",
      "  jet mauvais       0.40      0.34      0.37       519\n",
      "    jet moyen       0.50      0.50      0.50      1045\n",
      "  jet parfait       0.00      0.00      0.00        28\n",
      " très bon jet       0.66      0.71      0.68      1401\n",
      "\n",
      "     accuracy                           0.57      3000\n",
      "    macro avg       0.31      0.31      0.31      3000\n",
      " weighted avg       0.55      0.57      0.56      3000\n",
      "\n",
      "Matrice de confusion :\n",
      "[[  0   0   2   0   5]\n",
      " [  0 179 208   0 132]\n",
      " [  1 173 523   0 348]\n",
      " [  0   0   1   0  27]\n",
      " [  2  95 306   4 994]]\n"
     ]
    },
    {
     "data": {
      "image/png": "[encoded data removed]",
      "text/plain": [
       "<Figure size 800x400 with 1 Axes>"
      ]
     },
     "metadata": {},
     "output_type": "display_data"
    }
   ],
   "source": [
    "from sklearn.ensemble import RandomForestClassifier\n",
    "from sklearn.model_selection import train_test_split\n",
    "from sklearn.metrics import classification_report, confusion_matrix\n",
    "\n",
    "# Le dataset est supposé avoir été généré dans une cellule précédente\n",
    "# Exemple : df = generate_dataset()\n",
    "full_df = df.copy()\n",
    "\n",
    "# Ajout d'une colonne de classe multi-niveaux selon la note\n",
    "def label_item(note):\n",
    "    if note == 100:\n",
    "        return \"jet parfait\"\n",
    "    elif note > 95:\n",
    "        return \"excellent jet\"\n",
    "    elif note > 85:\n",
    "        return \"très bon jet\"\n",
    "    elif note > 70:\n",
    "        return \"jet moyen\"\n",
    "    else:\n",
    "        return \"jet mauvais\"\n",
    "\n",
    "full_df[\"qualité\"] = full_df[\"note\"].apply(label_item)\n",
    "\n",
    "# Enrichissement des features\n",
    "full_df[\"perfect_ratio\"] = full_df[\"nb_perfect_lines\"] / full_df[\"nb_stats\"]\n",
    "full_df[\"has_dommage\"] = full_df.columns.str.contains(\"dommage\") & full_df.notna().any()\n",
    "full_df[\"has_dommage\"] = full_df.apply(lambda row: any(\"dommage\" in col and row[col] > 0 for col in full_df.columns), axis=1)\n",
    "full_df[\"has_dommage_elementaire\"] = full_df.apply(lambda row: any(stat in row and row[stat] > 0 for stat in [\"dommage_feu\", \"dommage_air\", \"dommage_eau\", \"dommage_terre\", \"dommage_neutre\"]), axis=1)\n",
    "full_df[\"has_resistance_%\"] = full_df.apply(lambda row: any(\"résistance_\" in stat and \"%\" in stat and row[stat] > 0 for stat in row.index if stat in row), axis=1)\n",
    "\n",
    "# Sélection des features numériques enrichies\n",
    "X = full_df[[\"nb_stats\", \"nb_perfect_lines\", \"nb_high_ratio\", \"total_weight\", \"exo_weight\", \"over_weight\", \"perfect_ratio\", \"has_dommage\", \"has_dommage_elementaire\", \"has_resistance_%\"]]\n",
    "y = full_df[\"qualité\"]\n",
    "\n",
    "# Split données\n",
    "X_train, X_test, y_train, y_test = train_test_split(X, y, test_size=0.2, random_state=42)\n",
    "\n",
    "# Modèle\n",
    "clf = RandomForestClassifier(n_estimators=100, class_weight=\"balanced\", random_state=42)\n",
    "clf.fit(X_train, y_train)\n",
    "\n",
    "# Prédictions\n",
    "y_pred = clf.predict(X_test)\n",
    "\n",
    "# Évaluation\n",
    "print(\"Classification Report (multi-classes) :\")\n",
    "print(classification_report(y_test, y_pred))\n",
    "\n",
    "print(\"Matrice de confusion :\")\n",
    "print(confusion_matrix(y_test, y_pred))\n",
    "\n",
    "# Visualisation de la répartition des classes\n",
    "import seaborn as sns\n",
    "import matplotlib.pyplot as plt\n",
    "\n",
    "plt.figure(figsize=(8, 4))\n",
    "sns.countplot(data=full_df, x=\"qualité\", order=full_df[\"qualité\"].value_counts().index)\n",
    "plt.title(\"Répartition des classes de qualité\")\n",
    "plt.xlabel(\"Classe de qualité\")\n",
    "plt.ylabel(\"Nombre d'items\")\n",
    "plt.xticks(rotation=30)\n",
    "plt.grid(True)\n",
    "plt.tight_layout()\n",
    "plt.show()"
   ]
  },
  {
   "cell_type": "markdown",
   "id": "9f33981e",
   "metadata": {
    "papermill": {
     "duration": 0.02009,
     "end_time": "2025-04-15T21:56:15.885997",
     "exception": false,
     "start_time": "2025-04-15T21:56:15.865907",
     "status": "completed"
    },
    "tags": []
   },
   "source": [
    "## 2.3. GradientBoostingClassifier"
   ]
  },
  {
   "cell_type": "code",
   "execution_count": null,
   "id": "c74eb8d6",
   "metadata": {
    "execution": {
     "iopub.execute_input": "2025-04-15T21:56:15.986807Z",
     "iopub.status.busy": "2025-04-15T21:56:15.986321Z",
     "iopub.status.idle": "2025-04-15T21:56:33.532146Z",
     "shell.execute_reply": "2025-04-15T21:56:33.530973Z"
    },
    "papermill": {
     "duration": 17.628289,
     "end_time": "2025-04-15T21:56:33.534195",
     "exception": false,
     "start_time": "2025-04-15T21:56:15.905906",
     "status": "completed"
    },
    "tags": []
   },
   "outputs": [
    {
     "name": "stdout",
     "output_type": "stream",
     "text": [
      "Classification Report (multi-classes) :\n",
      "               precision    recall  f1-score   support\n",
      "\n",
      "excellent jet       0.00      0.00      0.00         7\n",
      "  jet mauvais       0.68      0.25      0.36       519\n",
      "    jet moyen       0.52      0.59      0.55      1045\n",
      "  jet parfait       0.33      0.04      0.06        28\n",
      " très bon jet       0.67      0.78      0.72      1401\n",
      "\n",
      "     accuracy                           0.61      3000\n",
      "    macro avg       0.44      0.33      0.34      3000\n",
      " weighted avg       0.62      0.61      0.59      3000\n",
      "\n",
      "Matrice de confusion :\n",
      "[[   0    0    0    0    7]\n",
      " [   0  128  270    1  120]\n",
      " [   0   54  618    0  373]\n",
      " [   0    0    1    1   26]\n",
      " [   2    7  302    1 1089]]\n"
     ]
    },
    {
     "data": {
      "image/png": "[encoded data removed]",
      "text/plain": [
       "<Figure size 800x400 with 1 Axes>"
      ]
     },
     "metadata": {},
     "output_type": "display_data"
    }
   ],
   "source": [
    "from sklearn.ensemble import RandomForestClassifier\n",
    "from sklearn.model_selection import train_test_split\n",
    "from sklearn.metrics import classification_report, confusion_matrix\n",
    "\n",
    "# Le dataset est supposé avoir été généré dans une cellule précédente\n",
    "# Exemple : df = generate_dataset()\n",
    "full_df = df.copy()\n",
    "\n",
    "# Ajout d'une colonne de classe multi-niveaux selon la note\n",
    "def label_item(note):\n",
    "    if note == 100:\n",
    "        return \"jet parfait\"\n",
    "    elif note > 95:\n",
    "        return \"excellent jet\"\n",
    "    elif note > 85:\n",
    "        return \"très bon jet\"\n",
    "    elif note > 70:\n",
    "        return \"jet moyen\"\n",
    "    else:\n",
    "        return \"jet mauvais\"\n",
    "\n",
    "full_df[\"qualité\"] = full_df[\"note\"].apply(label_item)\n",
    "\n",
    "# Enrichissement des features\n",
    "full_df[\"perfect_ratio\"] = full_df[\"nb_perfect_lines\"] / full_df[\"nb_stats\"]\n",
    "full_df[\"has_dommage\"] = full_df.columns.str.contains(\"dommage\") & full_df.notna().any()\n",
    "full_df[\"has_dommage\"] = full_df.apply(lambda row: any(\"dommage\" in col and row[col] > 0 for col in full_df.columns), axis=1)\n",
    "full_df[\"has_dommage_elementaire\"] = full_df.apply(lambda row: any(stat in row and row[stat] > 0 for stat in [\"dommage_feu\", \"dommage_air\", \"dommage_eau\", \"dommage_terre\", \"dommage_neutre\"]), axis=1)\n",
    "full_df[\"has_resistance_%\"] = full_df.apply(lambda row: any(\"résistance_\" in stat and \"%\" in stat and row[stat] > 0 for stat in row.index if stat in row), axis=1)\n",
    "\n",
    "# Sélection des features numériques enrichies\n",
    "X = full_df[[\"nb_stats\", \"nb_perfect_lines\", \"nb_high_ratio\", \"total_weight\", \"exo_weight\", \"over_weight\", \"perfect_ratio\", \"has_dommage\", \"has_dommage_elementaire\", \"has_resistance_%\"]]\n",
    "y = full_df[\"qualité\"]\n",
    "\n",
    "# Split données\n",
    "X_train, X_test, y_train, y_test = train_test_split(X, y, test_size=0.2, random_state=42)\n",
    "\n",
    "# Modèle\n",
    "from sklearn.ensemble import GradientBoostingClassifier\n",
    "clf = GradientBoostingClassifier(n_estimators=200, learning_rate=0.05, max_depth=4, random_state=42)\n",
    "clf.fit(X_train, y_train)\n",
    "\n",
    "# Prédictions\n",
    "y_pred = clf.predict(X_test)\n",
    "\n",
    "# Évaluation\n",
    "print(\"Classification Report (multi-classes) :\")\n",
    "print(classification_report(y_test, y_pred))\n",
    "\n",
    "print(\"Matrice de confusion :\")\n",
    "print(confusion_matrix(y_test, y_pred))\n",
    "\n",
    "# Visualisation de la répartition des classes\n",
    "import seaborn as sns\n",
    "import matplotlib.pyplot as plt\n",
    "\n",
    "plt.figure(figsize=(8, 4))\n",
    "sns.countplot(data=full_df, x=\"qualité\", order=full_df[\"qualité\"].value_counts().index)\n",
    "plt.title(\"Répartition des classes de qualité\")\n",
    "plt.xlabel(\"Classe de qualité\")\n",
    "plt.ylabel(\"Nombre d'items\")\n",
    "plt.xticks(rotation=30)\n",
    "plt.grid(True)\n",
    "plt.tight_layout()\n",
    "plt.show()\n"
   ]
  },
  {
   "cell_type": "markdown",
   "id": "665fb9d2",
   "metadata": {
    "papermill": {
     "duration": 0.020239,
     "end_time": "2025-04-15T21:56:33.576097",
     "exception": false,
     "start_time": "2025-04-15T21:56:33.555858",
     "status": "completed"
    },
    "tags": []
   },
   "source": [
    "On va simplifier la classification"
   ]
  },
  {
   "cell_type": "markdown",
   "id": "c3caa1fb",
   "metadata": {
    "papermill": {
     "duration": 0.019045,
     "end_time": "2025-04-15T21:56:33.614734",
     "exception": false,
     "start_time": "2025-04-15T21:56:33.595689",
     "status": "completed"
    },
    "tags": []
   },
   "source": [
    "## 2.4. GradientBoostingClassifier simplified classes"
   ]
  },
  {
   "cell_type": "code",
   "execution_count": null,
   "id": "e5130382",
   "metadata": {
    "execution": {
     "iopub.execute_input": "2025-04-15T21:56:33.660005Z",
     "iopub.status.busy": "2025-04-15T21:56:33.659648Z",
     "iopub.status.idle": "2025-04-15T21:57:09.939152Z",
     "shell.execute_reply": "2025-04-15T21:57:09.937980Z"
    },
    "papermill": {
     "duration": 36.324965,
     "end_time": "2025-04-15T21:57:09.959850",
     "exception": false,
     "start_time": "2025-04-15T21:56:33.634885",
     "status": "completed"
    },
    "tags": []
   },
   "outputs": [
    {
     "name": "stdout",
     "output_type": "stream",
     "text": [
      "Classification Report (simplifié) :\n",
      "              precision    recall  f1-score   support\n",
      "\n",
      " jet mauvais       0.55      0.34      0.42       696\n",
      "   jet moyen       0.67      0.83      0.74      1732\n",
      " jet parfait       0.00      0.00      0.00        28\n",
      "très bon jet       0.58      0.44      0.50       544\n",
      "\n",
      "    accuracy                           0.64      3000\n",
      "   macro avg       0.45      0.40      0.41      3000\n",
      "weighted avg       0.62      0.64      0.62      3000\n",
      "\n",
      "Matrice de confusion :\n",
      "[[ 234  427    0   35]\n",
      " [ 163 1446    2  121]\n",
      " [   1    8    0   19]\n",
      " [  25  280    2  237]]\n"
     ]
    }
   ],
   "source": [
    "from sklearn.ensemble import RandomForestClassifier\n",
    "from sklearn.model_selection import train_test_split\n",
    "from sklearn.metrics import classification_report, confusion_matrix\n",
    "\n",
    "# Le dataset est supposé avoir été généré dans une cellule précédente\n",
    "# Exemple : df = generate_dataset()\n",
    "full_df = df.copy()\n",
    "\n",
    "# Ajout d'une colonne de classe multi-niveaux selon la note\n",
    "def label_item(note):\n",
    "    if note == 100:\n",
    "        return \"jet parfait\"\n",
    "    elif note > 90:\n",
    "        return \"très bon jet\"\n",
    "    elif note > 75:\n",
    "        return \"jet moyen\"\n",
    "    else:\n",
    "        return \"jet mauvais\"\n",
    "\n",
    "full_df[\"qualité\"] = full_df[\"note\"].apply(label_item)\n",
    "\n",
    "# Ajout des features dérivées manquantes\n",
    "full_df[\"perfect_ratio\"] = full_df[\"nb_perfect_lines\"] / full_df[\"nb_stats\"]\n",
    "full_df[\"has_dommage\"] = full_df.apply(lambda row: any(\"dommage\" in col and row[col] > 0 for col in full_df.columns), axis=1)\n",
    "full_df[\"has_dommage_elementaire\"] = full_df.apply(lambda row: any(stat in row and row[stat] > 0 for stat in [\"dommage_feu\", \"dommage_air\", \"dommage_eau\", \"dommage_terre\", \"dommage_neutre\"]), axis=1)\n",
    "full_df[\"has_resistance_%\"] = full_df.apply(lambda row: any(\"résistance_\" in stat and \"%\" in stat and row[stat] > 0 for stat in row.index if stat in row), axis=1)\n",
    "\n",
    "# Sélection des features\n",
    "X = full_df[[\"nb_stats\", \"nb_perfect_lines\", \"nb_high_ratio\", \"total_weight\",\n",
    "             \"exo_weight\", \"over_weight\", \"perfect_ratio\",\n",
    "             \"has_dommage\", \"has_dommage_elementaire\", \"has_resistance_%\"]]\n",
    "y = full_df[\"qualité\"]\n",
    "\n",
    "# Split\n",
    "df_train, df_test, y_train, y_test = train_test_split(X, y, test_size=0.2, random_state=42)\n",
    "\n",
    "# Modèle\n",
    "from sklearn.ensemble import GradientBoostingClassifier\n",
    "clf = GradientBoostingClassifier(n_estimators=200, learning_rate=0.05, max_depth=10, random_state=42)\n",
    "clf.fit(df_train, y_train)\n",
    "\n",
    "# Prédiction\n",
    "y_pred = clf.predict(df_test)\n",
    "\n",
    "# Évaluation\n",
    "print(\"Classification Report (simplifié) :\")\n",
    "print(classification_report(y_test, y_pred))\n",
    "\n",
    "print(\"Matrice de confusion :\")\n",
    "print(confusion_matrix(y_test, y_pred))"
   ]
  }
 ],
 "metadata": {
  "kaggle": {
   "accelerator": "none",
   "dataSources": [],
   "dockerImageVersionId": 30918,
   "isGpuEnabled": false,
   "isInternetEnabled": false,
   "language": "python",
   "sourceType": "notebook"
  },
  "kernelspec": {
   "display_name": ".venv",
   "language": "python",
   "name": "python3"
  },
  "language_info": {
   "codemirror_mode": {
    "name": "ipython",
    "version": 3
   },
   "file_extension": ".py",
   "mimetype": "text/x-python",
   "name": "python",
   "nbconvert_exporter": "python",
   "pygments_lexer": "ipython3",
   "version": "3.10.11"
  },
  "papermill": {
   "default_parameters": {},
   "duration": 81.507858,
   "end_time": "2025-04-15T21:57:10.802036",
   "environment_variables": {},
   "exception": null,
   "input_path": "__notebook__.ipynb",
   "output_path": "__notebook__.ipynb",
   "parameters": {},
   "start_time": "2025-04-15T21:55:49.294178",
   "version": "2.6.0"
  }
 },
 "nbformat": 4,
 "nbformat_minor": 5
}
