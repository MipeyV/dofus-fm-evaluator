{
 "cells": [
  {
   "cell_type": "markdown",
   "id": "2ead254e",
   "metadata": {
    "papermill": {
     "duration": 0.012651,
     "end_time": "2025-04-15T21:55:52.972522",
     "exception": false,
     "start_time": "2025-04-15T21:55:52.959871",
     "status": "completed"
    },
    "tags": []
   },
   "source": [
    "# Objectif de ce notebook\n",
    "1. Evaluer la qualité des datasets générés par 0_generate_dataset.ipynb\n",
    "2. Explorer les données des datasets"
   ]
  },
  {
   "cell_type": "markdown",
   "id": "398a651a",
   "metadata": {
    "papermill": {
     "duration": 0.010042,
     "end_time": "2025-04-15T21:55:52.992830",
     "exception": false,
     "start_time": "2025-04-15T21:55:52.982788",
     "status": "completed"
    },
    "tags": []
   },
   "source": [
    "# Importer toutes les libraries nécessaires avec la cellule suivante"
   ]
  },
  {
   "cell_type": "code",
   "execution_count": null,
   "id": "9ff4ab52",
   "metadata": {
    "_cell_guid": "b1076dfc-b9ad-4769-8c92-a6c4dae69d19",
    "_uuid": "8f2839f25d086af736a60e9eeb907d3b93b6e0e5",
    "execution": {
     "iopub.execute_input": "2025-04-15T21:55:53.014286Z",
     "iopub.status.busy": "2025-04-15T21:55:53.013796Z",
     "iopub.status.idle": "2025-04-15T21:55:54.076126Z",
     "shell.execute_reply": "2025-04-15T21:55:54.074884Z"
    },
    "papermill": {
     "duration": 1.076647,
     "end_time": "2025-04-15T21:55:54.079492",
     "exception": false,
     "start_time": "2025-04-15T21:55:53.002845",
     "status": "completed"
    },
    "tags": []
   },
   "outputs": [],
   "source": [
    "import numpy as np\n",
    "import pandas as pd\n",
    "import random\n",
    "import string"
   ]
  },
  {
   "cell_type": "markdown",
   "id": "c6fca5e0",
   "metadata": {
    "papermill": {
     "duration": 0.015734,
     "end_time": "2025-04-15T21:56:01.524306",
     "exception": false,
     "start_time": "2025-04-15T21:56:01.508572",
     "status": "completed"
    },
    "tags": []
   },
   "source": [
    "# ****Modélisation et prédiction****\n",
    "## Objectifs\n",
    "- Déterminer le modèle le plus adéquate pour prédire la note d'un item\n",
    "- Tester plusieurs modèles, les évaluer et garder le meilleur modèle"
   ]
  },
  {
   "cell_type": "markdown",
   "id": "2a780dcb",
   "metadata": {
    "papermill": {
     "duration": 0.015788,
     "end_time": "2025-04-15T21:56:01.556021",
     "exception": false,
     "start_time": "2025-04-15T21:56:01.540233",
     "status": "completed"
    },
    "tags": []
   },
   "source": [
    "## 1. Modèles de regression\n",
    "## 1.1. RandomForestRegressor"
   ]
  },
  {
   "cell_type": "code",
   "execution_count": null,
   "id": "f548f118",
   "metadata": {
    "execution": {
     "iopub.execute_input": "2025-04-15T21:56:01.590050Z",
     "iopub.status.busy": "2025-04-15T21:56:01.589692Z",
     "iopub.status.idle": "2025-04-15T21:56:07.379655Z",
     "shell.execute_reply": "2025-04-15T21:56:07.378283Z"
    },
    "papermill": {
     "duration": 5.809881,
     "end_time": "2025-04-15T21:56:07.381888",
     "exception": false,
     "start_time": "2025-04-15T21:56:01.572007",
     "status": "completed"
    },
    "tags": []
   },
   "outputs": [
    {
     "name": "stdout",
     "output_type": "stream",
     "text": [
      "RMSE : 8.75\n",
      "R² : 0.368\n"
     ]
    }
   ],
   "source": [
    "from sklearn.model_selection import train_test_split\n",
    "from sklearn.ensemble import RandomForestRegressor\n",
    "from sklearn.metrics import mean_squared_error, r2_score\n",
    "\n",
    "# 1. Génération des données\n",
    "df = pd.read_csv(\"../data/item_dataset.csv\")\n",
    "\n",
    "# 2. Sélection des variables numériques\n",
    "features = [\"nb_stats\", \"nb_perfect_lines\", \"nb_high_ratio\", \"total_weight\", \"exo_weight\", \"over_weight\"]\n",
    "target = \"note\"\n",
    "\n",
    "X = df[features]\n",
    "y = df[target]\n",
    "\n",
    "# 3. Séparation train/test\n",
    "X_train, X_test, y_train, y_test = train_test_split(X, y, test_size=0.2, random_state=42)\n",
    "\n",
    "# 4. Modèle\n",
    "model = RandomForestRegressor(n_estimators=100, random_state=42)\n",
    "model.fit(X_train, y_train)\n",
    "\n",
    "# 5. Prédictions\n",
    "y_pred = model.predict(X_test)\n",
    "\n",
    "# 6. Évaluation\n",
    "rmse = mean_squared_error(y_test, y_pred, squared=False)\n",
    "r2 = r2_score(y_test, y_pred)\n",
    "\n",
    "print(f\"RMSE : {rmse:.2f}\")\n",
    "print(f\"R² : {r2:.3f}\")"
   ]
  },
  {
   "cell_type": "markdown",
   "id": "03722533",
   "metadata": {
    "papermill": {
     "duration": 0.016047,
     "end_time": "2025-04-15T21:56:07.415728",
     "exception": false,
     "start_time": "2025-04-15T21:56:07.399681",
     "status": "completed"
    },
    "tags": []
   },
   "source": [
    "## 1.2. GradientBoostingRegressor"
   ]
  },
  {
   "cell_type": "code",
   "execution_count": null,
   "id": "d482ff5f",
   "metadata": {
    "execution": {
     "iopub.execute_input": "2025-04-15T21:56:07.450724Z",
     "iopub.status.busy": "2025-04-15T21:56:07.450269Z",
     "iopub.status.idle": "2025-04-15T21:56:10.354092Z",
     "shell.execute_reply": "2025-04-15T21:56:10.353089Z"
    },
    "papermill": {
     "duration": 2.923758,
     "end_time": "2025-04-15T21:56:10.356075",
     "exception": false,
     "start_time": "2025-04-15T21:56:07.432317",
     "status": "completed"
    },
    "tags": []
   },
   "outputs": [
    {
     "name": "stdout",
     "output_type": "stream",
     "text": [
      "GradientBoostingRegressor → RMSE : 8.78\n",
      "GradientBoostingRegressor → R² : 0.448\n"
     ]
    }
   ],
   "source": [
    "from sklearn.ensemble import GradientBoostingRegressor\n",
    "from sklearn.model_selection import train_test_split\n",
    "from sklearn.metrics import mean_squared_error, r2_score\n",
    "\n",
    "# Générer les données\n",
    "df = pd.read_csv(\"../data/item_dataset.csv\")\n",
    "\n",
    "# Features utilisées pour l'entraînement\n",
    "features = [\"nb_stats\", \"nb_perfect_lines\", \"nb_high_ratio\", \"total_weight\", \"exo_weight\", \"over_weight\"]\n",
    "target = \"note\"\n",
    "\n",
    "X = df[features]\n",
    "y = df[target]\n",
    "\n",
    "# Split train/test\n",
    "X_train, X_test, y_train, y_test = train_test_split(X, y, test_size=0.2, random_state=42)\n",
    "\n",
    "# Modèle Gradient Boosting\n",
    "model = GradientBoostingRegressor(n_estimators=100, learning_rate=0.1, max_depth=3, random_state=42)\n",
    "model.fit(X_train, y_train)\n",
    "\n",
    "# Prédiction\n",
    "y_pred = model.predict(X_test)\n",
    "\n",
    "# Évaluation\n",
    "rmse = mean_squared_error(y_test, y_pred, squared=False)\n",
    "r2 = r2_score(y_test, y_pred)\n",
    "\n",
    "print(f\"GradientBoostingRegressor → RMSE : {rmse:.2f}\")\n",
    "print(f\"GradientBoostingRegressor → R² : {r2:.3f}\")"
   ]
  },
  {
   "cell_type": "markdown",
   "id": "d25699f7",
   "metadata": {
    "papermill": {
     "duration": 0.015991,
     "end_time": "2025-04-15T21:56:10.388214",
     "exception": false,
     "start_time": "2025-04-15T21:56:10.372223",
     "status": "completed"
    },
    "tags": []
   },
   "source": [
    "### 1.3. Bilan des modèles de regression\n",
    "On remarque que pour les deux premiers modèles, le RMSE semble correcte mais l'indicateur R2 semble indiquer que les  modèles ne prédisent pas correctement le comportement souhaité\n",
    "\n",
    "On va donc vérifier l'importance des features au sein du dataset"
   ]
  },
  {
   "cell_type": "code",
   "execution_count": 22,
   "id": "04460621",
   "metadata": {
    "execution": {
     "iopub.execute_input": "2025-04-15T21:56:10.425238Z",
     "iopub.status.busy": "2025-04-15T21:56:10.424892Z",
     "iopub.status.idle": "2025-04-15T21:56:10.432910Z",
     "shell.execute_reply": "2025-04-15T21:56:10.431753Z"
    },
    "papermill": {
     "duration": 0.029864,
     "end_time": "2025-04-15T21:56:10.434669",
     "exception": false,
     "start_time": "2025-04-15T21:56:10.404805",
     "status": "completed"
    },
    "tags": []
   },
   "outputs": [
    {
     "name": "stdout",
     "output_type": "stream",
     "text": [
      "nb_stats : 0.461\n",
      "nb_perfect_lines : 0.279\n",
      "nb_high_ratio : 0.054\n",
      "total_weight : 0.158\n",
      "exo_weight : 0.018\n",
      "over_weight : 0.031\n"
     ]
    }
   ],
   "source": [
    "importances = model.feature_importances_\n",
    "for feat, imp in zip(features, importances):\n",
    "    print(f\"{feat} : {imp:.3f}\")\n"
   ]
  },
  {
   "cell_type": "markdown",
   "id": "aa2ffe77",
   "metadata": {
    "papermill": {
     "duration": 0.01616,
     "end_time": "2025-04-15T21:56:10.467000",
     "exception": false,
     "start_time": "2025-04-15T21:56:10.450840",
     "status": "completed"
    },
    "tags": []
   },
   "source": [
    "On remarque que le nb_perfect_lines joue un grand rôle dans l'évaluation ce qui est normal\n",
    "Il faut donc trouver une alternative pour enrichir les features ou simplifier la prédiction\n",
    "\n",
    "Remarque : essayons de classifier nos résultats afin de faire de la classification"
   ]
  },
  {
   "cell_type": "markdown",
   "id": "dabd88f1",
   "metadata": {
    "papermill": {
     "duration": 0.016363,
     "end_time": "2025-04-15T21:56:10.499718",
     "exception": false,
     "start_time": "2025-04-15T21:56:10.483355",
     "status": "completed"
    },
    "tags": []
   },
   "source": [
    "## 2. Modèle par classification\n",
    "## 2.1. RandomForestClassifier"
   ]
  },
  {
   "cell_type": "code",
   "execution_count": 23,
   "id": "5b236653",
   "metadata": {
    "execution": {
     "iopub.execute_input": "2025-04-15T21:56:10.534468Z",
     "iopub.status.busy": "2025-04-15T21:56:10.534055Z",
     "iopub.status.idle": "2025-04-15T21:56:13.095910Z",
     "shell.execute_reply": "2025-04-15T21:56:13.094640Z"
    },
    "papermill": {
     "duration": 2.581815,
     "end_time": "2025-04-15T21:56:13.097851",
     "exception": false,
     "start_time": "2025-04-15T21:56:10.516036",
     "status": "completed"
    },
    "tags": []
   },
   "outputs": [
    {
     "name": "stdout",
     "output_type": "stream",
     "text": [
      "Classification Report (multi-classes) :\n",
      "               precision    recall  f1-score   support\n",
      "\n",
      "excellent jet       0.00      0.00      0.00        17\n",
      "  jet mauvais       0.47      0.43      0.45       591\n",
      "    jet moyen       0.48      0.49      0.49       981\n",
      "  jet parfait       0.67      0.09      0.16        22\n",
      " très bon jet       0.68      0.71      0.69      1389\n",
      "\n",
      "     accuracy                           0.57      3000\n",
      "    macro avg       0.46      0.34      0.36      3000\n",
      " weighted avg       0.57      0.57      0.57      3000\n",
      "\n",
      "Matrice de confusion :\n",
      "[[  0   0   4   0  13]\n",
      " [  1 256 219   0 115]\n",
      " [  1 178 479   0 323]\n",
      " [  1   0   1   2  18]\n",
      " [  6 113 285   1 984]]\n"
     ]
    },
    {
     "data": {
      "image/png": "[encoded data removed]",
      "text/plain": [
       "<Figure size 800x400 with 1 Axes>"
      ]
     },
     "metadata": {},
     "output_type": "display_data"
    }
   ],
   "source": [
    "from sklearn.ensemble import RandomForestClassifier\n",
    "from sklearn.model_selection import train_test_split\n",
    "from sklearn.metrics import classification_report, confusion_matrix\n",
    "\n",
    "# Le dataset est supposé avoir été généré dans une cellule précédente\n",
    "# Exemple : df = generate_dataset()\n",
    "full_df = df.copy()\n",
    "\n",
    "# Ajout d'une colonne de classe multi-niveaux selon la note\n",
    "def label_item(note):\n",
    "    if note == 100:\n",
    "        return \"jet parfait\"\n",
    "    elif note > 95:\n",
    "        return \"excellent jet\"\n",
    "    elif note > 85:\n",
    "        return \"très bon jet\"\n",
    "    elif note > 70:\n",
    "        return \"jet moyen\"\n",
    "    else:\n",
    "        return \"jet mauvais\"\n",
    "\n",
    "full_df[\"qualité\"] = full_df[\"note\"].apply(label_item)\n",
    "\n",
    "# Enrichissement des features\n",
    "full_df[\"perfect_ratio\"] = full_df[\"nb_perfect_lines\"] / full_df[\"nb_stats\"]\n",
    "full_df[\"has_dommage\"] = full_df.columns.str.contains(\"dommage\") & full_df.notna().any()\n",
    "full_df[\"has_dommage\"] = full_df.apply(lambda row: any(\"dommage\" in col and row[col] > 0 for col in full_df.columns), axis=1)\n",
    "full_df[\"has_dommage_elementaire\"] = full_df.apply(lambda row: any(stat in row and row[stat] > 0 for stat in [\"dommage_feu\", \"dommage_air\", \"dommage_eau\", \"dommage_terre\", \"dommage_neutre\"]), axis=1)\n",
    "full_df[\"has_resistance_%\"] = full_df.apply(lambda row: any(\"résistance_\" in stat and \"%\" in stat and row[stat] > 0 for stat in row.index if stat in row), axis=1)\n",
    "\n",
    "# Sélection des features numériques enrichies\n",
    "X = full_df[[\"nb_stats\", \"nb_perfect_lines\", \"nb_high_ratio\", \"total_weight\", \"exo_weight\", \"over_weight\", \"perfect_ratio\", \"has_dommage\", \"has_dommage_elementaire\", \"has_resistance_%\"]]\n",
    "y = full_df[\"qualité\"]\n",
    "\n",
    "# Split données\n",
    "X_train, X_test, y_train, y_test = train_test_split(X, y, test_size=0.2, random_state=42)\n",
    "\n",
    "# Modèle\n",
    "clf = RandomForestClassifier(n_estimators=100, random_state=42)\n",
    "clf.fit(X_train, y_train)\n",
    "\n",
    "# Prédictions\n",
    "y_pred = clf.predict(X_test)\n",
    "\n",
    "# Évaluation\n",
    "print(\"Classification Report (multi-classes) :\")\n",
    "print(classification_report(y_test, y_pred))\n",
    "\n",
    "print(\"Matrice de confusion :\")\n",
    "print(confusion_matrix(y_test, y_pred))\n",
    "\n",
    "# Visualisation de la répartition des classes\n",
    "import seaborn as sns\n",
    "import matplotlib.pyplot as plt\n",
    "\n",
    "plt.figure(figsize=(8, 4))\n",
    "sns.countplot(data=full_df, x=\"qualité\", order=full_df[\"qualité\"].value_counts().index)\n",
    "plt.title(\"Répartition des classes de qualité\")\n",
    "plt.xlabel(\"Classe de qualité\")\n",
    "plt.ylabel(\"Nombre d'items\")\n",
    "plt.xticks(rotation=30)\n",
    "plt.grid(True)\n",
    "plt.tight_layout()\n",
    "plt.show()\n"
   ]
  },
  {
   "cell_type": "markdown",
   "id": "776b50e5",
   "metadata": {
    "papermill": {
     "duration": 0.01936,
     "end_time": "2025-04-15T21:56:13.135066",
     "exception": false,
     "start_time": "2025-04-15T21:56:13.115706",
     "status": "completed"
    },
    "tags": []
   },
   "source": [
    "On remarque qu'il y a beaucoup trop d'item avec un très bon jet.\n",
    "\n",
    "On va rééquilibrer le modèle pour qu'il se foacalise davantage sur les classes minoritaires"
   ]
  },
  {
   "cell_type": "markdown",
   "id": "fdc752d2",
   "metadata": {
    "papermill": {
     "duration": 0.016935,
     "end_time": "2025-04-15T21:56:13.169013",
     "exception": false,
     "start_time": "2025-04-15T21:56:13.152078",
     "status": "completed"
    },
    "tags": []
   },
   "source": [
    "## 2.2. RandomForestClassifier Balanced"
   ]
  },
  {
   "cell_type": "code",
   "execution_count": 24,
   "id": "b9eb45f6",
   "metadata": {
    "execution": {
     "iopub.execute_input": "2025-04-15T21:56:13.204339Z",
     "iopub.status.busy": "2025-04-15T21:56:13.203986Z",
     "iopub.status.idle": "2025-04-15T21:56:15.845137Z",
     "shell.execute_reply": "2025-04-15T21:56:15.843976Z"
    },
    "papermill": {
     "duration": 2.661032,
     "end_time": "2025-04-15T21:56:15.846963",
     "exception": false,
     "start_time": "2025-04-15T21:56:13.185931",
     "status": "completed"
    },
    "tags": []
   },
   "outputs": [
    {
     "name": "stdout",
     "output_type": "stream",
     "text": [
      "Classification Report (multi-classes) :\n",
      "               precision    recall  f1-score   support\n",
      "\n",
      "excellent jet       0.00      0.00      0.00        17\n",
      "  jet mauvais       0.45      0.43      0.44       591\n",
      "    jet moyen       0.49      0.49      0.49       981\n",
      "  jet parfait       0.50      0.05      0.08        22\n",
      " très bon jet       0.68      0.70      0.69      1389\n",
      "\n",
      "     accuracy                           0.57      3000\n",
      "    macro avg       0.42      0.33      0.34      3000\n",
      " weighted avg       0.57      0.57      0.57      3000\n",
      "\n",
      "Matrice de confusion :\n",
      "[[  0   0   4   0  13]\n",
      " [  0 256 219   0 116]\n",
      " [  1 186 479   0 315]\n",
      " [  1   0   2   1  18]\n",
      " [  5 123 283   1 977]]\n"
     ]
    },
    {
     "data": {
      "image/png": "[encoded data removed]",
      "text/plain": [
       "<Figure size 800x400 with 1 Axes>"
      ]
     },
     "metadata": {},
     "output_type": "display_data"
    }
   ],
   "source": [
    "from sklearn.ensemble import RandomForestClassifier\n",
    "from sklearn.model_selection import train_test_split\n",
    "from sklearn.metrics import classification_report, confusion_matrix\n",
    "\n",
    "# Le dataset est supposé avoir été généré dans une cellule précédente\n",
    "# Exemple : df = generate_dataset()\n",
    "full_df = df.copy()\n",
    "\n",
    "# Ajout d'une colonne de classe multi-niveaux selon la note\n",
    "def label_item(note):\n",
    "    if note == 100:\n",
    "        return \"jet parfait\"\n",
    "    elif note > 95:\n",
    "        return \"excellent jet\"\n",
    "    elif note > 85:\n",
    "        return \"très bon jet\"\n",
    "    elif note > 70:\n",
    "        return \"jet moyen\"\n",
    "    else:\n",
    "        return \"jet mauvais\"\n",
    "\n",
    "full_df[\"qualité\"] = full_df[\"note\"].apply(label_item)\n",
    "\n",
    "# Enrichissement des features\n",
    "full_df[\"perfect_ratio\"] = full_df[\"nb_perfect_lines\"] / full_df[\"nb_stats\"]\n",
    "full_df[\"has_dommage\"] = full_df.columns.str.contains(\"dommage\") & full_df.notna().any()\n",
    "full_df[\"has_dommage\"] = full_df.apply(lambda row: any(\"dommage\" in col and row[col] > 0 for col in full_df.columns), axis=1)\n",
    "full_df[\"has_dommage_elementaire\"] = full_df.apply(lambda row: any(stat in row and row[stat] > 0 for stat in [\"dommage_feu\", \"dommage_air\", \"dommage_eau\", \"dommage_terre\", \"dommage_neutre\"]), axis=1)\n",
    "full_df[\"has_resistance_%\"] = full_df.apply(lambda row: any(\"résistance_\" in stat and \"%\" in stat and row[stat] > 0 for stat in row.index if stat in row), axis=1)\n",
    "\n",
    "# Sélection des features numériques enrichies\n",
    "X = full_df[[\"nb_stats\", \"nb_perfect_lines\", \"nb_high_ratio\", \"total_weight\", \"exo_weight\", \"over_weight\", \"perfect_ratio\", \"has_dommage\", \"has_dommage_elementaire\", \"has_resistance_%\"]]\n",
    "y = full_df[\"qualité\"]\n",
    "\n",
    "# Split données\n",
    "X_train, X_test, y_train, y_test = train_test_split(X, y, test_size=0.2, random_state=42)\n",
    "\n",
    "# Modèle\n",
    "clf = RandomForestClassifier(n_estimators=100, class_weight=\"balanced\", random_state=42)\n",
    "clf.fit(X_train, y_train)\n",
    "\n",
    "# Prédictions\n",
    "y_pred = clf.predict(X_test)\n",
    "\n",
    "# Évaluation\n",
    "print(\"Classification Report (multi-classes) :\")\n",
    "print(classification_report(y_test, y_pred))\n",
    "\n",
    "print(\"Matrice de confusion :\")\n",
    "print(confusion_matrix(y_test, y_pred))\n",
    "\n",
    "# Visualisation de la répartition des classes\n",
    "import seaborn as sns\n",
    "import matplotlib.pyplot as plt\n",
    "\n",
    "plt.figure(figsize=(8, 4))\n",
    "sns.countplot(data=full_df, x=\"qualité\", order=full_df[\"qualité\"].value_counts().index)\n",
    "plt.title(\"Répartition des classes de qualité\")\n",
    "plt.xlabel(\"Classe de qualité\")\n",
    "plt.ylabel(\"Nombre d'items\")\n",
    "plt.xticks(rotation=30)\n",
    "plt.grid(True)\n",
    "plt.tight_layout()\n",
    "plt.show()"
   ]
  },
  {
   "cell_type": "markdown",
   "id": "9f33981e",
   "metadata": {
    "papermill": {
     "duration": 0.02009,
     "end_time": "2025-04-15T21:56:15.885997",
     "exception": false,
     "start_time": "2025-04-15T21:56:15.865907",
     "status": "completed"
    },
    "tags": []
   },
   "source": [
    "## 2.3. GradientBoostingClassifier"
   ]
  },
  {
   "cell_type": "code",
   "execution_count": 25,
   "id": "c74eb8d6",
   "metadata": {
    "execution": {
     "iopub.execute_input": "2025-04-15T21:56:15.986807Z",
     "iopub.status.busy": "2025-04-15T21:56:15.986321Z",
     "iopub.status.idle": "2025-04-15T21:56:33.532146Z",
     "shell.execute_reply": "2025-04-15T21:56:33.530973Z"
    },
    "papermill": {
     "duration": 17.628289,
     "end_time": "2025-04-15T21:56:33.534195",
     "exception": false,
     "start_time": "2025-04-15T21:56:15.905906",
     "status": "completed"
    },
    "tags": []
   },
   "outputs": [
    {
     "name": "stdout",
     "output_type": "stream",
     "text": [
      "Classification Report (multi-classes) :\n",
      "               precision    recall  f1-score   support\n",
      "\n",
      "excellent jet       0.00      0.00      0.00        17\n",
      "  jet mauvais       0.60      0.39      0.47       591\n",
      "    jet moyen       0.51      0.53      0.52       981\n",
      "  jet parfait       0.71      0.23      0.34        22\n",
      " très bon jet       0.69      0.79      0.74      1389\n",
      "\n",
      "     accuracy                           0.62      3000\n",
      "    macro avg       0.50      0.39      0.42      3000\n",
      " weighted avg       0.61      0.62      0.61      3000\n",
      "\n",
      "Matrice de confusion :\n",
      "[[   0    0    1    0   16]\n",
      " [   0  228  257    0  106]\n",
      " [   0  108  524    0  349]\n",
      " [   0    0    0    5   17]\n",
      " [   2   45  237    2 1103]]\n"
     ]
    },
    {
     "data": {
      "image/png": "[encoded data removed]",
      "text/plain": [
       "<Figure size 800x400 with 1 Axes>"
      ]
     },
     "metadata": {},
     "output_type": "display_data"
    }
   ],
   "source": [
    "from sklearn.ensemble import RandomForestClassifier\n",
    "from sklearn.model_selection import train_test_split\n",
    "from sklearn.metrics import classification_report, confusion_matrix\n",
    "\n",
    "# Le dataset est supposé avoir été généré dans une cellule précédente\n",
    "# Exemple : df = generate_dataset()\n",
    "full_df = df.copy()\n",
    "\n",
    "# Ajout d'une colonne de classe multi-niveaux selon la note\n",
    "def label_item(note):\n",
    "    if note == 100:\n",
    "        return \"jet parfait\"\n",
    "    elif note > 95:\n",
    "        return \"excellent jet\"\n",
    "    elif note > 85:\n",
    "        return \"très bon jet\"\n",
    "    elif note > 70:\n",
    "        return \"jet moyen\"\n",
    "    else:\n",
    "        return \"jet mauvais\"\n",
    "\n",
    "full_df[\"qualité\"] = full_df[\"note\"].apply(label_item)\n",
    "\n",
    "# Enrichissement des features\n",
    "full_df[\"perfect_ratio\"] = full_df[\"nb_perfect_lines\"] / full_df[\"nb_stats\"]\n",
    "full_df[\"has_dommage\"] = full_df.columns.str.contains(\"dommage\") & full_df.notna().any()\n",
    "full_df[\"has_dommage\"] = full_df.apply(lambda row: any(\"dommage\" in col and row[col] > 0 for col in full_df.columns), axis=1)\n",
    "full_df[\"has_dommage_elementaire\"] = full_df.apply(lambda row: any(stat in row and row[stat] > 0 for stat in [\"dommage_feu\", \"dommage_air\", \"dommage_eau\", \"dommage_terre\", \"dommage_neutre\"]), axis=1)\n",
    "full_df[\"has_resistance_%\"] = full_df.apply(lambda row: any(\"résistance_\" in stat and \"%\" in stat and row[stat] > 0 for stat in row.index if stat in row), axis=1)\n",
    "\n",
    "# Sélection des features numériques enrichies\n",
    "X = full_df[[\"nb_stats\", \"nb_perfect_lines\", \"nb_high_ratio\", \"total_weight\", \"exo_weight\", \"over_weight\", \"perfect_ratio\", \"has_dommage\", \"has_dommage_elementaire\", \"has_resistance_%\"]]\n",
    "y = full_df[\"qualité\"]\n",
    "\n",
    "# Split données\n",
    "X_train, X_test, y_train, y_test = train_test_split(X, y, test_size=0.2, random_state=42)\n",
    "\n",
    "# Modèle\n",
    "from sklearn.ensemble import GradientBoostingClassifier\n",
    "clf = GradientBoostingClassifier(n_estimators=200, learning_rate=0.05, max_depth=4, random_state=42)\n",
    "clf.fit(X_train, y_train)\n",
    "\n",
    "# Prédictions\n",
    "y_pred = clf.predict(X_test)\n",
    "\n",
    "# Évaluation\n",
    "print(\"Classification Report (multi-classes) :\")\n",
    "print(classification_report(y_test, y_pred))\n",
    "\n",
    "print(\"Matrice de confusion :\")\n",
    "print(confusion_matrix(y_test, y_pred))\n",
    "\n",
    "# Visualisation de la répartition des classes\n",
    "import seaborn as sns\n",
    "import matplotlib.pyplot as plt\n",
    "\n",
    "plt.figure(figsize=(8, 4))\n",
    "sns.countplot(data=full_df, x=\"qualité\", order=full_df[\"qualité\"].value_counts().index)\n",
    "plt.title(\"Répartition des classes de qualité\")\n",
    "plt.xlabel(\"Classe de qualité\")\n",
    "plt.ylabel(\"Nombre d'items\")\n",
    "plt.xticks(rotation=30)\n",
    "plt.grid(True)\n",
    "plt.tight_layout()\n",
    "plt.show()\n"
   ]
  },
  {
   "cell_type": "markdown",
   "id": "665fb9d2",
   "metadata": {
    "papermill": {
     "duration": 0.020239,
     "end_time": "2025-04-15T21:56:33.576097",
     "exception": false,
     "start_time": "2025-04-15T21:56:33.555858",
     "status": "completed"
    },
    "tags": []
   },
   "source": [
    "On va simplifier la classification"
   ]
  },
  {
   "cell_type": "markdown",
   "id": "c3caa1fb",
   "metadata": {
    "papermill": {
     "duration": 0.019045,
     "end_time": "2025-04-15T21:56:33.614734",
     "exception": false,
     "start_time": "2025-04-15T21:56:33.595689",
     "status": "completed"
    },
    "tags": []
   },
   "source": [
    "## 2.4. GradientBoostingClassifier simplified classes"
   ]
  },
  {
   "cell_type": "code",
   "execution_count": 26,
   "id": "e5130382",
   "metadata": {
    "execution": {
     "iopub.execute_input": "2025-04-15T21:56:33.660005Z",
     "iopub.status.busy": "2025-04-15T21:56:33.659648Z",
     "iopub.status.idle": "2025-04-15T21:57:09.939152Z",
     "shell.execute_reply": "2025-04-15T21:57:09.937980Z"
    },
    "papermill": {
     "duration": 36.324965,
     "end_time": "2025-04-15T21:57:09.959850",
     "exception": false,
     "start_time": "2025-04-15T21:56:33.634885",
     "status": "completed"
    },
    "tags": []
   },
   "outputs": [
    {
     "name": "stdout",
     "output_type": "stream",
     "text": [
      "Classification Report (simplifié) :\n",
      "              precision    recall  f1-score   support\n",
      "\n",
      " jet mauvais       0.56      0.42      0.48       733\n",
      "   jet moyen       0.67      0.80      0.73      1692\n",
      " jet parfait       0.39      0.32      0.35        22\n",
      "très bon jet       0.60      0.45      0.51       553\n",
      "\n",
      "    accuracy                           0.64      3000\n",
      "   macro avg       0.55      0.50      0.52      3000\n",
      "weighted avg       0.63      0.64      0.62      3000\n",
      "\n",
      "Matrice de confusion :\n",
      "[[ 307  395    0   31]\n",
      " [ 214 1349    3  126]\n",
      " [   0    3    7   12]\n",
      " [  24  272    8  249]]\n"
     ]
    }
   ],
   "source": [
    "from sklearn.ensemble import RandomForestClassifier\n",
    "from sklearn.model_selection import train_test_split\n",
    "from sklearn.metrics import classification_report, confusion_matrix\n",
    "\n",
    "# Le dataset est supposé avoir été généré dans une cellule précédente\n",
    "# Exemple : df = generate_dataset()\n",
    "full_df = df.copy()\n",
    "\n",
    "# Ajout d'une colonne de classe multi-niveaux selon la note\n",
    "def label_item(note):\n",
    "    if note == 100:\n",
    "        return \"jet parfait\"\n",
    "    elif note > 90:\n",
    "        return \"très bon jet\"\n",
    "    elif note > 75:\n",
    "        return \"jet moyen\"\n",
    "    else:\n",
    "        return \"jet mauvais\"\n",
    "\n",
    "full_df[\"qualité\"] = full_df[\"note\"].apply(label_item)\n",
    "\n",
    "# Ajout des features dérivées manquantes\n",
    "full_df[\"perfect_ratio\"] = full_df[\"nb_perfect_lines\"] / full_df[\"nb_stats\"]\n",
    "full_df[\"has_dommage\"] = full_df.apply(lambda row: any(\"dommage\" in col and row[col] > 0 for col in full_df.columns), axis=1)\n",
    "full_df[\"has_dommage_elementaire\"] = full_df.apply(lambda row: any(stat in row and row[stat] > 0 for stat in [\"dommage_feu\", \"dommage_air\", \"dommage_eau\", \"dommage_terre\", \"dommage_neutre\"]), axis=1)\n",
    "full_df[\"has_resistance_%\"] = full_df.apply(lambda row: any(\"résistance_\" in stat and \"%\" in stat and row[stat] > 0 for stat in row.index if stat in row), axis=1)\n",
    "\n",
    "# Sélection des features\n",
    "X = full_df[[\"nb_stats\", \"nb_perfect_lines\", \"nb_high_ratio\", \"total_weight\",\n",
    "             \"exo_weight\", \"over_weight\", \"perfect_ratio\",\n",
    "             \"has_dommage\", \"has_dommage_elementaire\", \"has_resistance_%\"]]\n",
    "y = full_df[\"qualité\"]\n",
    "\n",
    "# Split\n",
    "df_train, df_test, y_train, y_test = train_test_split(X, y, test_size=0.2, random_state=42)\n",
    "\n",
    "# Modèle\n",
    "from sklearn.ensemble import GradientBoostingClassifier\n",
    "clf = GradientBoostingClassifier(n_estimators=200, learning_rate=0.05, max_depth=10, random_state=42)\n",
    "clf.fit(df_train, y_train)\n",
    "\n",
    "# Prédiction\n",
    "y_pred = clf.predict(df_test)\n",
    "\n",
    "# Évaluation\n",
    "print(\"Classification Report (simplifié) :\")\n",
    "print(classification_report(y_test, y_pred))\n",
    "\n",
    "print(\"Matrice de confusion :\")\n",
    "print(confusion_matrix(y_test, y_pred))"
   ]
  }
 ],
 "metadata": {
  "kaggle": {
   "accelerator": "none",
   "dataSources": [],
   "dockerImageVersionId": 30918,
   "isGpuEnabled": false,
   "isInternetEnabled": false,
   "language": "python",
   "sourceType": "notebook"
  },
  "kernelspec": {
   "display_name": ".venv",
   "language": "python",
   "name": "python3"
  },
  "language_info": {
   "codemirror_mode": {
    "name": "ipython",
    "version": 3
   },
   "file_extension": ".py",
   "mimetype": "text/x-python",
   "name": "python",
   "nbconvert_exporter": "python",
   "pygments_lexer": "ipython3",
   "version": "3.10.11"
  },
  "papermill": {
   "default_parameters": {},
   "duration": 81.507858,
   "end_time": "2025-04-15T21:57:10.802036",
   "environment_variables": {},
   "exception": null,
   "input_path": "__notebook__.ipynb",
   "output_path": "__notebook__.ipynb",
   "parameters": {},
   "start_time": "2025-04-15T21:55:49.294178",
   "version": "2.6.0"
  }
 },
 "nbformat": 4,
 "nbformat_minor": 5
}
