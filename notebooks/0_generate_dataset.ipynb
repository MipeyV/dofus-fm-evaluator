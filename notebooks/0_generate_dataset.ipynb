{
 "cells": [
  {
   "cell_type": "markdown",
   "id": "2ead254e",
   "metadata": {
    "papermill": {
     "duration": 0.012651,
     "end_time": "2025-04-15T21:55:52.972522",
     "exception": false,
     "start_time": "2025-04-15T21:55:52.959871",
     "status": "completed"
    },
    "tags": []
   },
   "source": [
    "# Objectif de ce notebook\n",
    "1. Modéliser le comportement des items dans Dofus, les caractéristiques des items et leurs limites\n",
    "2. Introduire les notions de forgemagie et la modification des caractéristiques initiales\n",
    "3. Générer aléatoirement des patternes d'item avec les valeurs min, max des stats de l'item\n",
    "4. Générer des items à partir patternes d'item avec des stats réelles\n",
    "5. Evaluer ces items selon un algorithme de base\n",
    "6. Remplir un dataframe avec ces items et en faire un fichier.csv que l'on va étudier et soumettre à un modèle de ML pour prédire la qualité"
   ]
  },
  {
   "cell_type": "markdown",
   "id": "398a651a",
   "metadata": {
    "papermill": {
     "duration": 0.010042,
     "end_time": "2025-04-15T21:55:52.992830",
     "exception": false,
     "start_time": "2025-04-15T21:55:52.982788",
     "status": "completed"
    },
    "tags": []
   },
   "source": [
    "# Importer toutes les libraries nécessaires avec la cellule suivante"
   ]
  },
  {
   "cell_type": "code",
   "execution_count": 1,
   "id": "9ff4ab52",
   "metadata": {
    "_cell_guid": "b1076dfc-b9ad-4769-8c92-a6c4dae69d19",
    "_uuid": "8f2839f25d086af736a60e9eeb907d3b93b6e0e5",
    "execution": {
     "iopub.execute_input": "2025-04-15T21:55:53.014286Z",
     "iopub.status.busy": "2025-04-15T21:55:53.013796Z",
     "iopub.status.idle": "2025-04-15T21:55:54.076126Z",
     "shell.execute_reply": "2025-04-15T21:55:54.074884Z"
    },
    "papermill": {
     "duration": 1.076647,
     "end_time": "2025-04-15T21:55:54.079492",
     "exception": false,
     "start_time": "2025-04-15T21:55:53.002845",
     "status": "completed"
    },
    "tags": []
   },
   "outputs": [],
   "source": [
    "import numpy as np\n",
    "import pandas as pd\n",
    "import random\n",
    "import string"
   ]
  },
  {
   "cell_type": "markdown",
   "id": "a97aee59",
   "metadata": {
    "papermill": {
     "duration": 0.010946,
     "end_time": "2025-04-15T21:55:54.107023",
     "exception": false,
     "start_time": "2025-04-15T21:55:54.096077",
     "status": "completed"
    },
    "tags": []
   },
   "source": [
    "# ****1. Définition d'un item et de ses caractéristiques****\n",
    "## Objectifs\n",
    "- Définir ce qu'est un item, ses caractéristiques, les valeures théoriques maximales et minimales\n",
    "- Créer une classe ItemTemplate qui décrit un patterne d'item selon ses valeures théoriques\n",
    "- Créer une classe ItemInstance qui définit les valeures réelles de l'item\n",
    "- Stocker chaque type de caractéristique du jeu dans un dictionnaire\n",
    "- Créer des fonctions qui évaluent mon item de façon brève afin de simuler une récupération de données manuellement\n",
    "- Créer une fontion qui peut générer des items aléatoirement\n",
    "## 1.1. Définition de la classe StatDefinition\n",
    "Définit une statistique de base d'un item, avec sa valeur minimale, maximale théorique"
   ]
  },
  {
   "cell_type": "code",
   "execution_count": 2,
   "id": "ec536a3b",
   "metadata": {
    "execution": {
     "iopub.execute_input": "2025-04-15T21:55:54.129983Z",
     "iopub.status.busy": "2025-04-15T21:55:54.129354Z",
     "iopub.status.idle": "2025-04-15T21:55:54.135059Z",
     "shell.execute_reply": "2025-04-15T21:55:54.133887Z"
    },
    "papermill": {
     "duration": 0.019619,
     "end_time": "2025-04-15T21:55:54.137095",
     "exception": false,
     "start_time": "2025-04-15T21:55:54.117476",
     "status": "completed"
    },
    "tags": []
   },
   "outputs": [],
   "source": [
    "class StatDefinition:\n",
    "    def __init__(self, name, min_value, max_value, type=\"fixe\", weight=1):\n",
    "        self.name = name\n",
    "        self.min_value = min_value\n",
    "        self.max_value = max_value\n",
    "        self.type = type\n",
    "        self.weight = weight\n",
    "\n",
    "    def __repr__(self):\n",
    "        return f\"{self.name} ({self.min_value}-{self.max_value}, poids={self.weight})\""
   ]
  },
  {
   "cell_type": "markdown",
   "id": "83696383",
   "metadata": {},
   "source": [
    "## 1.2. Dictionnaire stat_pool\n",
    "Dictionnaire des statistiques du jeu"
   ]
  },
  {
   "cell_type": "code",
   "execution_count": 3,
   "id": "b1e4316c",
   "metadata": {},
   "outputs": [],
   "source": [
    "stat_pool = {\n",
    "    \"vitalité\": StatDefinition(\"vitalité\", 0, 505, weight=0.2),\n",
    "    \"sagesse\": StatDefinition(\"sagesse\", 0, 60, weight=3),\n",
    "    \"force\": StatDefinition(\"force\", 0, 101, weight=1),\n",
    "    \"chance\": StatDefinition(\"chance\", 0, 101, weight=1),\n",
    "    \"agilité\": StatDefinition(\"agilité\", 0, 101, weight=1),\n",
    "    \"intelligence\": StatDefinition(\"intelligence\", 0, 101, weight=1),\n",
    "    \"dommage\": StatDefinition(\"dommages\", 0, 20, weight=20),\n",
    "    \"dommage_neutre\" : StatDefinition(\"dommage_neutre\", 0, 20, weight = 5),\n",
    "    \"dommage_terre\" : StatDefinition(\"dommage_terre\", 0, 20, weight = 5),\n",
    "    \"dommage_feu\" : StatDefinition(\"dommage_feu\", 0, 20, weight = 5),\n",
    "    \"dommage_eau\" : StatDefinition(\"dommage_eau\", 0, 20, weight = 5),\n",
    "    \"dommage_air\" : StatDefinition(\"dommage_air\", 0, 20, weight = 5),\n",
    "    \"dommage_critique\" : StatDefinition(\"dommage_critique\", 0, 25, weight = 5),\n",
    "    \"puissance\": StatDefinition(\"puissance\", 0, 100, weight=2),\n",
    "    \"coups_critiques\": StatDefinition(\"coups_critiques\", 0, 10, weight=10),\n",
    "    \"invocation\": StatDefinition(\"invocation\", 0, 2, weight=30),\n",
    "    \"résistance_neutre\": StatDefinition(\"résistance_neutre\", 0, 25, weight=2),\n",
    "    \"résistance_terre\": StatDefinition(\"résistance_terre\", 0, 25, weight=2),\n",
    "    \"résistance_feu\": StatDefinition(\"résistance_feu\", 0, 25, weight=2),\n",
    "    \"résistance_eau\": StatDefinition(\"résistance_eau\", 0, 25, weight=2),\n",
    "    \"résistance_air\": StatDefinition(\"résistance_air\", 0, 25, weight=2),\n",
    "    \"résistance_poussée\": StatDefinition(\"résistance_poussée\", 0, 80, weight=2),\n",
    "    \"résistance_critique\": StatDefinition(\"résistance_critique\", 0, 40, weight=2),\n",
    "    \"résistance_neutre_%\": StatDefinition(\"résistance_neutre_%\", 0, 15, weight=6),\n",
    "    \"résistance_terre_%\": StatDefinition(\"résistance_terre_%\", 0, 15, weight=6),\n",
    "    \"résistance_feu_%\": StatDefinition(\"résistance_feu_%\", 0, 15, weight=6),\n",
    "    \"résistance_eau_%\": StatDefinition(\"résistance_eau_%\", 0, 15, weight=6),\n",
    "    \"résistance_air_%\": StatDefinition(\"résistance_air_%\", 0, 15, weight=6),\n",
    "    \"tacle\": StatDefinition(\"tacle\", 0, 20, weight=4),\n",
    "    \"fuite\": StatDefinition(\"fuite\", 0, 20, weight=4),\n",
    "    \"soin\": StatDefinition(\"soins\", 0, 30, weight=10),\n",
    "    \"PA\": StatDefinition(\"PA\", 0, 1, weight=100),\n",
    "    \"PM\": StatDefinition(\"PM\", 0, 1, weight=90),\n",
    "    \"PO\": StatDefinition(\"PO\", 0, 2, weight=51),\n",
    "    \"prospection\": StatDefinition(\"prospection\", 0, 33, weight=3),\n",
    "    \"initiative\": StatDefinition(\"initiative\", 0, 800, weight=0.1),\n",
    "    \"pods\": StatDefinition(\"pods\", 0, 2000, weight=0.25),\n",
    "    \"dommage_dist_%\" : StatDefinition(\"dommage_dist_%\", 0, 5, weight=15),\n",
    "    \"dommage_sort_%\" : StatDefinition(\"dommage_sort_%\", 0, 5, weight=15),\n",
    "    \"dommage_mêlee_%\" : StatDefinition(\"dommage_mêlee_%\", 0, 5, weight=15),\n",
    "    \"résistance_dist_%\" : StatDefinition(\"résistance_dist_%\", 0, 5, weight=15),\n",
    "    \"résistance_sort_%\" : StatDefinition(\"résistance_sort_%\", 0, 5, weight=15),\n",
    "    \"résistance_melee_%\" : StatDefinition(\"résistance_melee_%\", 0, 5, weight=15)\n",
    "}"
   ]
  },
  {
   "cell_type": "markdown",
   "id": "6103b1e5",
   "metadata": {
    "papermill": {
     "duration": 0.009498,
     "end_time": "2025-04-15T21:55:54.156726",
     "exception": false,
     "start_time": "2025-04-15T21:55:54.147228",
     "status": "completed"
    },
    "tags": []
   },
   "source": [
    "## 1.3. Classe ItemTemplate\n",
    "Sert à générer un patterne d'item, les statistiques de base d'un item, jets théoriques min et max"
   ]
  },
  {
   "cell_type": "code",
   "execution_count": 4,
   "id": "185eb225",
   "metadata": {
    "execution": {
     "iopub.execute_input": "2025-04-15T21:55:54.188065Z",
     "iopub.status.busy": "2025-04-15T21:55:54.186920Z",
     "iopub.status.idle": "2025-04-15T21:55:54.198698Z",
     "shell.execute_reply": "2025-04-15T21:55:54.197380Z"
    },
    "papermill": {
     "duration": 0.027904,
     "end_time": "2025-04-15T21:55:54.201273",
     "exception": false,
     "start_time": "2025-04-15T21:55:54.173369",
     "status": "completed"
    },
    "tags": []
   },
   "outputs": [],
   "source": [
    "class ItemTemplate:\n",
    "    def __init__(self, name, stats, pui_category=\"moyen\"):\n",
    "        self.name = name\n",
    "        self.stats = stats\n",
    "        self.pui_category = pui_category\n",
    "\n",
    "    def get_stat_max(self, stat_name):\n",
    "        return self.stats.get(stat_name).max_value if stat_name in self.stats else 0\n",
    "\n",
    "    def get_stat_weight(self, stat_name):\n",
    "        return self.stats.get(stat_name).weight if stat_name in self.stats else 0\n",
    "\n",
    "    def has_stat(self, stat_name):\n",
    "        return stat_name in self.stats"
   ]
  },
  {
   "cell_type": "markdown",
   "id": "0d6cd871",
   "metadata": {
    "papermill": {
     "duration": 0.014785,
     "end_time": "2025-04-15T21:55:54.232222",
     "exception": false,
     "start_time": "2025-04-15T21:55:54.217437",
     "status": "completed"
    },
    "tags": []
   },
   "source": [
    "## 1.4. Class ItemInstance\n",
    "Définit un Item avec ses statistiques réelles en tenant compte de celles du patterne"
   ]
  },
  {
   "cell_type": "code",
   "execution_count": 5,
   "id": "79b33235",
   "metadata": {
    "execution": {
     "iopub.execute_input": "2025-04-15T21:55:54.263057Z",
     "iopub.status.busy": "2025-04-15T21:55:54.262696Z",
     "iopub.status.idle": "2025-04-15T21:55:54.282583Z",
     "shell.execute_reply": "2025-04-15T21:55:54.281621Z"
    },
    "papermill": {
     "duration": 0.037596,
     "end_time": "2025-04-15T21:55:54.284450",
     "exception": false,
     "start_time": "2025-04-15T21:55:54.246854",
     "status": "completed"
    },
    "tags": []
   },
   "outputs": [],
   "source": [
    "class ItemInstance:\n",
    "    def __init__(self, template, current_stats, label=None):\n",
    "        self.template = template\n",
    "        self.current_stats = current_stats\n",
    "        self.label = label\n",
    "\n",
    "    def get_ratio(self, stat):\n",
    "        base = self.template.get_stat_max(stat)\n",
    "        val = self.current_stats.get(stat, 0)\n",
    "        if base <= 0:\n",
    "            return np.nan\n",
    "        return val / base\n",
    "\n",
    "    def is_over(self, stat):\n",
    "        ratio = self.get_ratio(stat)\n",
    "        return ratio > 1 if not np.isnan(ratio) else False\n",
    "\n",
    "    def is_exo(self, stat):\n",
    "        return stat not in self.template.stats and self.current_stats.get(stat, 0) > 0\n",
    "\n",
    "    def get_total_weight(self):\n",
    "        weight = 0\n",
    "        for stat in self.template.stats:\n",
    "            value = min(self.current_stats.get(stat, 0), self.template.get_stat_max(stat))\n",
    "            weight += value * self.template.get_stat_weight(stat)\n",
    "        return weight\n",
    "\n",
    "    def get_exo_weight(self):\n",
    "        weight = 0\n",
    "        for stat in self.current_stats:\n",
    "            if self.is_exo(stat) and stat in stat_pool:\n",
    "                weight += self.current_stats[stat] * stat_pool[stat].weight\n",
    "        return weight\n",
    "\n",
    "\n",
    "    def get_features(self):\n",
    "        ratios = {f\"{stat}_ratio\": self.get_ratio(stat) for stat in self.template.stats}\n",
    "        overs = sum(1 for stat in self.template.stats if self.is_over(stat))\n",
    "        exos = sum(1 for stat in self.current_stats if self.is_exo(stat))\n",
    "        total_weight = self.get_total_weight()\n",
    "        exo_weight = self.get_exo_weight()\n",
    "        perfect_lines = sum(\n",
    "            1 for stat in self.template.stats\n",
    "            if self.current_stats.get(stat, 0) == self.template.get_stat_max(stat)\n",
    "        )\n",
    "\n",
    "        features = {\n",
    "            \"item_name\": self.template.name,\n",
    "            \"pui_category\": self.template.pui_category,\n",
    "            \"nb_stats\": len(self.template.stats),\n",
    "            \"nb_overs\": overs,\n",
    "            \"nb_exos\": exos,\n",
    "            \"nb_perfect_lines\": perfect_lines,\n",
    "            \"total_weight\": total_weight,\n",
    "            \"exo_weight\": exo_weight,\n",
    "            **ratios\n",
    "        }\n",
    "        return features\n",
    "\n",
    "    def get_clean_features(self):\n",
    "        perfect_lines = sum(\n",
    "            1 for stat in self.template.stats\n",
    "            if self.current_stats.get(stat, 0) == self.template.get_stat_max(stat)\n",
    "        )\n",
    "\n",
    "        high_ratios = sum(\n",
    "            1 for stat in self.template.stats\n",
    "            if 0.9 < self.get_ratio(stat) < 1\n",
    "        )\n",
    "\n",
    "        is_exo = self.get_exo_weight() > 0\n",
    "        is_over = any(self.is_over(stat) for stat in self.template.stats)\n",
    "\n",
    "        over_weight = sum(\n",
    "            (self.current_stats[stat] - self.template.get_stat_max(stat)) * self.template.get_stat_weight(stat)\n",
    "            for stat in self.template.stats\n",
    "            if self.is_over(stat)\n",
    "        )\n",
    "\n",
    "        return {\n",
    "            \"nb_stats\": len(self.template.stats),\n",
    "            \"nb_perfect_lines\": perfect_lines,\n",
    "            \"nb_high_ratio\": high_ratios,\n",
    "            \"total_weight\": self.get_total_weight(),\n",
    "            \"is_exo\": is_exo,\n",
    "            \"exo_weight\": self.get_exo_weight(),\n",
    "            \"is_over\": is_over,\n",
    "            \"over_weight\": over_weight,\n",
    "            \"pui_category\": self.template.pui_category\n",
    "        }\n",
    "    \n",
    "    def evaluate_quality_algo(self):\n",
    "        malus = 0\n",
    "        total_score = 100\n",
    "        exo = self.get_exo_weight() > 0\n",
    "        over = any(self.is_over(stat) for stat in self.template.stats)\n",
    "\n",
    "        if any(stat in self.template.stats for stat in [\"PA\", \"PM\",\"PO\"]):\n",
    "            puit = \"grand\"\n",
    "        elif any(stat in self.template.stats for stat in [\"invocation\", \"coups_critiques\"]) or \\\n",
    "             (\"sagesse\" in self.template.stats and self.template.get_stat_max(\"sagesse\") >= 40):\n",
    "            puit = \"moyen\"\n",
    "        else:\n",
    "            puit = \"faible\"\n",
    "\n",
    "        essential_stats = {\n",
    "            \"PA\", \"PM\", \"PO\", \"invocation\",\n",
    "            \"résistance_neutre_%\", \"résistance_terre_%\", \"résistance_feu_%\", \"résistance_eau_%\", \"résistance_air_%\",\n",
    "            \"résistance_neutre\", \"résistance_terre\", \"résistance_feu\", \"résistance_eau\", \"résistance_air\",\n",
    "            \"coups_critiques\", \"résistance_critique\", \"résistance_poussée\"\n",
    "        }\n",
    "\n",
    "        for stat in essential_stats:\n",
    "            if stat in self.template.stats and self.get_ratio(stat) < 1:\n",
    "                malus += 20\n",
    "\n",
    "        for stat in self.template.stats:\n",
    "            if stat in essential_stats:\n",
    "                continue\n",
    "            ratio = self.get_ratio(stat)\n",
    "            if np.isnan(ratio):\n",
    "                continue\n",
    "            max_val = self.template.get_stat_max(stat)\n",
    "            val = self.current_stats.get(stat, 0)\n",
    "\n",
    "            if stat in {\"force\", \"chance\", \"intelligence\", \"agilité\"}:\n",
    "                if max_val < 60 and (max_val - val) > 2:\n",
    "                    malus += 5\n",
    "                elif max_val >= 100 and (max_val - val) > 9:\n",
    "                    malus += 5\n",
    "            elif stat == \"vitalité\" and (max_val - val) > 5:\n",
    "                malus += 5\n",
    "            elif stat == \"initiative\" and (max_val - val) > 9:\n",
    "                malus += 5\n",
    "            elif stat == \"sagesse\":\n",
    "                if max_val == 40 and (max_val - val) > 3:\n",
    "                    malus += 5\n",
    "                elif max_val == 50 and (max_val - val) > 5:\n",
    "                    malus += 5\n",
    "                elif max_val == 60 and (max_val - val) > 10:\n",
    "                    malus += 5\n",
    "            elif stat in {\"tacle\", \"fuite\"} and val < 0.7 * max_val:\n",
    "                malus += 5\n",
    "            else:\n",
    "                if ratio < 0.9:\n",
    "                    malus += 3\n",
    "\n",
    "        note = max(0, total_score - malus)\n",
    "        return {\"note\": note, \"exo\": exo, \"over\": over, \"puit\": puit}"
   ]
  },
  {
   "cell_type": "markdown",
   "id": "251a13ca",
   "metadata": {
    "papermill": {
     "duration": 0.011475,
     "end_time": "2025-04-15T21:55:54.365143",
     "exception": false,
     "start_time": "2025-04-15T21:55:54.353668",
     "status": "completed"
    },
    "tags": []
   },
   "source": [
    "## 1.5. Fonction classify_pui(stats)\n",
    "Fonction qui classify les items selon leur poids de base"
   ]
  },
  {
   "cell_type": "code",
   "execution_count": 6,
   "id": "7b9773ea",
   "metadata": {
    "execution": {
     "iopub.execute_input": "2025-04-15T21:55:54.390063Z",
     "iopub.status.busy": "2025-04-15T21:55:54.389593Z",
     "iopub.status.idle": "2025-04-15T21:55:54.396856Z",
     "shell.execute_reply": "2025-04-15T21:55:54.395545Z"
    },
    "papermill": {
     "duration": 0.021663,
     "end_time": "2025-04-15T21:55:54.398465",
     "exception": false,
     "start_time": "2025-04-15T21:55:54.376802",
     "status": "completed"
    },
    "tags": []
   },
   "outputs": [],
   "source": [
    "def classify_pui(stats):\n",
    "    if any(stat in stats for stat in [\"PA\", \"PM\", \"PO\"]):\n",
    "        return \"grand\"\n",
    "    if (\"invocation\" in stats or\n",
    "        (\"sagesse\" in stats and stats[\"sagesse\"].max_value > 40) or\n",
    "        (\"coups_critiques\" in stats and stats[\"coups_critiques\"].max_value > 4) or\n",
    "        any(stat.startswith(\"dommage\") for stat in stats)):\n",
    "        return \"moyen\"\n",
    "    return \"faible\""
   ]
  },
  {
   "cell_type": "markdown",
   "id": "7d056220",
   "metadata": {
    "papermill": {
     "duration": 0.009324,
     "end_time": "2025-04-15T21:55:54.417905",
     "exception": false,
     "start_time": "2025-04-15T21:55:54.408581",
     "status": "completed"
    },
    "tags": []
   },
   "source": [
    "## 1.6. Fonction generate_random_template()\n",
    "Fonction qui génère un template d'item théorique"
   ]
  },
  {
   "cell_type": "code",
   "execution_count": 7,
   "id": "65fef7ab",
   "metadata": {
    "execution": {
     "iopub.execute_input": "2025-04-15T21:55:54.439554Z",
     "iopub.status.busy": "2025-04-15T21:55:54.439178Z",
     "iopub.status.idle": "2025-04-15T21:55:54.452061Z",
     "shell.execute_reply": "2025-04-15T21:55:54.450733Z"
    },
    "papermill": {
     "duration": 0.026275,
     "end_time": "2025-04-15T21:55:54.453905",
     "exception": false,
     "start_time": "2025-04-15T21:55:54.427630",
     "status": "completed"
    },
    "tags": []
   },
   "outputs": [],
   "source": [
    "def generate_random_template():\n",
    "    name = \"Item_\" + ''.join(random.choices(string.ascii_uppercase, k=5))\n",
    "    stats = {}\n",
    "\n",
    "    # Stat commune : sagesse (90% de chance)\n",
    "    if random.random() < 0.9:\n",
    "        definition = stat_pool[\"sagesse\"]\n",
    "        stats[\"sagesse\"] = StatDefinition(\"sagesse\", 20, 60, weight=definition.weight)\n",
    "\n",
    "    # Stat très fréquente : vitalité\n",
    "    definition = stat_pool[\"vitalité\"]\n",
    "    stats[\"vitalité\"] = StatDefinition(\"vitalité\", 100, 400, weight=definition.weight)\n",
    "\n",
    "    # Coups critiques (1 chance sur 2, max 7)\n",
    "    if random.random() < 0.5:\n",
    "        definition = stat_pool[\"coups_critiques\"]\n",
    "        stats[\"coups_critiques\"] = StatDefinition(\"coups_critiques\", 1, 7, weight=definition.weight)\n",
    "\n",
    "    # Stats élémentaires (90% de chance d'en avoir au moins une)\n",
    "    elem_stats = [\"force\", \"intelligence\", \"chance\", \"agilité\"]\n",
    "    if random.random() < 0.9:\n",
    "        selected_elem = random.sample(elem_stats, k=random.choice([1, 2]))\n",
    "        for elem in selected_elem:\n",
    "            definition = stat_pool[elem]\n",
    "            max_val = random.choice([v for v in range(30, definition.max_value + 1, 5)])\n",
    "            min_val = max(5, int(max_val * 0.5))\n",
    "            min_val -= min_val % 5\n",
    "            stats[elem] = StatDefinition(elem, min_val, max_val, weight=definition.weight)\n",
    "\n",
    "            # Associer une stat de dommage à l'élément\n",
    "            elem_dmg = f\"dommage_{elem}\" if f\"dommage_{elem}\" in stat_pool else \"dommage\"\n",
    "            if elem_dmg in stat_pool:\n",
    "                dmg_def = stat_pool[elem_dmg]\n",
    "                stats[elem_dmg] = StatDefinition(elem_dmg, 3, dmg_def.max_value, weight=dmg_def.weight)\n",
    "\n",
    "    # Résistances (1 chance sur 2 d'en avoir une)\n",
    "    resistance_stats = [s for s in stat_pool if \"résistance\" in s and s not in stats]\n",
    "    if random.random() < 0.5 and resistance_stats:\n",
    "        stat = random.choice(resistance_stats)\n",
    "        definition = stat_pool[stat]\n",
    "        stats[stat] = StatDefinition(stat, 3, definition.max_value, weight=definition.weight)\n",
    "\n",
    "    # Ajout aléatoire de 1 à 3 autres stats restantes\n",
    "    remaining = [s for s in stat_pool if s not in stats and stat_pool[s].max_value > 0]\n",
    "    for stat in random.sample(remaining, k=random.randint(1, 3)):\n",
    "        definition = stat_pool[stat]\n",
    "        max_cap = definition.max_value\n",
    "        if max_cap >= 30:\n",
    "            max_val = random.choice([v for v in range(30, max_cap + 1, 5)])\n",
    "        else:\n",
    "            max_val = random.randint(1, max_cap)\n",
    "        min_val = max(5, int(max_val * 0.5))\n",
    "        min_val -= min_val % 5\n",
    "        stats[stat] = StatDefinition(stat, min_val, max_val, weight=definition.weight)\n",
    "\n",
    "    # Détermination automatique du puit\n",
    "    if any(stat in stats for stat in [\"PA\", \"PM\", \"PO\"]):\n",
    "        pui_category = \"gros\"\n",
    "    elif any(stat in stats for stat in [\"invocations\", \"coups_critiques\"]) or (\"sagesse\" in stats and stats[\"sagesse\"].max_value >= 40):\n",
    "        pui_category = \"moyen\"\n",
    "    else:\n",
    "        pui_category = \"faible\"\n",
    "\n",
    "    return ItemTemplate(name, stats, pui_category=pui_category)"
   ]
  },
  {
   "cell_type": "markdown",
   "id": "25172f21",
   "metadata": {
    "papermill": {
     "duration": 0.009385,
     "end_time": "2025-04-15T21:55:54.473440",
     "exception": false,
     "start_time": "2025-04-15T21:55:54.464055",
     "status": "completed"
    },
    "tags": []
   },
   "source": [
    "## 1.7. Fonction generate_random_instance(template)\n",
    "Fonction qui génère aléatoirement des instances d'items à partir d'un template"
   ]
  },
  {
   "cell_type": "code",
   "execution_count": 8,
   "id": "a4afb010",
   "metadata": {
    "execution": {
     "iopub.execute_input": "2025-04-15T21:55:54.494541Z",
     "iopub.status.busy": "2025-04-15T21:55:54.494142Z",
     "iopub.status.idle": "2025-04-15T21:55:54.506084Z",
     "shell.execute_reply": "2025-04-15T21:55:54.505012Z"
    },
    "papermill": {
     "duration": 0.024541,
     "end_time": "2025-04-15T21:55:54.507814",
     "exception": false,
     "start_time": "2025-04-15T21:55:54.483273",
     "status": "completed"
    },
    "tags": []
   },
   "outputs": [],
   "source": [
    "def generate_random_instance(template):\n",
    "    exo_types = []\n",
    "    current_stats = {}\n",
    "    elemental_stats = {\"force\", \"intelligence\", \"chance\", \"agilité\", \"sagesse\", \"vitalité\"}\n",
    "\n",
    "    for stat, definition in template.stats.items():\n",
    "        if stat in elemental_stats:\n",
    "            val = random.choice([v for v in range(int(definition.max_value * 0.6), definition.max_value + 1, 5)])\n",
    "        elif stat in {\"coups_critiques\", \"PA\", \"PM\", \"PO\", \"invocations\"} or \"résistance_\" in stat:\n",
    "            if random.random() < 0.8:\n",
    "                val = definition.max_value\n",
    "            else:\n",
    "                val = random.randint(int(definition.max_value * 0.6), definition.max_value)\n",
    "        elif \"dommage\" in stat:\n",
    "            if definition.max_value > 11:\n",
    "                val = random.choice([definition.max_value - 1, definition.max_value]) if random.random() < 0.8 else random.randint(int(definition.max_value * 0.6), definition.max_value - 2)\n",
    "            else:\n",
    "                val = random.randint(int(definition.max_value * 0.6), definition.max_value)\n",
    "        else:\n",
    "            val = random.randint(int(definition.max_value * 0.6), definition.max_value)\n",
    "        current_stats[stat] = val\n",
    "\n",
    "    if any(stat in template.stats for stat in [\"PA\", \"PM\", \"PO\"]):\n",
    "        puit = \"gros\"\n",
    "    elif any(stat in template.stats for stat in [\"invocation\", \"coups_critiques\"]) or (\"sagesse\" in template.stats and template.get_stat_max(\"sagesse\") >= 40):\n",
    "        puit = \"moyen\"\n",
    "    else:\n",
    "        puit = \"faible\"\n",
    "\n",
    "    if puit == \"gros\":\n",
    "        max_exo_weight = 101\n",
    "        exo_candidates = [\"PA\", \"PM\", \"PO\"] + [s for s in stat_pool if s not in template.stats and stat_pool[s].weight <= 50]\n",
    "    elif puit == \"moyen\":\n",
    "        max_exo_weight = 50\n",
    "        exo_candidates = [\"PA\", \"PM\", \"PO\"] + [s for s in stat_pool if s not in template.stats and stat_pool[s].weight <= 30]\n",
    "    else:\n",
    "        max_exo_weight = 20\n",
    "        exo_candidates = [s for s in stat_pool if s not in template.stats and stat_pool[s].weight <= 15]\n",
    "\n",
    "    random.shuffle(exo_candidates)\n",
    "    total_exo_weight = 0\n",
    "\n",
    "    for exo_stat in exo_candidates:\n",
    "        is_major_exo = exo_stat in [\"PA\", \"PM\", \"PO\"]\n",
    "        chance = 0.5 if not is_major_exo and not exo_types else 0.01\n",
    "\n",
    "        if random.random() < chance:\n",
    "            definition = stat_pool[exo_stat]\n",
    "            max_val = definition.max_value\n",
    "            exo_val = random.randint(1, max_val)\n",
    "            added_weight = exo_val * definition.weight\n",
    "\n",
    "            if total_exo_weight + added_weight <= max_exo_weight:\n",
    "                current_stats[exo_stat] = exo_val\n",
    "                exo_types.append(\"majeur\" if is_major_exo else \"classique\")\n",
    "                total_exo_weight += added_weight * 2\n",
    "\n",
    "    instance = ItemInstance(template, current_stats)\n",
    "    instance.exo_types = exo_types\n",
    "    return instance"
   ]
  },
  {
   "cell_type": "markdown",
   "id": "344c148d",
   "metadata": {
    "papermill": {
     "duration": 0.009453,
     "end_time": "2025-04-15T21:55:54.527385",
     "exception": false,
     "start_time": "2025-04-15T21:55:54.517932",
     "status": "completed"
    },
    "tags": []
   },
   "source": [
    "# ****2. Création d'un jeu de données artificielles****\n",
    "## 2.1. Fonction generate_dataset(nb_templates, nb_instance_per_case)\n",
    "Création d'un dataset selon le nombre de templates, et nombre d'instances par template"
   ]
  },
  {
   "cell_type": "code",
   "execution_count": 9,
   "id": "325204ad",
   "metadata": {
    "execution": {
     "iopub.execute_input": "2025-04-15T21:55:54.548851Z",
     "iopub.status.busy": "2025-04-15T21:55:54.548503Z",
     "iopub.status.idle": "2025-04-15T21:55:54.556746Z",
     "shell.execute_reply": "2025-04-15T21:55:54.555522Z"
    },
    "papermill": {
     "duration": 0.021014,
     "end_time": "2025-04-15T21:55:54.558542",
     "exception": false,
     "start_time": "2025-04-15T21:55:54.537528",
     "status": "completed"
    },
    "tags": []
   },
   "outputs": [],
   "source": [
    "def generate_dataset(nb_templates=100, nb_instances_per_case=50):\n",
    "    dataset = []\n",
    "    templates = [generate_random_template() for _ in range(nb_templates)]\n",
    "    for template in templates:\n",
    "        puit = template.pui_category\n",
    "\n",
    "        for case in [\"exo\", \"over\", \"rien\"]:\n",
    "            for _ in range(nb_instances_per_case):\n",
    "                instance = generate_random_instance(template)\n",
    "\n",
    "                # Forcer comportement selon le cas voulu\n",
    "                if case == \"rien\":\n",
    "                    # Supprimer exos\n",
    "                    instance.current_stats = {\n",
    "                        stat: val for stat, val in instance.current_stats.items()\n",
    "                        if stat in template.stats\n",
    "                    }\n",
    "                elif case == \"exo\":\n",
    "                    # Ajouter un exo forcé si aucun\n",
    "                    if instance.get_exo_weight() == 0:\n",
    "                        candidates = [s for s in stat_pool if s not in template.stats and stat_pool[s].weight <= 50]\n",
    "                        if candidates:\n",
    "                            stat = random.choice(candidates)\n",
    "                            instance.current_stats[stat] = random.randint(1, stat_pool[stat].max_value)\n",
    "\n",
    "                elif case == \"over\":\n",
    "                    # Ajouter un over forcé si aucun\n",
    "                    over_candidates = [s for s in template.stats]\n",
    "                    if over_candidates:\n",
    "                        stat = random.choice(over_candidates)\n",
    "                        instance.current_stats[stat] = instance.current_stats.get(stat, 0) + random.randint(1, 5)\n",
    "\n",
    "                features = instance.get_clean_features()\n",
    "                features[\"note\"] = instance.evaluate_quality_algo()[\"note\"]\n",
    "                features[\"template_name\"] = template.name\n",
    "                features[\"config_case\"] = f\"{puit}_pui_{case}\"\n",
    "                dataset.append(features)\n",
    "\n",
    "    return pd.DataFrame(dataset)"
   ]
  },
  {
   "cell_type": "markdown",
   "id": "d6a70fde",
   "metadata": {
    "papermill": {
     "duration": 0.009458,
     "end_time": "2025-04-15T21:55:54.577957",
     "exception": false,
     "start_time": "2025-04-15T21:55:54.568499",
     "status": "completed"
    },
    "tags": []
   },
   "source": [
    "## 2.2. Génération du dataset\n",
    "- Une fois généré ne plus exécuter ou commenter\n",
    "- Si dataset pas assez pertinent, regénerer et refaire les tests (voir partie 3)"
   ]
  },
  {
   "cell_type": "code",
   "execution_count": 10,
   "id": "8f5c19e8",
   "metadata": {
    "execution": {
     "iopub.execute_input": "2025-04-15T21:55:54.599341Z",
     "iopub.status.busy": "2025-04-15T21:55:54.598976Z",
     "iopub.status.idle": "2025-04-15T21:55:56.728561Z",
     "shell.execute_reply": "2025-04-15T21:55:56.726900Z"
    },
    "papermill": {
     "duration": 2.142371,
     "end_time": "2025-04-15T21:55:56.730712",
     "exception": false,
     "start_time": "2025-04-15T21:55:54.588341",
     "status": "completed"
    },
    "tags": []
   },
   "outputs": [],
   "source": [
    "import os\n",
    "\n",
    "dataset = generate_dataset()\n",
    "\n",
    "# Détection automatique de l’environnement Kaggle\n",
    "running_on_kaggle = os.environ.get(\"KAGGLE_KERNEL_RUN_TYPE\") is not None\n",
    "\n",
    "if running_on_kaggle:\n",
    "    # Environnement Kaggle : enregistrer à la racine (pour apparaître dans \"Output\")\n",
    "    dataset.to_csv(\"item_dataset.csv\", index=False)\n",
    "else:\n",
    "    # Environnement local : dossier structuré\n",
    "    os.makedirs(\"../data/processed\", exist_ok=True)\n",
    "    dataset.to_csv(\"../data/processed/item_dataset.csv\", index=False)"
   ]
  },
  {
   "cell_type": "markdown",
   "id": "f59513eb",
   "metadata": {
    "papermill": {
     "duration": 0.009267,
     "end_time": "2025-04-15T21:55:56.749953",
     "exception": false,
     "start_time": "2025-04-15T21:55:56.740686",
     "status": "completed"
    },
    "tags": []
   },
   "source": [
    "# 3. ****Etude de fiabilité du fichier item_dataset.csv****\n",
    "### Objectif :\n",
    "- S'assurer que le jeu de données est assez pertinent pour pouvoir entrainer un modèle de ML\n",
    "- S'assurer qu'il y ait assez d'items de chaque catégorie\n",
    "- Checkez la distribution des notes\n",
    "- Regardez les corrélations entre features\n",
    "- Analyse par catégorie de puits\n",
    "- Utiliser des modèles simples pour tester"
   ]
  },
  {
   "cell_type": "markdown",
   "id": "75a1d60d",
   "metadata": {
    "papermill": {
     "duration": 0.009839,
     "end_time": "2025-04-15T21:55:56.769431",
     "exception": false,
     "start_time": "2025-04-15T21:55:56.759592",
     "status": "completed"
    },
    "tags": []
   },
   "source": [
    "## Afficher les premières lignes du dataset"
   ]
  },
  {
   "cell_type": "code",
   "execution_count": 11,
   "id": "b0bbb1a1",
   "metadata": {
    "execution": {
     "iopub.execute_input": "2025-04-15T21:55:56.790868Z",
     "iopub.status.busy": "2025-04-15T21:55:56.790380Z",
     "iopub.status.idle": "2025-04-15T21:55:56.843573Z",
     "shell.execute_reply": "2025-04-15T21:55:56.842380Z"
    },
    "papermill": {
     "duration": 0.066125,
     "end_time": "2025-04-15T21:55:56.845449",
     "exception": false,
     "start_time": "2025-04-15T21:55:56.779324",
     "status": "completed"
    },
    "tags": []
   },
   "outputs": [
    {
     "data": {
      "text/html": [
       "<div>\n",
       "<style scoped>\n",
       "    .dataframe tbody tr th:only-of-type {\n",
       "        vertical-align: middle;\n",
       "    }\n",
       "\n",
       "    .dataframe tbody tr th {\n",
       "        vertical-align: top;\n",
       "    }\n",
       "\n",
       "    .dataframe thead th {\n",
       "        text-align: right;\n",
       "    }\n",
       "</style>\n",
       "<table border=\"1\" class=\"dataframe\">\n",
       "  <thead>\n",
       "    <tr style=\"text-align: right;\">\n",
       "      <th></th>\n",
       "      <th>nb_stats</th>\n",
       "      <th>nb_perfect_lines</th>\n",
       "      <th>nb_high_ratio</th>\n",
       "      <th>total_weight</th>\n",
       "      <th>is_exo</th>\n",
       "      <th>exo_weight</th>\n",
       "      <th>is_over</th>\n",
       "      <th>over_weight</th>\n",
       "      <th>pui_category</th>\n",
       "      <th>note</th>\n",
       "      <th>template_name</th>\n",
       "      <th>config_case</th>\n",
       "    </tr>\n",
       "  </thead>\n",
       "  <tbody>\n",
       "    <tr>\n",
       "      <th>0</th>\n",
       "      <td>6</td>\n",
       "      <td>2</td>\n",
       "      <td>0</td>\n",
       "      <td>770.0</td>\n",
       "      <td>True</td>\n",
       "      <td>38.0</td>\n",
       "      <td>False</td>\n",
       "      <td>0.0</td>\n",
       "      <td>moyen</td>\n",
       "      <td>85</td>\n",
       "      <td>Item_QIEOY</td>\n",
       "      <td>moyen_pui_exo</td>\n",
       "    </tr>\n",
       "    <tr>\n",
       "      <th>1</th>\n",
       "      <td>6</td>\n",
       "      <td>2</td>\n",
       "      <td>2</td>\n",
       "      <td>811.0</td>\n",
       "      <td>True</td>\n",
       "      <td>22.0</td>\n",
       "      <td>False</td>\n",
       "      <td>0.0</td>\n",
       "      <td>moyen</td>\n",
       "      <td>90</td>\n",
       "      <td>Item_QIEOY</td>\n",
       "      <td>moyen_pui_exo</td>\n",
       "    </tr>\n",
       "    <tr>\n",
       "      <th>2</th>\n",
       "      <td>6</td>\n",
       "      <td>2</td>\n",
       "      <td>2</td>\n",
       "      <td>753.0</td>\n",
       "      <td>True</td>\n",
       "      <td>36.0</td>\n",
       "      <td>False</td>\n",
       "      <td>0.0</td>\n",
       "      <td>moyen</td>\n",
       "      <td>85</td>\n",
       "      <td>Item_QIEOY</td>\n",
       "      <td>moyen_pui_exo</td>\n",
       "    </tr>\n",
       "    <tr>\n",
       "      <th>3</th>\n",
       "      <td>6</td>\n",
       "      <td>0</td>\n",
       "      <td>2</td>\n",
       "      <td>721.0</td>\n",
       "      <td>True</td>\n",
       "      <td>15.0</td>\n",
       "      <td>False</td>\n",
       "      <td>0.0</td>\n",
       "      <td>moyen</td>\n",
       "      <td>65</td>\n",
       "      <td>Item_QIEOY</td>\n",
       "      <td>moyen_pui_exo</td>\n",
       "    </tr>\n",
       "    <tr>\n",
       "      <th>4</th>\n",
       "      <td>6</td>\n",
       "      <td>3</td>\n",
       "      <td>2</td>\n",
       "      <td>780.0</td>\n",
       "      <td>True</td>\n",
       "      <td>50.0</td>\n",
       "      <td>False</td>\n",
       "      <td>0.0</td>\n",
       "      <td>moyen</td>\n",
       "      <td>90</td>\n",
       "      <td>Item_QIEOY</td>\n",
       "      <td>moyen_pui_exo</td>\n",
       "    </tr>\n",
       "  </tbody>\n",
       "</table>\n",
       "</div>"
      ],
      "text/plain": [
       "   nb_stats  nb_perfect_lines  nb_high_ratio  total_weight  is_exo  \\\n",
       "0         6                 2              0         770.0    True   \n",
       "1         6                 2              2         811.0    True   \n",
       "2         6                 2              2         753.0    True   \n",
       "3         6                 0              2         721.0    True   \n",
       "4         6                 3              2         780.0    True   \n",
       "\n",
       "   exo_weight  is_over  over_weight pui_category  note template_name  \\\n",
       "0        38.0    False          0.0        moyen    85    Item_QIEOY   \n",
       "1        22.0    False          0.0        moyen    90    Item_QIEOY   \n",
       "2        36.0    False          0.0        moyen    85    Item_QIEOY   \n",
       "3        15.0    False          0.0        moyen    65    Item_QIEOY   \n",
       "4        50.0    False          0.0        moyen    90    Item_QIEOY   \n",
       "\n",
       "     config_case  \n",
       "0  moyen_pui_exo  \n",
       "1  moyen_pui_exo  \n",
       "2  moyen_pui_exo  \n",
       "3  moyen_pui_exo  \n",
       "4  moyen_pui_exo  "
      ]
     },
     "execution_count": 11,
     "metadata": {},
     "output_type": "execute_result"
    }
   ],
   "source": [
    "df = pd.read_csv(\"data/processed/item_dataset.csv\")\n",
    "df.head()"
   ]
  },
  {
   "cell_type": "markdown",
   "id": "0af82151",
   "metadata": {
    "papermill": {
     "duration": 0.010399,
     "end_time": "2025-04-15T21:55:56.866198",
     "exception": false,
     "start_time": "2025-04-15T21:55:56.855799",
     "status": "completed"
    },
    "tags": []
   },
   "source": [
    "## Checker grossièrement avec describe()"
   ]
  },
  {
   "cell_type": "code",
   "execution_count": 12,
   "id": "3e699c37",
   "metadata": {
    "execution": {
     "iopub.execute_input": "2025-04-15T21:55:56.888125Z",
     "iopub.status.busy": "2025-04-15T21:55:56.887723Z",
     "iopub.status.idle": "2025-04-15T21:55:56.922028Z",
     "shell.execute_reply": "2025-04-15T21:55:56.920925Z"
    },
    "papermill": {
     "duration": 0.047255,
     "end_time": "2025-04-15T21:55:56.923864",
     "exception": false,
     "start_time": "2025-04-15T21:55:56.876609",
     "status": "completed"
    },
    "tags": []
   },
   "outputs": [
    {
     "data": {
      "text/html": [
       "<div>\n",
       "<style scoped>\n",
       "    .dataframe tbody tr th:only-of-type {\n",
       "        vertical-align: middle;\n",
       "    }\n",
       "\n",
       "    .dataframe tbody tr th {\n",
       "        vertical-align: top;\n",
       "    }\n",
       "\n",
       "    .dataframe thead th {\n",
       "        text-align: right;\n",
       "    }\n",
       "</style>\n",
       "<table border=\"1\" class=\"dataframe\">\n",
       "  <thead>\n",
       "    <tr style=\"text-align: right;\">\n",
       "      <th></th>\n",
       "      <th>nb_stats</th>\n",
       "      <th>nb_perfect_lines</th>\n",
       "      <th>nb_high_ratio</th>\n",
       "      <th>total_weight</th>\n",
       "      <th>exo_weight</th>\n",
       "      <th>over_weight</th>\n",
       "      <th>note</th>\n",
       "    </tr>\n",
       "  </thead>\n",
       "  <tbody>\n",
       "    <tr>\n",
       "      <th>count</th>\n",
       "      <td>15000.000000</td>\n",
       "      <td>15000.000000</td>\n",
       "      <td>15000.000000</td>\n",
       "      <td>15000.000000</td>\n",
       "      <td>15000.000000</td>\n",
       "      <td>15000.000000</td>\n",
       "      <td>15000.000000</td>\n",
       "    </tr>\n",
       "    <tr>\n",
       "      <th>mean</th>\n",
       "      <td>7.140000</td>\n",
       "      <td>2.281467</td>\n",
       "      <td>1.149067</td>\n",
       "      <td>765.480533</td>\n",
       "      <td>20.673900</td>\n",
       "      <td>5.995233</td>\n",
       "      <td>81.726467</td>\n",
       "    </tr>\n",
       "    <tr>\n",
       "      <th>std</th>\n",
       "      <td>1.435457</td>\n",
       "      <td>1.249939</td>\n",
       "      <td>0.971378</td>\n",
       "      <td>198.824300</td>\n",
       "      <td>20.865271</td>\n",
       "      <td>29.680627</td>\n",
       "      <td>11.409922</td>\n",
       "    </tr>\n",
       "    <tr>\n",
       "      <th>min</th>\n",
       "      <td>4.000000</td>\n",
       "      <td>0.000000</td>\n",
       "      <td>0.000000</td>\n",
       "      <td>116.000000</td>\n",
       "      <td>0.000000</td>\n",
       "      <td>0.000000</td>\n",
       "      <td>19.000000</td>\n",
       "    </tr>\n",
       "    <tr>\n",
       "      <th>25%</th>\n",
       "      <td>6.000000</td>\n",
       "      <td>1.000000</td>\n",
       "      <td>0.000000</td>\n",
       "      <td>701.000000</td>\n",
       "      <td>0.000000</td>\n",
       "      <td>0.000000</td>\n",
       "      <td>75.000000</td>\n",
       "    </tr>\n",
       "    <tr>\n",
       "      <th>50%</th>\n",
       "      <td>7.000000</td>\n",
       "      <td>2.000000</td>\n",
       "      <td>1.000000</td>\n",
       "      <td>798.000000</td>\n",
       "      <td>16.000000</td>\n",
       "      <td>0.000000</td>\n",
       "      <td>85.000000</td>\n",
       "    </tr>\n",
       "    <tr>\n",
       "      <th>75%</th>\n",
       "      <td>8.000000</td>\n",
       "      <td>3.000000</td>\n",
       "      <td>2.000000</td>\n",
       "      <td>880.000000</td>\n",
       "      <td>35.200000</td>\n",
       "      <td>0.000000</td>\n",
       "      <td>90.000000</td>\n",
       "    </tr>\n",
       "    <tr>\n",
       "      <th>max</th>\n",
       "      <td>10.000000</td>\n",
       "      <td>7.000000</td>\n",
       "      <td>5.000000</td>\n",
       "      <td>1424.750000</td>\n",
       "      <td>100.000000</td>\n",
       "      <td>500.000000</td>\n",
       "      <td>100.000000</td>\n",
       "    </tr>\n",
       "  </tbody>\n",
       "</table>\n",
       "</div>"
      ],
      "text/plain": [
       "           nb_stats  nb_perfect_lines  nb_high_ratio  total_weight  \\\n",
       "count  15000.000000      15000.000000   15000.000000  15000.000000   \n",
       "mean       7.140000          2.281467       1.149067    765.480533   \n",
       "std        1.435457          1.249939       0.971378    198.824300   \n",
       "min        4.000000          0.000000       0.000000    116.000000   \n",
       "25%        6.000000          1.000000       0.000000    701.000000   \n",
       "50%        7.000000          2.000000       1.000000    798.000000   \n",
       "75%        8.000000          3.000000       2.000000    880.000000   \n",
       "max       10.000000          7.000000       5.000000   1424.750000   \n",
       "\n",
       "         exo_weight   over_weight          note  \n",
       "count  15000.000000  15000.000000  15000.000000  \n",
       "mean      20.673900      5.995233     81.726467  \n",
       "std       20.865271     29.680627     11.409922  \n",
       "min        0.000000      0.000000     19.000000  \n",
       "25%        0.000000      0.000000     75.000000  \n",
       "50%       16.000000      0.000000     85.000000  \n",
       "75%       35.200000      0.000000     90.000000  \n",
       "max      100.000000    500.000000    100.000000  "
      ]
     },
     "execution_count": 12,
     "metadata": {},
     "output_type": "execute_result"
    }
   ],
   "source": [
    "df.describe()"
   ]
  },
  {
   "cell_type": "markdown",
   "id": "35877f19",
   "metadata": {
    "papermill": {
     "duration": 0.010301,
     "end_time": "2025-04-15T21:55:56.944506",
     "exception": false,
     "start_time": "2025-04-15T21:55:56.934205",
     "status": "completed"
    },
    "tags": []
   },
   "source": [
    "## 3.1. Taille du dataset"
   ]
  },
  {
   "cell_type": "code",
   "execution_count": 13,
   "id": "03a2c3eb",
   "metadata": {
    "execution": {
     "iopub.execute_input": "2025-04-15T21:55:56.967308Z",
     "iopub.status.busy": "2025-04-15T21:55:56.966964Z",
     "iopub.status.idle": "2025-04-15T21:55:56.972982Z",
     "shell.execute_reply": "2025-04-15T21:55:56.971851Z"
    },
    "papermill": {
     "duration": 0.019676,
     "end_time": "2025-04-15T21:55:56.974744",
     "exception": false,
     "start_time": "2025-04-15T21:55:56.955068",
     "status": "completed"
    },
    "tags": []
   },
   "outputs": [
    {
     "data": {
      "text/plain": [
       "(15000, 12)"
      ]
     },
     "execution_count": 13,
     "metadata": {},
     "output_type": "execute_result"
    }
   ],
   "source": [
    "df.shape"
   ]
  },
  {
   "cell_type": "markdown",
   "id": "1b98d32b",
   "metadata": {
    "papermill": {
     "duration": 0.010768,
     "end_time": "2025-04-15T21:55:56.996537",
     "exception": false,
     "start_time": "2025-04-15T21:55:56.985769",
     "status": "completed"
    },
    "tags": []
   },
   "source": [
    "## 3.2 Balance des classes"
   ]
  },
  {
   "cell_type": "code",
   "execution_count": 14,
   "id": "a31e69f1",
   "metadata": {
    "execution": {
     "iopub.execute_input": "2025-04-15T21:55:57.020451Z",
     "iopub.status.busy": "2025-04-15T21:55:57.020050Z",
     "iopub.status.idle": "2025-04-15T21:55:57.033733Z",
     "shell.execute_reply": "2025-04-15T21:55:57.032569Z"
    },
    "papermill": {
     "duration": 0.027017,
     "end_time": "2025-04-15T21:55:57.035573",
     "exception": false,
     "start_time": "2025-04-15T21:55:57.008556",
     "status": "completed"
    },
    "tags": []
   },
   "outputs": [
    {
     "data": {
      "text/plain": [
       "moyen_pui_exo      0.256667\n",
       "moyen_pui_over     0.256667\n",
       "moyen_pui_rien     0.256667\n",
       "gros_pui_exo       0.063333\n",
       "gros_pui_over      0.063333\n",
       "gros_pui_rien      0.063333\n",
       "faible_pui_exo     0.013333\n",
       "faible_pui_over    0.013333\n",
       "faible_pui_rien    0.013333\n",
       "Name: config_case, dtype: float64"
      ]
     },
     "execution_count": 14,
     "metadata": {},
     "output_type": "execute_result"
    }
   ],
   "source": [
    "df[\"config_case\"].value_counts(normalize=True)"
   ]
  },
  {
   "cell_type": "markdown",
   "id": "53071022",
   "metadata": {
    "papermill": {
     "duration": 0.011743,
     "end_time": "2025-04-15T21:55:57.058187",
     "exception": false,
     "start_time": "2025-04-15T21:55:57.046444",
     "status": "completed"
    },
    "tags": []
   },
   "source": [
    "## 3.3. Distribution des notes\n",
    "### 3.3.1. Distribution globale"
   ]
  },
  {
   "cell_type": "code",
   "execution_count": 15,
   "id": "a380df91",
   "metadata": {
    "execution": {
     "iopub.execute_input": "2025-04-15T21:55:57.085149Z",
     "iopub.status.busy": "2025-04-15T21:55:57.084789Z",
     "iopub.status.idle": "2025-04-15T21:55:59.471717Z",
     "shell.execute_reply": "2025-04-15T21:55:59.470510Z"
    },
    "papermill": {
     "duration": 2.402037,
     "end_time": "2025-04-15T21:55:59.473627",
     "exception": false,
     "start_time": "2025-04-15T21:55:57.071590",
     "status": "completed"
    },
    "tags": []
   },
   "outputs": [
    {
     "data": {
      "text/plain": [
       "Text(0.5, 0, 'Note de qualité')"
      ]
     },
     "execution_count": 15,
     "metadata": {},
     "output_type": "execute_result"
    },
    {
     "data": {
      "image/png": "[encoded data removed]",
      "text/plain": [
       "<Figure size 1000x500 with 1 Axes>"
      ]
     },
     "metadata": {},
     "output_type": "display_data"
    }
   ],
   "source": [
    "import matplotlib.pyplot as plt\n",
    "import seaborn as sns\n",
    "\n",
    "plt.figure(figsize=(10, 5))\n",
    "sns.histplot(df[\"note\"], bins=20, kde=True)\n",
    "plt.title(\"Distribution des notes\")\n",
    "plt.xlabel(\"Note de qualité\")"
   ]
  },
  {
   "cell_type": "markdown",
   "id": "776d360b",
   "metadata": {
    "papermill": {
     "duration": 0.013238,
     "end_time": "2025-04-15T21:55:59.498821",
     "exception": false,
     "start_time": "2025-04-15T21:55:59.485583",
     "status": "completed"
    },
    "tags": []
   },
   "source": [
    "### 3.3.2. Distribution des notes par catégorie de puits"
   ]
  },
  {
   "cell_type": "code",
   "execution_count": 16,
   "id": "7ed9a7e9",
   "metadata": {
    "execution": {
     "iopub.execute_input": "2025-04-15T21:55:59.524967Z",
     "iopub.status.busy": "2025-04-15T21:55:59.524351Z",
     "iopub.status.idle": "2025-04-15T21:55:59.835033Z",
     "shell.execute_reply": "2025-04-15T21:55:59.833867Z"
    },
    "papermill": {
     "duration": 0.325538,
     "end_time": "2025-04-15T21:55:59.837137",
     "exception": false,
     "start_time": "2025-04-15T21:55:59.511599",
     "status": "completed"
    },
    "tags": []
   },
   "outputs": [
    {
     "data": {
      "image/png": "[encoded data removed]",
      "text/plain": [
       "<Figure size 800x500 with 1 Axes>"
      ]
     },
     "metadata": {},
     "output_type": "display_data"
    }
   ],
   "source": [
    "plt.figure(figsize=(8, 5))\n",
    "sns.boxplot(data=df, x=\"pui_category\", y=\"note\")\n",
    "plt.title(\"Distribution des notes par type de puit\")\n",
    "plt.xlabel(\"Catégorie de puit\")\n",
    "plt.ylabel(\"Note\")\n",
    "plt.grid(True)\n",
    "plt.show()"
   ]
  },
  {
   "cell_type": "markdown",
   "id": "13315725",
   "metadata": {
    "papermill": {
     "duration": 0.012221,
     "end_time": "2025-04-15T21:55:59.862482",
     "exception": false,
     "start_time": "2025-04-15T21:55:59.850261",
     "status": "completed"
    },
    "tags": []
   },
   "source": [
    "## 3.4. Corrélation entre features"
   ]
  },
  {
   "cell_type": "code",
   "execution_count": 17,
   "id": "72e33ed7",
   "metadata": {
    "execution": {
     "iopub.execute_input": "2025-04-15T21:55:59.888531Z",
     "iopub.status.busy": "2025-04-15T21:55:59.888058Z",
     "iopub.status.idle": "2025-04-15T21:56:00.466487Z",
     "shell.execute_reply": "2025-04-15T21:56:00.465312Z"
    },
    "papermill": {
     "duration": 0.594942,
     "end_time": "2025-04-15T21:56:00.469911",
     "exception": false,
     "start_time": "2025-04-15T21:55:59.874969",
     "status": "completed"
    },
    "tags": []
   },
   "outputs": [
    {
     "data": {
      "text/plain": [
       "<Axes: >"
      ]
     },
     "execution_count": 17,
     "metadata": {},
     "output_type": "execute_result"
    },
    {
     "data": {
      "image/png": "[encoded data removed]",
      "text/plain": [
       "<Figure size 640x480 with 2 Axes>"
      ]
     },
     "metadata": {},
     "output_type": "display_data"
    }
   ],
   "source": [
    "sns.heatmap(df.corr(numeric_only=True), annot=True, cmap=\"coolwarm\")"
   ]
  },
  {
   "cell_type": "markdown",
   "id": "1623d4a2",
   "metadata": {
    "papermill": {
     "duration": 0.014273,
     "end_time": "2025-04-15T21:56:00.500786",
     "exception": false,
     "start_time": "2025-04-15T21:56:00.486513",
     "status": "completed"
    },
    "tags": []
   },
   "source": [
    "### 3.4.1. Corrélation note <-> stats parfaites"
   ]
  },
  {
   "cell_type": "code",
   "execution_count": 18,
   "id": "b58f9fbf",
   "metadata": {
    "execution": {
     "iopub.execute_input": "2025-04-15T21:56:00.531357Z",
     "iopub.status.busy": "2025-04-15T21:56:00.530951Z",
     "iopub.status.idle": "2025-04-15T21:56:01.411972Z",
     "shell.execute_reply": "2025-04-15T21:56:01.410975Z"
    },
    "papermill": {
     "duration": 0.898531,
     "end_time": "2025-04-15T21:56:01.413905",
     "exception": false,
     "start_time": "2025-04-15T21:56:00.515374",
     "status": "completed"
    },
    "tags": []
   },
   "outputs": [
    {
     "data": {
      "image/png": "[encoded data removed]",
      "text/plain": [
       "<Figure size 800x500 with 1 Axes>"
      ]
     },
     "metadata": {},
     "output_type": "display_data"
    }
   ],
   "source": [
    "plt.figure(figsize=(8, 5))\n",
    "sns.scatterplot(data=df, x=\"nb_perfect_lines\", y=\"note\", hue=\"pui_category\", alpha=0.6)\n",
    "plt.title(\"Lien entre nb de stats parfaites et note\")\n",
    "plt.xlabel(\"Nombre de stats parfaites\")\n",
    "plt.ylabel(\"Note\")\n",
    "plt.legend(title=\"Puit\")\n",
    "plt.grid(True)\n",
    "plt.show()"
   ]
  },
  {
   "cell_type": "markdown",
   "id": "d369dcc5",
   "metadata": {
    "papermill": {
     "duration": 0.015541,
     "end_time": "2025-04-15T21:56:01.445689",
     "exception": false,
     "start_time": "2025-04-15T21:56:01.430148",
     "status": "completed"
    },
    "tags": []
   },
   "source": [
    "## 3.5. Analyse par catégorie de puits"
   ]
  },
  {
   "cell_type": "code",
   "execution_count": 19,
   "id": "098df89d",
   "metadata": {
    "execution": {
     "iopub.execute_input": "2025-04-15T21:56:01.479373Z",
     "iopub.status.busy": "2025-04-15T21:56:01.479019Z",
     "iopub.status.idle": "2025-04-15T21:56:01.490870Z",
     "shell.execute_reply": "2025-04-15T21:56:01.489686Z"
    },
    "papermill": {
     "duration": 0.030647,
     "end_time": "2025-04-15T21:56:01.492517",
     "exception": false,
     "start_time": "2025-04-15T21:56:01.461870",
     "status": "completed"
    },
    "tags": []
   },
   "outputs": [
    {
     "data": {
      "text/plain": [
       "pui_category\n",
       "faible    85.843333\n",
       "gros      81.932982\n",
       "moyen     81.461645\n",
       "Name: note, dtype: float64"
      ]
     },
     "execution_count": 19,
     "metadata": {},
     "output_type": "execute_result"
    }
   ],
   "source": [
    "df.groupby(\"pui_category\")[\"note\"].mean()"
   ]
  },
  {
   "cell_type": "markdown",
   "id": "c6fca5e0",
   "metadata": {
    "papermill": {
     "duration": 0.015734,
     "end_time": "2025-04-15T21:56:01.524306",
     "exception": false,
     "start_time": "2025-04-15T21:56:01.508572",
     "status": "completed"
    },
    "tags": []
   },
   "source": [
    "# ****4. Modélisation et prédiction****\n",
    "## Objectifs\n",
    "- Déterminer le modèle le plus adéquate pour prédire la note d'un item\n",
    "- Tester plusieurs modèles, les évaluer et garder le meilleur modèle"
   ]
  },
  {
   "cell_type": "markdown",
   "id": "2a780dcb",
   "metadata": {
    "papermill": {
     "duration": 0.015788,
     "end_time": "2025-04-15T21:56:01.556021",
     "exception": false,
     "start_time": "2025-04-15T21:56:01.540233",
     "status": "completed"
    },
    "tags": []
   },
   "source": [
    "## 4.1. Modèles de regression\n",
    "## 4.1.1. RandomForestRegressor"
   ]
  },
  {
   "cell_type": "code",
   "execution_count": 20,
   "id": "f548f118",
   "metadata": {
    "execution": {
     "iopub.execute_input": "2025-04-15T21:56:01.590050Z",
     "iopub.status.busy": "2025-04-15T21:56:01.589692Z",
     "iopub.status.idle": "2025-04-15T21:56:07.379655Z",
     "shell.execute_reply": "2025-04-15T21:56:07.378283Z"
    },
    "papermill": {
     "duration": 5.809881,
     "end_time": "2025-04-15T21:56:07.381888",
     "exception": false,
     "start_time": "2025-04-15T21:56:01.572007",
     "status": "completed"
    },
    "tags": []
   },
   "outputs": [
    {
     "name": "stdout",
     "output_type": "stream",
     "text": [
      "RMSE : 8.75\n",
      "R² : 0.368\n"
     ]
    }
   ],
   "source": [
    "from sklearn.model_selection import train_test_split\n",
    "from sklearn.ensemble import RandomForestRegressor\n",
    "from sklearn.metrics import mean_squared_error, r2_score\n",
    "\n",
    "# 1. Génération des données\n",
    "df = generate_dataset()\n",
    "\n",
    "# 2. Sélection des variables numériques\n",
    "features = [\"nb_stats\", \"nb_perfect_lines\", \"nb_high_ratio\", \"total_weight\", \"exo_weight\", \"over_weight\"]\n",
    "target = \"note\"\n",
    "\n",
    "X = df[features]\n",
    "y = df[target]\n",
    "\n",
    "# 3. Séparation train/test\n",
    "X_train, X_test, y_train, y_test = train_test_split(X, y, test_size=0.2, random_state=42)\n",
    "\n",
    "# 4. Modèle\n",
    "model = RandomForestRegressor(n_estimators=100, random_state=42)\n",
    "model.fit(X_train, y_train)\n",
    "\n",
    "# 5. Prédictions\n",
    "y_pred = model.predict(X_test)\n",
    "\n",
    "# 6. Évaluation\n",
    "rmse = mean_squared_error(y_test, y_pred, squared=False)\n",
    "r2 = r2_score(y_test, y_pred)\n",
    "\n",
    "print(f\"RMSE : {rmse:.2f}\")\n",
    "print(f\"R² : {r2:.3f}\")"
   ]
  },
  {
   "cell_type": "markdown",
   "id": "03722533",
   "metadata": {
    "papermill": {
     "duration": 0.016047,
     "end_time": "2025-04-15T21:56:07.415728",
     "exception": false,
     "start_time": "2025-04-15T21:56:07.399681",
     "status": "completed"
    },
    "tags": []
   },
   "source": [
    "## 4.1.2. GradientBoostingRegressor"
   ]
  },
  {
   "cell_type": "code",
   "execution_count": 21,
   "id": "d482ff5f",
   "metadata": {
    "execution": {
     "iopub.execute_input": "2025-04-15T21:56:07.450724Z",
     "iopub.status.busy": "2025-04-15T21:56:07.450269Z",
     "iopub.status.idle": "2025-04-15T21:56:10.354092Z",
     "shell.execute_reply": "2025-04-15T21:56:10.353089Z"
    },
    "papermill": {
     "duration": 2.923758,
     "end_time": "2025-04-15T21:56:10.356075",
     "exception": false,
     "start_time": "2025-04-15T21:56:07.432317",
     "status": "completed"
    },
    "tags": []
   },
   "outputs": [
    {
     "name": "stdout",
     "output_type": "stream",
     "text": [
      "GradientBoostingRegressor → RMSE : 8.78\n",
      "GradientBoostingRegressor → R² : 0.448\n"
     ]
    }
   ],
   "source": [
    "from sklearn.ensemble import GradientBoostingRegressor\n",
    "from sklearn.model_selection import train_test_split\n",
    "from sklearn.metrics import mean_squared_error, r2_score\n",
    "\n",
    "# Générer les données\n",
    "df = generate_dataset()\n",
    "\n",
    "# Features utilisées pour l'entraînement\n",
    "features = [\"nb_stats\", \"nb_perfect_lines\", \"nb_high_ratio\", \"total_weight\", \"exo_weight\", \"over_weight\"]\n",
    "target = \"note\"\n",
    "\n",
    "X = df[features]\n",
    "y = df[target]\n",
    "\n",
    "# Split train/test\n",
    "X_train, X_test, y_train, y_test = train_test_split(X, y, test_size=0.2, random_state=42)\n",
    "\n",
    "# Modèle Gradient Boosting\n",
    "model = GradientBoostingRegressor(n_estimators=100, learning_rate=0.1, max_depth=3, random_state=42)\n",
    "model.fit(X_train, y_train)\n",
    "\n",
    "# Prédiction\n",
    "y_pred = model.predict(X_test)\n",
    "\n",
    "# Évaluation\n",
    "rmse = mean_squared_error(y_test, y_pred, squared=False)\n",
    "r2 = r2_score(y_test, y_pred)\n",
    "\n",
    "print(f\"GradientBoostingRegressor → RMSE : {rmse:.2f}\")\n",
    "print(f\"GradientBoostingRegressor → R² : {r2:.3f}\")"
   ]
  },
  {
   "cell_type": "markdown",
   "id": "d25699f7",
   "metadata": {
    "papermill": {
     "duration": 0.015991,
     "end_time": "2025-04-15T21:56:10.388214",
     "exception": false,
     "start_time": "2025-04-15T21:56:10.372223",
     "status": "completed"
    },
    "tags": []
   },
   "source": [
    "### 4.1.3. Bilan des modèles de regression\n",
    "On remarque que pour les deux premiers modèles, le RMSE semble correcte mais l'indicateur R2 semble indiquer que les  modèles ne prédisent pas correctement le comportement souhaité\n",
    "\n",
    "On va donc vérifier l'importance des features au sein du dataset"
   ]
  },
  {
   "cell_type": "code",
   "execution_count": 22,
   "id": "04460621",
   "metadata": {
    "execution": {
     "iopub.execute_input": "2025-04-15T21:56:10.425238Z",
     "iopub.status.busy": "2025-04-15T21:56:10.424892Z",
     "iopub.status.idle": "2025-04-15T21:56:10.432910Z",
     "shell.execute_reply": "2025-04-15T21:56:10.431753Z"
    },
    "papermill": {
     "duration": 0.029864,
     "end_time": "2025-04-15T21:56:10.434669",
     "exception": false,
     "start_time": "2025-04-15T21:56:10.404805",
     "status": "completed"
    },
    "tags": []
   },
   "outputs": [
    {
     "name": "stdout",
     "output_type": "stream",
     "text": [
      "nb_stats : 0.461\n",
      "nb_perfect_lines : 0.279\n",
      "nb_high_ratio : 0.054\n",
      "total_weight : 0.158\n",
      "exo_weight : 0.018\n",
      "over_weight : 0.031\n"
     ]
    }
   ],
   "source": [
    "importances = model.feature_importances_\n",
    "for feat, imp in zip(features, importances):\n",
    "    print(f\"{feat} : {imp:.3f}\")\n"
   ]
  },
  {
   "cell_type": "markdown",
   "id": "aa2ffe77",
   "metadata": {
    "papermill": {
     "duration": 0.01616,
     "end_time": "2025-04-15T21:56:10.467000",
     "exception": false,
     "start_time": "2025-04-15T21:56:10.450840",
     "status": "completed"
    },
    "tags": []
   },
   "source": [
    "On remarque que le nb_perfect_lines joue un grand rôle dans l'évaluation ce qui est normal\n",
    "Il faut donc trouver une alternative pour enrichir les features ou simplifier la prédiction\n",
    "\n",
    "Remarque : essayons de classifier nos résultats afin de faire de la classification"
   ]
  },
  {
   "cell_type": "markdown",
   "id": "dabd88f1",
   "metadata": {
    "papermill": {
     "duration": 0.016363,
     "end_time": "2025-04-15T21:56:10.499718",
     "exception": false,
     "start_time": "2025-04-15T21:56:10.483355",
     "status": "completed"
    },
    "tags": []
   },
   "source": [
    "## 4.2. Modèle par classification\n",
    "## 4.2.1. RandomForestClassifier"
   ]
  },
  {
   "cell_type": "code",
   "execution_count": 23,
   "id": "5b236653",
   "metadata": {
    "execution": {
     "iopub.execute_input": "2025-04-15T21:56:10.534468Z",
     "iopub.status.busy": "2025-04-15T21:56:10.534055Z",
     "iopub.status.idle": "2025-04-15T21:56:13.095910Z",
     "shell.execute_reply": "2025-04-15T21:56:13.094640Z"
    },
    "papermill": {
     "duration": 2.581815,
     "end_time": "2025-04-15T21:56:13.097851",
     "exception": false,
     "start_time": "2025-04-15T21:56:10.516036",
     "status": "completed"
    },
    "tags": []
   },
   "outputs": [
    {
     "name": "stdout",
     "output_type": "stream",
     "text": [
      "Classification Report (multi-classes) :\n",
      "               precision    recall  f1-score   support\n",
      "\n",
      "excellent jet       0.00      0.00      0.00        17\n",
      "  jet mauvais       0.47      0.43      0.45       591\n",
      "    jet moyen       0.48      0.49      0.49       981\n",
      "  jet parfait       0.67      0.09      0.16        22\n",
      " très bon jet       0.68      0.71      0.69      1389\n",
      "\n",
      "     accuracy                           0.57      3000\n",
      "    macro avg       0.46      0.34      0.36      3000\n",
      " weighted avg       0.57      0.57      0.57      3000\n",
      "\n",
      "Matrice de confusion :\n",
      "[[  0   0   4   0  13]\n",
      " [  1 256 219   0 115]\n",
      " [  1 178 479   0 323]\n",
      " [  1   0   1   2  18]\n",
      " [  6 113 285   1 984]]\n"
     ]
    },
    {
     "data": {
      "image/png": "[encoded data removed]",
      "text/plain": [
       "<Figure size 800x400 with 1 Axes>"
      ]
     },
     "metadata": {},
     "output_type": "display_data"
    }
   ],
   "source": [
    "from sklearn.ensemble import RandomForestClassifier\n",
    "from sklearn.model_selection import train_test_split\n",
    "from sklearn.metrics import classification_report, confusion_matrix\n",
    "\n",
    "# Le dataset est supposé avoir été généré dans une cellule précédente\n",
    "# Exemple : df = generate_dataset()\n",
    "full_df = df.copy()\n",
    "\n",
    "# Ajout d'une colonne de classe multi-niveaux selon la note\n",
    "def label_item(note):\n",
    "    if note == 100:\n",
    "        return \"jet parfait\"\n",
    "    elif note > 95:\n",
    "        return \"excellent jet\"\n",
    "    elif note > 85:\n",
    "        return \"très bon jet\"\n",
    "    elif note > 70:\n",
    "        return \"jet moyen\"\n",
    "    else:\n",
    "        return \"jet mauvais\"\n",
    "\n",
    "full_df[\"qualité\"] = full_df[\"note\"].apply(label_item)\n",
    "\n",
    "# Enrichissement des features\n",
    "full_df[\"perfect_ratio\"] = full_df[\"nb_perfect_lines\"] / full_df[\"nb_stats\"]\n",
    "full_df[\"has_dommage\"] = full_df.columns.str.contains(\"dommage\") & full_df.notna().any()\n",
    "full_df[\"has_dommage\"] = full_df.apply(lambda row: any(\"dommage\" in col and row[col] > 0 for col in full_df.columns), axis=1)\n",
    "full_df[\"has_dommage_elementaire\"] = full_df.apply(lambda row: any(stat in row and row[stat] > 0 for stat in [\"dommage_feu\", \"dommage_air\", \"dommage_eau\", \"dommage_terre\", \"dommage_neutre\"]), axis=1)\n",
    "full_df[\"has_resistance_%\"] = full_df.apply(lambda row: any(\"résistance_\" in stat and \"%\" in stat and row[stat] > 0 for stat in row.index if stat in row), axis=1)\n",
    "\n",
    "# Sélection des features numériques enrichies\n",
    "X = full_df[[\"nb_stats\", \"nb_perfect_lines\", \"nb_high_ratio\", \"total_weight\", \"exo_weight\", \"over_weight\", \"perfect_ratio\", \"has_dommage\", \"has_dommage_elementaire\", \"has_resistance_%\"]]\n",
    "y = full_df[\"qualité\"]\n",
    "\n",
    "# Split données\n",
    "X_train, X_test, y_train, y_test = train_test_split(X, y, test_size=0.2, random_state=42)\n",
    "\n",
    "# Modèle\n",
    "clf = RandomForestClassifier(n_estimators=100, random_state=42)\n",
    "clf.fit(X_train, y_train)\n",
    "\n",
    "# Prédictions\n",
    "y_pred = clf.predict(X_test)\n",
    "\n",
    "# Évaluation\n",
    "print(\"Classification Report (multi-classes) :\")\n",
    "print(classification_report(y_test, y_pred))\n",
    "\n",
    "print(\"Matrice de confusion :\")\n",
    "print(confusion_matrix(y_test, y_pred))\n",
    "\n",
    "# Visualisation de la répartition des classes\n",
    "import seaborn as sns\n",
    "import matplotlib.pyplot as plt\n",
    "\n",
    "plt.figure(figsize=(8, 4))\n",
    "sns.countplot(data=full_df, x=\"qualité\", order=full_df[\"qualité\"].value_counts().index)\n",
    "plt.title(\"Répartition des classes de qualité\")\n",
    "plt.xlabel(\"Classe de qualité\")\n",
    "plt.ylabel(\"Nombre d'items\")\n",
    "plt.xticks(rotation=30)\n",
    "plt.grid(True)\n",
    "plt.tight_layout()\n",
    "plt.show()\n"
   ]
  },
  {
   "cell_type": "markdown",
   "id": "776b50e5",
   "metadata": {
    "papermill": {
     "duration": 0.01936,
     "end_time": "2025-04-15T21:56:13.135066",
     "exception": false,
     "start_time": "2025-04-15T21:56:13.115706",
     "status": "completed"
    },
    "tags": []
   },
   "source": [
    "On remarque qu'il y a beaucoup trop d'item avec un très bon jet.\n",
    "\n",
    "On va rééquilibrer le modèle pour qu'il se foacalise davantage sur les classes minoritaires"
   ]
  },
  {
   "cell_type": "markdown",
   "id": "fdc752d2",
   "metadata": {
    "papermill": {
     "duration": 0.016935,
     "end_time": "2025-04-15T21:56:13.169013",
     "exception": false,
     "start_time": "2025-04-15T21:56:13.152078",
     "status": "completed"
    },
    "tags": []
   },
   "source": [
    "## 4.2.2. RandomForestClassifier Balanced"
   ]
  },
  {
   "cell_type": "code",
   "execution_count": 24,
   "id": "b9eb45f6",
   "metadata": {
    "execution": {
     "iopub.execute_input": "2025-04-15T21:56:13.204339Z",
     "iopub.status.busy": "2025-04-15T21:56:13.203986Z",
     "iopub.status.idle": "2025-04-15T21:56:15.845137Z",
     "shell.execute_reply": "2025-04-15T21:56:15.843976Z"
    },
    "papermill": {
     "duration": 2.661032,
     "end_time": "2025-04-15T21:56:15.846963",
     "exception": false,
     "start_time": "2025-04-15T21:56:13.185931",
     "status": "completed"
    },
    "tags": []
   },
   "outputs": [
    {
     "name": "stdout",
     "output_type": "stream",
     "text": [
      "Classification Report (multi-classes) :\n",
      "               precision    recall  f1-score   support\n",
      "\n",
      "excellent jet       0.00      0.00      0.00        17\n",
      "  jet mauvais       0.45      0.43      0.44       591\n",
      "    jet moyen       0.49      0.49      0.49       981\n",
      "  jet parfait       0.50      0.05      0.08        22\n",
      " très bon jet       0.68      0.70      0.69      1389\n",
      "\n",
      "     accuracy                           0.57      3000\n",
      "    macro avg       0.42      0.33      0.34      3000\n",
      " weighted avg       0.57      0.57      0.57      3000\n",
      "\n",
      "Matrice de confusion :\n",
      "[[  0   0   4   0  13]\n",
      " [  0 256 219   0 116]\n",
      " [  1 186 479   0 315]\n",
      " [  1   0   2   1  18]\n",
      " [  5 123 283   1 977]]\n"
     ]
    },
    {
     "data": {
      "image/png": "[encoded data removed]",
      "text/plain": [
       "<Figure size 800x400 with 1 Axes>"
      ]
     },
     "metadata": {},
     "output_type": "display_data"
    }
   ],
   "source": [
    "from sklearn.ensemble import RandomForestClassifier\n",
    "from sklearn.model_selection import train_test_split\n",
    "from sklearn.metrics import classification_report, confusion_matrix\n",
    "\n",
    "# Le dataset est supposé avoir été généré dans une cellule précédente\n",
    "# Exemple : df = generate_dataset()\n",
    "full_df = df.copy()\n",
    "\n",
    "# Ajout d'une colonne de classe multi-niveaux selon la note\n",
    "def label_item(note):\n",
    "    if note == 100:\n",
    "        return \"jet parfait\"\n",
    "    elif note > 95:\n",
    "        return \"excellent jet\"\n",
    "    elif note > 85:\n",
    "        return \"très bon jet\"\n",
    "    elif note > 70:\n",
    "        return \"jet moyen\"\n",
    "    else:\n",
    "        return \"jet mauvais\"\n",
    "\n",
    "full_df[\"qualité\"] = full_df[\"note\"].apply(label_item)\n",
    "\n",
    "# Enrichissement des features\n",
    "full_df[\"perfect_ratio\"] = full_df[\"nb_perfect_lines\"] / full_df[\"nb_stats\"]\n",
    "full_df[\"has_dommage\"] = full_df.columns.str.contains(\"dommage\") & full_df.notna().any()\n",
    "full_df[\"has_dommage\"] = full_df.apply(lambda row: any(\"dommage\" in col and row[col] > 0 for col in full_df.columns), axis=1)\n",
    "full_df[\"has_dommage_elementaire\"] = full_df.apply(lambda row: any(stat in row and row[stat] > 0 for stat in [\"dommage_feu\", \"dommage_air\", \"dommage_eau\", \"dommage_terre\", \"dommage_neutre\"]), axis=1)\n",
    "full_df[\"has_resistance_%\"] = full_df.apply(lambda row: any(\"résistance_\" in stat and \"%\" in stat and row[stat] > 0 for stat in row.index if stat in row), axis=1)\n",
    "\n",
    "# Sélection des features numériques enrichies\n",
    "X = full_df[[\"nb_stats\", \"nb_perfect_lines\", \"nb_high_ratio\", \"total_weight\", \"exo_weight\", \"over_weight\", \"perfect_ratio\", \"has_dommage\", \"has_dommage_elementaire\", \"has_resistance_%\"]]\n",
    "y = full_df[\"qualité\"]\n",
    "\n",
    "# Split données\n",
    "X_train, X_test, y_train, y_test = train_test_split(X, y, test_size=0.2, random_state=42)\n",
    "\n",
    "# Modèle\n",
    "clf = RandomForestClassifier(n_estimators=100, class_weight=\"balanced\", random_state=42)\n",
    "clf.fit(X_train, y_train)\n",
    "\n",
    "# Prédictions\n",
    "y_pred = clf.predict(X_test)\n",
    "\n",
    "# Évaluation\n",
    "print(\"Classification Report (multi-classes) :\")\n",
    "print(classification_report(y_test, y_pred))\n",
    "\n",
    "print(\"Matrice de confusion :\")\n",
    "print(confusion_matrix(y_test, y_pred))\n",
    "\n",
    "# Visualisation de la répartition des classes\n",
    "import seaborn as sns\n",
    "import matplotlib.pyplot as plt\n",
    "\n",
    "plt.figure(figsize=(8, 4))\n",
    "sns.countplot(data=full_df, x=\"qualité\", order=full_df[\"qualité\"].value_counts().index)\n",
    "plt.title(\"Répartition des classes de qualité\")\n",
    "plt.xlabel(\"Classe de qualité\")\n",
    "plt.ylabel(\"Nombre d'items\")\n",
    "plt.xticks(rotation=30)\n",
    "plt.grid(True)\n",
    "plt.tight_layout()\n",
    "plt.show()"
   ]
  },
  {
   "cell_type": "markdown",
   "id": "9f33981e",
   "metadata": {
    "papermill": {
     "duration": 0.02009,
     "end_time": "2025-04-15T21:56:15.885997",
     "exception": false,
     "start_time": "2025-04-15T21:56:15.865907",
     "status": "completed"
    },
    "tags": []
   },
   "source": [
    "## 4.2.3. GradientBoostingClassifier"
   ]
  },
  {
   "cell_type": "code",
   "execution_count": 25,
   "id": "c74eb8d6",
   "metadata": {
    "execution": {
     "iopub.execute_input": "2025-04-15T21:56:15.986807Z",
     "iopub.status.busy": "2025-04-15T21:56:15.986321Z",
     "iopub.status.idle": "2025-04-15T21:56:33.532146Z",
     "shell.execute_reply": "2025-04-15T21:56:33.530973Z"
    },
    "papermill": {
     "duration": 17.628289,
     "end_time": "2025-04-15T21:56:33.534195",
     "exception": false,
     "start_time": "2025-04-15T21:56:15.905906",
     "status": "completed"
    },
    "tags": []
   },
   "outputs": [
    {
     "name": "stdout",
     "output_type": "stream",
     "text": [
      "Classification Report (multi-classes) :\n",
      "               precision    recall  f1-score   support\n",
      "\n",
      "excellent jet       0.00      0.00      0.00        17\n",
      "  jet mauvais       0.60      0.39      0.47       591\n",
      "    jet moyen       0.51      0.53      0.52       981\n",
      "  jet parfait       0.71      0.23      0.34        22\n",
      " très bon jet       0.69      0.79      0.74      1389\n",
      "\n",
      "     accuracy                           0.62      3000\n",
      "    macro avg       0.50      0.39      0.42      3000\n",
      " weighted avg       0.61      0.62      0.61      3000\n",
      "\n",
      "Matrice de confusion :\n",
      "[[   0    0    1    0   16]\n",
      " [   0  228  257    0  106]\n",
      " [   0  108  524    0  349]\n",
      " [   0    0    0    5   17]\n",
      " [   2   45  237    2 1103]]\n"
     ]
    },
    {
     "data": {
      "image/png": "[encoded data removed]",
      "text/plain": [
       "<Figure size 800x400 with 1 Axes>"
      ]
     },
     "metadata": {},
     "output_type": "display_data"
    }
   ],
   "source": [
    "from sklearn.ensemble import RandomForestClassifier\n",
    "from sklearn.model_selection import train_test_split\n",
    "from sklearn.metrics import classification_report, confusion_matrix\n",
    "\n",
    "# Le dataset est supposé avoir été généré dans une cellule précédente\n",
    "# Exemple : df = generate_dataset()\n",
    "full_df = df.copy()\n",
    "\n",
    "# Ajout d'une colonne de classe multi-niveaux selon la note\n",
    "def label_item(note):\n",
    "    if note == 100:\n",
    "        return \"jet parfait\"\n",
    "    elif note > 95:\n",
    "        return \"excellent jet\"\n",
    "    elif note > 85:\n",
    "        return \"très bon jet\"\n",
    "    elif note > 70:\n",
    "        return \"jet moyen\"\n",
    "    else:\n",
    "        return \"jet mauvais\"\n",
    "\n",
    "full_df[\"qualité\"] = full_df[\"note\"].apply(label_item)\n",
    "\n",
    "# Enrichissement des features\n",
    "full_df[\"perfect_ratio\"] = full_df[\"nb_perfect_lines\"] / full_df[\"nb_stats\"]\n",
    "full_df[\"has_dommage\"] = full_df.columns.str.contains(\"dommage\") & full_df.notna().any()\n",
    "full_df[\"has_dommage\"] = full_df.apply(lambda row: any(\"dommage\" in col and row[col] > 0 for col in full_df.columns), axis=1)\n",
    "full_df[\"has_dommage_elementaire\"] = full_df.apply(lambda row: any(stat in row and row[stat] > 0 for stat in [\"dommage_feu\", \"dommage_air\", \"dommage_eau\", \"dommage_terre\", \"dommage_neutre\"]), axis=1)\n",
    "full_df[\"has_resistance_%\"] = full_df.apply(lambda row: any(\"résistance_\" in stat and \"%\" in stat and row[stat] > 0 for stat in row.index if stat in row), axis=1)\n",
    "\n",
    "# Sélection des features numériques enrichies\n",
    "X = full_df[[\"nb_stats\", \"nb_perfect_lines\", \"nb_high_ratio\", \"total_weight\", \"exo_weight\", \"over_weight\", \"perfect_ratio\", \"has_dommage\", \"has_dommage_elementaire\", \"has_resistance_%\"]]\n",
    "y = full_df[\"qualité\"]\n",
    "\n",
    "# Split données\n",
    "X_train, X_test, y_train, y_test = train_test_split(X, y, test_size=0.2, random_state=42)\n",
    "\n",
    "# Modèle\n",
    "from sklearn.ensemble import GradientBoostingClassifier\n",
    "clf = GradientBoostingClassifier(n_estimators=200, learning_rate=0.05, max_depth=4, random_state=42)\n",
    "clf.fit(X_train, y_train)\n",
    "\n",
    "# Prédictions\n",
    "y_pred = clf.predict(X_test)\n",
    "\n",
    "# Évaluation\n",
    "print(\"Classification Report (multi-classes) :\")\n",
    "print(classification_report(y_test, y_pred))\n",
    "\n",
    "print(\"Matrice de confusion :\")\n",
    "print(confusion_matrix(y_test, y_pred))\n",
    "\n",
    "# Visualisation de la répartition des classes\n",
    "import seaborn as sns\n",
    "import matplotlib.pyplot as plt\n",
    "\n",
    "plt.figure(figsize=(8, 4))\n",
    "sns.countplot(data=full_df, x=\"qualité\", order=full_df[\"qualité\"].value_counts().index)\n",
    "plt.title(\"Répartition des classes de qualité\")\n",
    "plt.xlabel(\"Classe de qualité\")\n",
    "plt.ylabel(\"Nombre d'items\")\n",
    "plt.xticks(rotation=30)\n",
    "plt.grid(True)\n",
    "plt.tight_layout()\n",
    "plt.show()\n"
   ]
  },
  {
   "cell_type": "markdown",
   "id": "665fb9d2",
   "metadata": {
    "papermill": {
     "duration": 0.020239,
     "end_time": "2025-04-15T21:56:33.576097",
     "exception": false,
     "start_time": "2025-04-15T21:56:33.555858",
     "status": "completed"
    },
    "tags": []
   },
   "source": [
    "On va simplifier la classification"
   ]
  },
  {
   "cell_type": "markdown",
   "id": "c3caa1fb",
   "metadata": {
    "papermill": {
     "duration": 0.019045,
     "end_time": "2025-04-15T21:56:33.614734",
     "exception": false,
     "start_time": "2025-04-15T21:56:33.595689",
     "status": "completed"
    },
    "tags": []
   },
   "source": [
    "## 4.2.4. GradientBoostingClassifier simplified classes"
   ]
  },
  {
   "cell_type": "code",
   "execution_count": 26,
   "id": "e5130382",
   "metadata": {
    "execution": {
     "iopub.execute_input": "2025-04-15T21:56:33.660005Z",
     "iopub.status.busy": "2025-04-15T21:56:33.659648Z",
     "iopub.status.idle": "2025-04-15T21:57:09.939152Z",
     "shell.execute_reply": "2025-04-15T21:57:09.937980Z"
    },
    "papermill": {
     "duration": 36.324965,
     "end_time": "2025-04-15T21:57:09.959850",
     "exception": false,
     "start_time": "2025-04-15T21:56:33.634885",
     "status": "completed"
    },
    "tags": []
   },
   "outputs": [
    {
     "name": "stdout",
     "output_type": "stream",
     "text": [
      "Classification Report (simplifié) :\n",
      "              precision    recall  f1-score   support\n",
      "\n",
      " jet mauvais       0.56      0.42      0.48       733\n",
      "   jet moyen       0.67      0.80      0.73      1692\n",
      " jet parfait       0.39      0.32      0.35        22\n",
      "très bon jet       0.60      0.45      0.51       553\n",
      "\n",
      "    accuracy                           0.64      3000\n",
      "   macro avg       0.55      0.50      0.52      3000\n",
      "weighted avg       0.63      0.64      0.62      3000\n",
      "\n",
      "Matrice de confusion :\n",
      "[[ 307  395    0   31]\n",
      " [ 214 1349    3  126]\n",
      " [   0    3    7   12]\n",
      " [  24  272    8  249]]\n"
     ]
    }
   ],
   "source": [
    "from sklearn.ensemble import RandomForestClassifier\n",
    "from sklearn.model_selection import train_test_split\n",
    "from sklearn.metrics import classification_report, confusion_matrix\n",
    "\n",
    "# Le dataset est supposé avoir été généré dans une cellule précédente\n",
    "# Exemple : df = generate_dataset()\n",
    "full_df = df.copy()\n",
    "\n",
    "# Ajout d'une colonne de classe multi-niveaux selon la note\n",
    "def label_item(note):\n",
    "    if note == 100:\n",
    "        return \"jet parfait\"\n",
    "    elif note > 90:\n",
    "        return \"très bon jet\"\n",
    "    elif note > 75:\n",
    "        return \"jet moyen\"\n",
    "    else:\n",
    "        return \"jet mauvais\"\n",
    "\n",
    "full_df[\"qualité\"] = full_df[\"note\"].apply(label_item)\n",
    "\n",
    "# Ajout des features dérivées manquantes\n",
    "full_df[\"perfect_ratio\"] = full_df[\"nb_perfect_lines\"] / full_df[\"nb_stats\"]\n",
    "full_df[\"has_dommage\"] = full_df.apply(lambda row: any(\"dommage\" in col and row[col] > 0 for col in full_df.columns), axis=1)\n",
    "full_df[\"has_dommage_elementaire\"] = full_df.apply(lambda row: any(stat in row and row[stat] > 0 for stat in [\"dommage_feu\", \"dommage_air\", \"dommage_eau\", \"dommage_terre\", \"dommage_neutre\"]), axis=1)\n",
    "full_df[\"has_resistance_%\"] = full_df.apply(lambda row: any(\"résistance_\" in stat and \"%\" in stat and row[stat] > 0 for stat in row.index if stat in row), axis=1)\n",
    "\n",
    "# Sélection des features\n",
    "X = full_df[[\"nb_stats\", \"nb_perfect_lines\", \"nb_high_ratio\", \"total_weight\",\n",
    "             \"exo_weight\", \"over_weight\", \"perfect_ratio\",\n",
    "             \"has_dommage\", \"has_dommage_elementaire\", \"has_resistance_%\"]]\n",
    "y = full_df[\"qualité\"]\n",
    "\n",
    "# Split\n",
    "df_train, df_test, y_train, y_test = train_test_split(X, y, test_size=0.2, random_state=42)\n",
    "\n",
    "# Modèle\n",
    "from sklearn.ensemble import GradientBoostingClassifier\n",
    "clf = GradientBoostingClassifier(n_estimators=200, learning_rate=0.05, max_depth=10, random_state=42)\n",
    "clf.fit(df_train, y_train)\n",
    "\n",
    "# Prédiction\n",
    "y_pred = clf.predict(df_test)\n",
    "\n",
    "# Évaluation\n",
    "print(\"Classification Report (simplifié) :\")\n",
    "print(classification_report(y_test, y_pred))\n",
    "\n",
    "print(\"Matrice de confusion :\")\n",
    "print(confusion_matrix(y_test, y_pred))"
   ]
  }
 ],
 "metadata": {
  "kaggle": {
   "accelerator": "none",
   "dataSources": [],
   "dockerImageVersionId": 30918,
   "isGpuEnabled": false,
   "isInternetEnabled": false,
   "language": "python",
   "sourceType": "notebook"
  },
  "kernelspec": {
   "display_name": ".venv",
   "language": "python",
   "name": "python3"
  },
  "language_info": {
   "codemirror_mode": {
    "name": "ipython",
    "version": 3
   },
   "file_extension": ".py",
   "mimetype": "text/x-python",
   "name": "python",
   "nbconvert_exporter": "python",
   "pygments_lexer": "ipython3",
   "version": "3.10.11"
  },
  "papermill": {
   "default_parameters": {},
   "duration": 81.507858,
   "end_time": "2025-04-15T21:57:10.802036",
   "environment_variables": {},
   "exception": null,
   "input_path": "__notebook__.ipynb",
   "output_path": "__notebook__.ipynb",
   "parameters": {},
   "start_time": "2025-04-15T21:55:49.294178",
   "version": "2.6.0"
  }
 },
 "nbformat": 4,
 "nbformat_minor": 5
}
