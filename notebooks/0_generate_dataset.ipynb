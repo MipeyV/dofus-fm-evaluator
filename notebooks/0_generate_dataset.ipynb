{
 "cells": [
  {
   "cell_type": "markdown",
   "id": "2ead254e",
   "metadata": {
    "papermill": {
     "duration": 0.012651,
     "end_time": "2025-04-15T21:55:52.972522",
     "exception": false,
     "start_time": "2025-04-15T21:55:52.959871",
     "status": "completed"
    },
    "tags": []
   },
   "source": [
    "# Objectif de ce notebook\n",
    "1. Modeliser le comportement des items dans Dofus, les caracteristiques des items et leurs limites\n",
    "2. Introduire les notions de forgemagie et la modification des caractéristiques initiales\n",
    "3. Générer aléatoirement des patternes d'item avec les valeurs min, max des stats de l'item\n",
    "4. Générer des items à partir patternes d'item avec des stats réelles\n",
    "5. Evaluer ces items selon un algorithme de base\n",
    "6. Remplir un dataframe avec ces items et en faire un fichier.csv que l'on va étudier et soumettre à un modèle de ML pour prédire la qualité"
   ]
  },
  {
   "cell_type": "markdown",
   "id": "398a651a",
   "metadata": {
    "papermill": {
     "duration": 0.010042,
     "end_time": "2025-04-15T21:55:52.992830",
     "exception": false,
     "start_time": "2025-04-15T21:55:52.982788",
     "status": "completed"
    },
    "tags": []
   },
   "source": [
    "# Importer toutes les libraries nécessaires avec la cellule suivante"
   ]
  },
  {
   "cell_type": "code",
   "execution_count": 1,
   "id": "9ff4ab52",
   "metadata": {
    "_cell_guid": "b1076dfc-b9ad-4769-8c92-a6c4dae69d19",
    "_uuid": "8f2839f25d086af736a60e9eeb907d3b93b6e0e5",
    "execution": {
     "iopub.execute_input": "2025-04-15T21:55:53.014286Z",
     "iopub.status.busy": "2025-04-15T21:55:53.013796Z",
     "iopub.status.idle": "2025-04-15T21:55:54.076126Z",
     "shell.execute_reply": "2025-04-15T21:55:54.074884Z"
    },
    "papermill": {
     "duration": 1.076647,
     "end_time": "2025-04-15T21:55:54.079492",
     "exception": false,
     "start_time": "2025-04-15T21:55:53.002845",
     "status": "completed"
    },
    "tags": []
   },
   "outputs": [],
   "source": [
    "import numpy as np\n",
    "import pandas as pd\n",
    "import random\n",
    "import string"
   ]
  },
  {
   "cell_type": "markdown",
   "id": "a97aee59",
   "metadata": {
    "papermill": {
     "duration": 0.010946,
     "end_time": "2025-04-15T21:55:54.107023",
     "exception": false,
     "start_time": "2025-04-15T21:55:54.096077",
     "status": "completed"
    },
    "tags": []
   },
   "source": [
    "# ****1. Définition d'un item et de ses caractéristiques****\n",
    "## Objectifs\n",
    "- Définir ce qu'est un item, ses caractéristiques, les valeures théoriques maximales et minimales\n",
    "- Créer une classe ItemTemplate qui décrit un patterne d'item selon ses valeures théoriques\n",
    "- Créer une classe ItemInstance qui définit les valeures réelles de l'item\n",
    "- Stocker chaque type de caractéristique du jeu dans un dictionnaire\n",
    "- Créer des fonctions qui évaluent mon item de façon brève afin de simuler une récupération de données manuellement\n",
    "- Créer une fontion qui peut générer des items aléatoirement\n",
    "## 1.1. Définition de la classe StatDefinition\n",
    "Définit une statistique de base d'un item, avec sa valeur minimale, maximale théorique"
   ]
  },
  {
   "cell_type": "code",
   "execution_count": 2,
   "id": "ec536a3b",
   "metadata": {
    "execution": {
     "iopub.execute_input": "2025-04-15T21:55:54.129983Z",
     "iopub.status.busy": "2025-04-15T21:55:54.129354Z",
     "iopub.status.idle": "2025-04-15T21:55:54.135059Z",
     "shell.execute_reply": "2025-04-15T21:55:54.133887Z"
    },
    "papermill": {
     "duration": 0.019619,
     "end_time": "2025-04-15T21:55:54.137095",
     "exception": false,
     "start_time": "2025-04-15T21:55:54.117476",
     "status": "completed"
    },
    "tags": []
   },
   "outputs": [],
   "source": [
    "class StatDefinition:\n",
    "    def __init__(self, name, min_value, max_value, type=\"fixe\", weight=1):\n",
    "        self.name = name\n",
    "        self.min_value = min_value\n",
    "        self.max_value = max_value\n",
    "        self.type = type\n",
    "        self.weight = weight\n",
    "\n",
    "    def __repr__(self):\n",
    "        return f\"{self.name} ({self.min_value}-{self.max_value}, poids={self.weight})\""
   ]
  },
  {
   "cell_type": "markdown",
   "id": "83696383",
   "metadata": {},
   "source": [
    "## 1.2. Dictionnaire stat_pool\n",
    "Dictionnaire des statistiques du jeu"
   ]
  },
  {
   "cell_type": "code",
   "execution_count": 3,
   "id": "b1e4316c",
   "metadata": {},
   "outputs": [],
   "source": [
    "stat_pool = {\n",
    "    \"vitalité\": StatDefinition(\"vitalité\", 0, 505, weight=0.2),\n",
    "    \"sagesse\": StatDefinition(\"sagesse\", 0, 60, weight=3),\n",
    "    \"force\": StatDefinition(\"force\", 0, 101, weight=1),\n",
    "    \"chance\": StatDefinition(\"chance\", 0, 101, weight=1),\n",
    "    \"agilité\": StatDefinition(\"agilité\", 0, 101, weight=1),\n",
    "    \"intelligence\": StatDefinition(\"intelligence\", 0, 101, weight=1),\n",
    "    \"dommage\": StatDefinition(\"dommages\", 0, 20, weight=20),\n",
    "    \"dommage_neutre\" : StatDefinition(\"dommage_neutre\", 0, 20, weight = 5),\n",
    "    \"dommage_terre\" : StatDefinition(\"dommage_terre\", 0, 20, weight = 5),\n",
    "    \"dommage_feu\" : StatDefinition(\"dommage_feu\", 0, 20, weight = 5),\n",
    "    \"dommage_eau\" : StatDefinition(\"dommage_eau\", 0, 20, weight = 5),\n",
    "    \"dommage_air\" : StatDefinition(\"dommage_air\", 0, 20, weight = 5),\n",
    "    \"dommage_critique\" : StatDefinition(\"dommage_critique\", 0, 25, weight = 5),\n",
    "    \"puissance\": StatDefinition(\"puissance\", 0, 100, weight=2),\n",
    "    \"coups_critiques\": StatDefinition(\"coups_critiques\", 0, 10, weight=10),\n",
    "    \"invocation\": StatDefinition(\"invocation\", 0, 2, weight=30),\n",
    "    \"résistance_neutre\": StatDefinition(\"résistance_neutre\", 0, 25, weight=2),\n",
    "    \"résistance_terre\": StatDefinition(\"résistance_terre\", 0, 25, weight=2),\n",
    "    \"résistance_feu\": StatDefinition(\"résistance_feu\", 0, 25, weight=2),\n",
    "    \"résistance_eau\": StatDefinition(\"résistance_eau\", 0, 25, weight=2),\n",
    "    \"résistance_air\": StatDefinition(\"résistance_air\", 0, 25, weight=2),\n",
    "    \"résistance_poussée\": StatDefinition(\"résistance_poussée\", 0, 80, weight=2),\n",
    "    \"résistance_critique\": StatDefinition(\"résistance_critique\", 0, 40, weight=2),\n",
    "    \"résistance_neutre_%\": StatDefinition(\"résistance_neutre_%\", 0, 15, weight=6),\n",
    "    \"résistance_terre_%\": StatDefinition(\"résistance_terre_%\", 0, 15, weight=6),\n",
    "    \"résistance_feu_%\": StatDefinition(\"résistance_feu_%\", 0, 15, weight=6),\n",
    "    \"résistance_eau_%\": StatDefinition(\"résistance_eau_%\", 0, 15, weight=6),\n",
    "    \"résistance_air_%\": StatDefinition(\"résistance_air_%\", 0, 15, weight=6),\n",
    "    \"tacle\": StatDefinition(\"tacle\", 0, 20, weight=4),\n",
    "    \"fuite\": StatDefinition(\"fuite\", 0, 20, weight=4),\n",
    "    \"soin\": StatDefinition(\"soins\", 0, 30, weight=10),\n",
    "    \"PA\": StatDefinition(\"PA\", 0, 1, weight=100),\n",
    "    \"PM\": StatDefinition(\"PM\", 0, 1, weight=90),\n",
    "    \"PO\": StatDefinition(\"PO\", 0, 2, weight=51),\n",
    "    \"prospection\": StatDefinition(\"prospection\", 0, 33, weight=3),\n",
    "    \"initiative\": StatDefinition(\"initiative\", 0, 800, weight=0.1),\n",
    "    \"pods\": StatDefinition(\"pods\", 0, 2000, weight=0.25),\n",
    "    \"dommage_dist_%\" : StatDefinition(\"dommage_dist_%\", 0, 5, weight=15),\n",
    "    \"dommage_sort_%\" : StatDefinition(\"dommage_sort_%\", 0, 5, weight=15),\n",
    "    \"dommage_mêlee_%\" : StatDefinition(\"dommage_mêlee_%\", 0, 5, weight=15),\n",
    "    \"résistance_dist_%\" : StatDefinition(\"résistance_dist_%\", 0, 5, weight=15),\n",
    "    \"résistance_sort_%\" : StatDefinition(\"résistance_sort_%\", 0, 5, weight=15),\n",
    "    \"résistance_melee_%\" : StatDefinition(\"résistance_melee_%\", 0, 5, weight=15)\n",
    "}\n",
    "\n",
    "essential_stats = {\n",
    "    \"PA\", \"PM\", \"PO\", \"invocation\",\n",
    "    \"coups_critiques\",\n",
    "    \"résistance_dist_%\", \"résistance_sort_%\", \"résistance_mêlée_%\", \n",
    "    \"dommage_mêlée_%\", \"dommage_dist_%\", \"dommage_sort_%\"\n",
    "}\n",
    "\n",
    "basic_stats = {\n",
    "    \"vitalité\", \"force\", \"chance\", \"agilité\", \"intelligence\",\n",
    "    \"puissance\"\n",
    "}\n",
    "\n",
    "secondary_stats = {\n",
    "    \"sagesse\", \"tacle\", \"fuite\", \"prospection\",\n",
    "    \"initiative\", \"pods\", \"soin\"\n",
    "}\n",
    "\n",
    "heavy_stats = {\n",
    "    \"PA\", \"PM\", \"PO\", \"invocation\",\n",
    "    \"sagesse\", \"coup_critiques\", \n",
    "    \"résistance_dist_%\", \"résistance_sort_%\", \"résistance_mêlée_%\", \n",
    "    \"dommage_mêlée_%\", \"dommage_dist_%\", \"dommage_sort_%\"\n",
    "}\n",
    "\n",
    "résistance_pourcent_stats = {\n",
    "    \"résistance_neutre_%\", \"résistance_terre_%\", \"résistance_feu_%\", \"résistance_eau_%\", \"résistance_air_%\",\n",
    "    \"résistance_dist_%\", \"résistance_sort_%\", \"résistance_mêlée_%\", \n",
    "}\n",
    "\n",
    "résistance_elem_stats = {\n",
    "    \"résistance_neutre\", \"résistance_terre\", \"résistance_feu\", \"résistance_eau\", \"résistance_air\", \n",
    "    \"résistance_poussée\", \"résistance_critique\"\n",
    "}\n",
    "\n",
    "dommage_elem_stats = {\n",
    "    \"dommage_neutre\", \"dommage_terre\", \"dommage_feu\", \"dommage_eau\", \"dommage_air\", \n",
    "    \"dommage_critique\", \"dommage_poussée\"\n",
    "}\n",
    "\n",
    "dommage_pourcent_stats = {\n",
    "    \"dommage_mêlée_%\", \"dommage_dist_%\", \"dommage_sort_%\"\n",
    "}"
   ]
  },
  {
   "cell_type": "markdown",
   "id": "6103b1e5",
   "metadata": {
    "papermill": {
     "duration": 0.009498,
     "end_time": "2025-04-15T21:55:54.156726",
     "exception": false,
     "start_time": "2025-04-15T21:55:54.147228",
     "status": "completed"
    },
    "tags": []
   },
   "source": [
    "## 1.3. Classe ItemTemplate\n",
    "Sert à générer un patterne d'item, les statistiques de base d'un item, jets théoriques min et max"
   ]
  },
  {
   "cell_type": "code",
   "execution_count": 4,
   "id": "185eb225",
   "metadata": {
    "execution": {
     "iopub.execute_input": "2025-04-15T21:55:54.188065Z",
     "iopub.status.busy": "2025-04-15T21:55:54.186920Z",
     "iopub.status.idle": "2025-04-15T21:55:54.198698Z",
     "shell.execute_reply": "2025-04-15T21:55:54.197380Z"
    },
    "papermill": {
     "duration": 0.027904,
     "end_time": "2025-04-15T21:55:54.201273",
     "exception": false,
     "start_time": "2025-04-15T21:55:54.173369",
     "status": "completed"
    },
    "tags": []
   },
   "outputs": [],
   "source": [
    "class ItemTemplate:\n",
    "    def __init__(self, name, stats, pui_category=\"moyen\"):\n",
    "        self.name = name\n",
    "        self.stats = stats\n",
    "        self.pui_category = pui_category\n",
    "\n",
    "    def get_stat_max(self, stat_name):\n",
    "        return self.stats.get(stat_name).max_value if stat_name in self.stats else 0\n",
    "\n",
    "    def get_stat_weight(self, stat_name):\n",
    "        return self.stats.get(stat_name).weight if stat_name in self.stats else 0\n",
    "\n",
    "    def has_stat(self, stat_name):\n",
    "        return stat_name in self.stats"
   ]
  },
  {
   "cell_type": "markdown",
   "id": "0d6cd871",
   "metadata": {
    "papermill": {
     "duration": 0.014785,
     "end_time": "2025-04-15T21:55:54.232222",
     "exception": false,
     "start_time": "2025-04-15T21:55:54.217437",
     "status": "completed"
    },
    "tags": []
   },
   "source": [
    "## 1.4. Class ItemInstance\n",
    "Définit un Item avec ses statistiques réelles en tenant compte de celles du patterne"
   ]
  },
  {
   "cell_type": "code",
   "execution_count": 5,
   "id": "79b33235",
   "metadata": {
    "execution": {
     "iopub.execute_input": "2025-04-15T21:55:54.263057Z",
     "iopub.status.busy": "2025-04-15T21:55:54.262696Z",
     "iopub.status.idle": "2025-04-15T21:55:54.282583Z",
     "shell.execute_reply": "2025-04-15T21:55:54.281621Z"
    },
    "papermill": {
     "duration": 0.037596,
     "end_time": "2025-04-15T21:55:54.284450",
     "exception": false,
     "start_time": "2025-04-15T21:55:54.246854",
     "status": "completed"
    },
    "tags": []
   },
   "outputs": [],
   "source": [
    "class ItemInstance:\n",
    "    def __init__(self, template, current_stats, label=None):\n",
    "        self.template = template\n",
    "        self.current_stats = current_stats\n",
    "        self.label = label\n",
    "\n",
    "    def get_ratio(self, stat):\n",
    "        base = self.template.get_stat_max(stat)\n",
    "        val = self.current_stats.get(stat, 0)\n",
    "        if base <= 0:\n",
    "            return np.nan\n",
    "        return val / base\n",
    "\n",
    "    def is_over(self, stat):\n",
    "        ratio = self.get_ratio(stat)\n",
    "        return ratio > 1 if not np.isnan(ratio) else False\n",
    "\n",
    "    def is_exo(self, stat):\n",
    "        return stat not in self.template.stats and self.current_stats.get(stat, 0) > 0\n",
    "\n",
    "    def get_total_weight(self):\n",
    "        weight = 0\n",
    "        for stat in self.template.stats:\n",
    "            value = min(self.current_stats.get(stat, 0), self.template.get_stat_max(stat))\n",
    "            weight += value * self.template.get_stat_weight(stat)\n",
    "        return weight\n",
    "\n",
    "    def get_exo_weight(self):\n",
    "        weight = 0\n",
    "        for stat in self.current_stats:\n",
    "            if self.is_exo(stat) and stat in stat_pool:\n",
    "                weight += self.current_stats[stat] * stat_pool[stat].weight\n",
    "        return weight\n",
    "\n",
    "    def get_stat_tolerance(stat_name, base_value, current_value, weight_unit):\n",
    "        stat_weight = current_value * weight_unit\n",
    "        if stat_weight <= 30 * weight_unit:\n",
    "            return base_value\n",
    "        elif stat_weight <= 60 * weight_unit:\n",
    "            return 3 * base_value\n",
    "        else:\n",
    "            return 10 * base_value\n",
    "\n",
    "    def get_features(self):\n",
    "        nb_stats = len(self.template.stats)\n",
    "        perfect_lines = sum(\n",
    "            1 for stat in self.template.stats\n",
    "            if self.current_stats.get(stat, 0) == self.template.get_stat_max(stat)\n",
    "        )\n",
    "        high_ratios = sum(\n",
    "            1 for stat in self.template.stats\n",
    "            if 0.9 < self.get_ratio(stat) < 1\n",
    "        )\n",
    "        nb_overs = sum(1 for stat in self.template.stats if self.is_over(stat))\n",
    "        total_weight = self.get_total_weight()\n",
    "        exo_weight = self.get_exo_weight()\n",
    "        avg_ratio = np.nanmean([self.get_ratio(stat) for stat in self.template.stats])\n",
    "        over_weight = sum(\n",
    "            (self.current_stats[stat] - self.template.get_stat_max(stat)) * self.template.get_stat_weight(stat)\n",
    "            for stat in self.template.stats\n",
    "            if self.is_over(stat)\n",
    "        )\n",
    "\n",
    "        nb_basic_stats_ratio = sum(1 for stat in self.template.stats if stat in basic_stats) / nb_stats if nb_stats else 0\n",
    "        nb_essential_stats_ratio = sum(1 for stat in self.template.stats if stat in essential_stats) / nb_stats if nb_stats else 0\n",
    "        nb_secondary_stats_ratio = sum(1 for stat in self.template.stats if stat in secondary_stats) / nb_stats if nb_stats else 0\n",
    "        nb_heavy_stats_ratio = sum(1 for stat in self.template.stats if stat in heavy_stats) / nb_stats if nb_stats else 0\n",
    "        nb_résistance_elem_ratio = sum(1 for stat in self.template.stats if stat in résistance_elem_stats) / nb_stats if nb_stats else 0\n",
    "        nb_resistance_pourcent_ratio = sum(1 for stat in self.template.stats if stat in résistance_pourcent_stats) / nb_stats if nb_stats else 0\n",
    "        nb_dommage_elem_ratio = sum(1 for stat in self.template.stats if stat in dommage_elem_stats) / nb_stats if nb_stats else 0\n",
    "        nb_dommage_pourcent_ratio = sum(1 for stat in self.template.stats if stat in dommage_pourcent_stats) / nb_stats if nb_stats else 0\n",
    "\n",
    "        return {\n",
    "            \"item_name\": self.template.name,\n",
    "            \"pui_category\": self.template.pui_category,\n",
    "            \"nb_stats\": nb_stats,\n",
    "            \"nb_perfect_lines\": perfect_lines,\n",
    "            \"nb_high_ratio\": high_ratios,\n",
    "            \"nb_overs\": nb_overs,\n",
    "            \"total_weight\": total_weight,\n",
    "            \"exo_weight\": exo_weight,\n",
    "            \"over_weight\": over_weight,\n",
    "            \"avg_ratio\": avg_ratio,\n",
    "            \"is_exo\": exo_weight > 0,\n",
    "            \"is_over\": nb_overs > 0,\n",
    "            \"nb_basic_stats_ratio\": nb_basic_stats_ratio,\n",
    "            \"nb_essential_stats_ratio\": nb_essential_stats_ratio,\n",
    "            \"nb_secondary_stats_ratio\": nb_secondary_stats_ratio,\n",
    "            \"nb_heavy_stats_ratio\": nb_heavy_stats_ratio,\n",
    "            \"nb_résistance_elem_ratio\": nb_résistance_elem_ratio,\n",
    "            \"nb_resistance_pourcent_ratio\": nb_resistance_pourcent_ratio,\n",
    "            \"nb_dommage_elem_ratio\": nb_dommage_elem_ratio,\n",
    "            \"nb_dommage_pourcent_ratio\": nb_dommage_pourcent_ratio\n",
    "        }\n",
    "\n",
    "    def evaluate_quality_algo(self):\n",
    "        def stat_is_perfect(stat):\n",
    "            return self.current_stats.get(stat, 0) == self.template.get_stat_max(stat)\n",
    "\n",
    "        def stat_is_within_tolerance(stat):\n",
    "            if stat not in stat_pool:\n",
    "                return True\n",
    "            max_val = self.template.get_stat_max(stat)\n",
    "            val = self.current_stats.get(stat, 0)\n",
    "            base_weight = stat_pool[stat].weight\n",
    "            if max_val == 0:\n",
    "                return True\n",
    "            diff = abs(max_val - val)\n",
    "            line_weight = max_val * base_weight\n",
    "            if line_weight <= 30:\n",
    "                return diff <= 1\n",
    "            elif line_weight <= 60:\n",
    "                return diff <= 3\n",
    "            else:\n",
    "                return diff <= 10\n",
    "\n",
    "        stats = self.template.stats\n",
    "        n_stats = len(stats)\n",
    "\n",
    "        perfect_lines = sum(stat_is_perfect(stat) for stat in stats)\n",
    "        high_ratios = sum(1 for stat in stats if 0.9 <= self.get_ratio(stat) < 1)\n",
    "        ratio_perfect = perfect_lines / n_stats if n_stats else 0\n",
    "\n",
    "        total_weight = self.get_total_weight()\n",
    "        exo_weight = self.get_exo_weight()\n",
    "        over = any(self.is_over(stat) for stat in stats)\n",
    "        exo = exo_weight > 0\n",
    "\n",
    "        pui = self.template.pui_category\n",
    "        note = 100\n",
    "        malus = 0\n",
    "\n",
    "        # Malus sur les essential stats non parfaites\n",
    "        for stat in essential_stats:\n",
    "            if stat in stats and self.get_ratio(stat) < 1:\n",
    "                malus += 20\n",
    "\n",
    "        # Malus si résistances pas parfaites\n",
    "        for stat in résistance_elem_stats.union(résistance_pourcent_stats):\n",
    "            if stat in stats and self.get_ratio(stat) < 1:\n",
    "                malus += 10\n",
    "\n",
    "        # Tolérances pour les autres lignes\n",
    "        for stat in stats:\n",
    "            if stat in essential_stats or stat not in stat_pool:\n",
    "                continue\n",
    "            if not stat_is_within_tolerance(stat):\n",
    "                malus += 5\n",
    "\n",
    "        # Bonus si très bon jet\n",
    "        if malus < 10 and ratio_perfect > 0.8:\n",
    "            note = 100\n",
    "            quality = \"parfait\"\n",
    "        elif malus < 25 and all(\n",
    "            (stat not in stats or self.get_ratio(stat) == 1)\n",
    "            for stat in essential_stats.union(résistance_pourcent_stats, résistance_elem_stats)\n",
    "        ):\n",
    "            note = max(85, 100 - malus)\n",
    "            quality = \"très bon jet\"\n",
    "        elif all(self.get_ratio(stat) >= 0.6 for stat in stats if stat in stat_pool):\n",
    "            note = max(60, 100 - malus)\n",
    "            quality = \"jet craft\"\n",
    "        else:\n",
    "            note = max(30, 100 - malus)\n",
    "            quality = \"jet nul\"\n",
    "\n",
    "        return {\n",
    "            \"note\": note,\n",
    "            \"exo\": exo,\n",
    "            \"over\": over,\n",
    "            \"puit\": pui,\n",
    "            \"quality\": quality\n",
    "        }"
   ]
  },
  {
   "cell_type": "markdown",
   "id": "251a13ca",
   "metadata": {
    "papermill": {
     "duration": 0.011475,
     "end_time": "2025-04-15T21:55:54.365143",
     "exception": false,
     "start_time": "2025-04-15T21:55:54.353668",
     "status": "completed"
    },
    "tags": []
   },
   "source": [
    "## 1.5. Fonction classify_pui(stats)\n",
    "Fonction qui classify les items selon leur poids de base"
   ]
  },
  {
   "cell_type": "code",
   "execution_count": 6,
   "id": "7b9773ea",
   "metadata": {
    "execution": {
     "iopub.execute_input": "2025-04-15T21:55:54.390063Z",
     "iopub.status.busy": "2025-04-15T21:55:54.389593Z",
     "iopub.status.idle": "2025-04-15T21:55:54.396856Z",
     "shell.execute_reply": "2025-04-15T21:55:54.395545Z"
    },
    "papermill": {
     "duration": 0.021663,
     "end_time": "2025-04-15T21:55:54.398465",
     "exception": false,
     "start_time": "2025-04-15T21:55:54.376802",
     "status": "completed"
    },
    "tags": []
   },
   "outputs": [],
   "source": [
    "def classify_pui(stats):\n",
    "    if any(stat in stats for stat in [\"PA\", \"PM\", \"PO\"]):\n",
    "        return \"grand\"\n",
    "    if (\"invocation\" in stats or\n",
    "        (\"sagesse\" in stats and stats[\"sagesse\"].max_value > 40) or\n",
    "        (\"coups_critiques\" in stats and stats[\"coups_critiques\"].max_value > 4) or\n",
    "        any(stat.startswith(\"dommage\") for stat in stats)):\n",
    "        return \"moyen\"\n",
    "    return \"faible\""
   ]
  },
  {
   "cell_type": "markdown",
   "id": "7d056220",
   "metadata": {
    "papermill": {
     "duration": 0.009324,
     "end_time": "2025-04-15T21:55:54.417905",
     "exception": false,
     "start_time": "2025-04-15T21:55:54.408581",
     "status": "completed"
    },
    "tags": []
   },
   "source": [
    "## 1.6. Fonction generate_random_template()\n",
    "Fonction qui génère un template d'item théorique"
   ]
  },
  {
   "cell_type": "code",
   "execution_count": 7,
   "id": "65fef7ab",
   "metadata": {
    "execution": {
     "iopub.execute_input": "2025-04-15T21:55:54.439554Z",
     "iopub.status.busy": "2025-04-15T21:55:54.439178Z",
     "iopub.status.idle": "2025-04-15T21:55:54.452061Z",
     "shell.execute_reply": "2025-04-15T21:55:54.450733Z"
    },
    "papermill": {
     "duration": 0.026275,
     "end_time": "2025-04-15T21:55:54.453905",
     "exception": false,
     "start_time": "2025-04-15T21:55:54.427630",
     "status": "completed"
    },
    "tags": []
   },
   "outputs": [],
   "source": [
    "def generate_random_template():\n",
    "    name = \"Item_\" + ''.join(random.choices(string.ascii_uppercase, k=5))\n",
    "    stats = {}\n",
    "\n",
    "    # Stat commune : sagesse (90% de chance)\n",
    "    if random.random() < 0.9:\n",
    "        definition = stat_pool[\"sagesse\"]\n",
    "        stats[\"sagesse\"] = StatDefinition(\"sagesse\", 20, 60, weight=definition.weight)\n",
    "\n",
    "    # Stat très fréquente : vitalité\n",
    "    definition = stat_pool[\"vitalité\"]\n",
    "    stats[\"vitalité\"] = StatDefinition(\"vitalité\", 100, 400, weight=definition.weight)\n",
    "\n",
    "    # Coups critiques (1 chance sur 2, max 7)\n",
    "    if random.random() < 0.5:\n",
    "        definition = stat_pool[\"coups_critiques\"]\n",
    "        stats[\"coups_critiques\"] = StatDefinition(\"coups_critiques\", 1, 7, weight=definition.weight)\n",
    "\n",
    "    # Stats élémentaires (90% de chance d'en avoir au moins une)\n",
    "    elem_stats = [\"force\", \"intelligence\", \"chance\", \"agilité\"]\n",
    "    if random.random() < 0.9:\n",
    "        selected_elem = random.sample(elem_stats, k=random.choice([1, 2]))\n",
    "        for elem in selected_elem:\n",
    "            definition = stat_pool[elem]\n",
    "            max_val = random.choice([v for v in range(30, definition.max_value + 1, 5)])\n",
    "            min_val = max(5, int(max_val * 0.5))\n",
    "            min_val -= min_val % 5\n",
    "            stats[elem] = StatDefinition(elem, min_val, max_val, weight=definition.weight)\n",
    "\n",
    "            # Associer une stat de dommage à l'élément\n",
    "            elem_dmg = f\"dommage_{elem}\" if f\"dommage_{elem}\" in stat_pool else \"dommage\"\n",
    "            if elem_dmg in stat_pool:\n",
    "                dmg_def = stat_pool[elem_dmg]\n",
    "                stats[elem_dmg] = StatDefinition(elem_dmg, 3, dmg_def.max_value, weight=dmg_def.weight)\n",
    "\n",
    "    # Résistances (1 chance sur 2 d'en avoir une)\n",
    "    resistance_stats = [s for s in stat_pool if \"résistance\" in s and s not in stats]\n",
    "    if random.random() < 0.5 and resistance_stats:\n",
    "        stat = random.choice(resistance_stats)\n",
    "        definition = stat_pool[stat]\n",
    "        stats[stat] = StatDefinition(stat, 3, definition.max_value, weight=definition.weight)\n",
    "\n",
    "    # Ajout aléatoire de 1 à 3 autres stats restantes\n",
    "    remaining = [s for s in stat_pool if s not in stats and stat_pool[s].max_value > 0]\n",
    "    for stat in random.sample(remaining, k=random.randint(1, 3)):\n",
    "        definition = stat_pool[stat]\n",
    "        max_cap = definition.max_value\n",
    "        if max_cap >= 30:\n",
    "            max_val = random.choice([v for v in range(30, max_cap + 1, 5)])\n",
    "        else:\n",
    "            max_val = random.randint(1, max_cap)\n",
    "        min_val = max(5, int(max_val * 0.5))\n",
    "        min_val -= min_val % 5\n",
    "        stats[stat] = StatDefinition(stat, min_val, max_val, weight=definition.weight)\n",
    "\n",
    "    # Détermination automatique du puit\n",
    "    if any(stat in stats for stat in [\"PA\", \"PM\", \"PO\"]):\n",
    "        pui_category = \"gros\"\n",
    "    elif any(stat in stats for stat in [\"invocations\", \"coups_critiques\"]) or (\"sagesse\" in stats and stats[\"sagesse\"].max_value >= 40):\n",
    "        pui_category = \"moyen\"\n",
    "    else:\n",
    "        pui_category = \"faible\"\n",
    "\n",
    "    return ItemTemplate(name, stats, pui_category=pui_category)"
   ]
  },
  {
   "cell_type": "code",
   "execution_count": 8,
   "id": "fbd55788",
   "metadata": {},
   "outputs": [],
   "source": [
    "def generate_perfect_instance(template):\n",
    "    current_stats = {}\n",
    "\n",
    "    for stat, definition in template.stats.items():\n",
    "        # Stats essentielles, résistances et dommages : on met max directement\n",
    "        if stat in essential_stats or \"résistance\" in stat or \"dommage\" in stat:\n",
    "            current_stats[stat] = definition.max_value\n",
    "\n",
    "        # Autres stats : proche du max, mais sans over\n",
    "        else:\n",
    "            current_stats[stat] = random.choice([\n",
    "                definition.max_value,\n",
    "                max(definition.max_value - 1, definition.min_value)\n",
    "            ])\n",
    "\n",
    "    # Aucun exo ou over\n",
    "    instance = ItemInstance(template, current_stats)\n",
    "    return instance\n"
   ]
  },
  {
   "cell_type": "code",
   "execution_count": 9,
   "id": "a9cf2173",
   "metadata": {},
   "outputs": [],
   "source": [
    "def generate_high_quality_instance(template):\n",
    "    current_stats = {}\n",
    "\n",
    "    for stat, definition in template.stats.items():\n",
    "        if stat in essential_stats or \"résistance\" in stat:\n",
    "            current_stats[stat] = definition.max_value\n",
    "        else:\n",
    "            base = definition.max_value\n",
    "            current_stats[stat] = random.randint(int(0.9 * base), base)\n",
    "\n",
    "    instance = ItemInstance(template, current_stats)\n",
    "    return instance\n"
   ]
  },
  {
   "cell_type": "code",
   "execution_count": 10,
   "id": "1cfcfea8",
   "metadata": {},
   "outputs": [],
   "source": [
    "def generate_bad_instance(template):\n",
    "    current_stats = {}\n",
    "    for stat, definition in template.stats.items():\n",
    "        # Valeur très basse volontairement\n",
    "        val = random.randint(definition.min_value, max(definition.min_value + 1, int(definition.max_value * 0.5)))\n",
    "        current_stats[stat] = val\n",
    "\n",
    "    # Aucun exo ni over\n",
    "    return ItemInstance(template, current_stats)\n"
   ]
  },
  {
   "cell_type": "markdown",
   "id": "25172f21",
   "metadata": {
    "papermill": {
     "duration": 0.009385,
     "end_time": "2025-04-15T21:55:54.473440",
     "exception": false,
     "start_time": "2025-04-15T21:55:54.464055",
     "status": "completed"
    },
    "tags": []
   },
   "source": [
    "## 1.7. Fonction generate_random_instance(template)\n",
    "Fonction qui génère aléatoirement des instances d'items à partir d'un template"
   ]
  },
  {
   "cell_type": "code",
   "execution_count": 11,
   "id": "a4afb010",
   "metadata": {
    "execution": {
     "iopub.execute_input": "2025-04-15T21:55:54.494541Z",
     "iopub.status.busy": "2025-04-15T21:55:54.494142Z",
     "iopub.status.idle": "2025-04-15T21:55:54.506084Z",
     "shell.execute_reply": "2025-04-15T21:55:54.505012Z"
    },
    "papermill": {
     "duration": 0.024541,
     "end_time": "2025-04-15T21:55:54.507814",
     "exception": false,
     "start_time": "2025-04-15T21:55:54.483273",
     "status": "completed"
    },
    "tags": []
   },
   "outputs": [],
   "source": [
    "def generate_random_instance(template, debug=False):\n",
    "    exo_types = []\n",
    "    current_stats = {}\n",
    "    elemental_stats = {\"force\", \"intelligence\", \"chance\", \"agilité\", \"sagesse\", \"vitalité\"}\n",
    "\n",
    "    # Stats de base\n",
    "    for stat, definition in template.stats.items():\n",
    "        if stat in elemental_stats:\n",
    "            val = random.choice([v for v in range(int(definition.max_value * 0.6), definition.max_value + 1, 5)])\n",
    "        elif stat in {\"coups_critiques\", \"PA\", \"PM\", \"PO\", \"invocation\"} or \"résistance_\" in stat:\n",
    "            val = definition.max_value if random.random() < 0.8 else random.randint(int(definition.max_value * 0.6), definition.max_value)\n",
    "        elif \"dommage\" in stat:\n",
    "            if definition.max_value > 11:\n",
    "                val = random.choice([definition.max_value - 1, definition.max_value]) if random.random() < 0.8 else random.randint(int(definition.max_value * 0.6), definition.max_value - 2)\n",
    "            else:\n",
    "                val = random.randint(int(definition.max_value * 0.6), definition.max_value)\n",
    "        else:\n",
    "            val = random.randint(int(definition.max_value * 0.6), definition.max_value)\n",
    "        current_stats[stat] = val\n",
    "\n",
    "    # Déterminer le puit\n",
    "    if any(stat in template.stats for stat in [\"PA\", \"PM\", \"PO\"]):\n",
    "        puit = \"gros\"\n",
    "        max_exo_weight = 101\n",
    "        weight_limit = 100\n",
    "        exo_candidates = [\"PA\", \"PM\", \"PO\"] + [s for s in stat_pool if s not in template.stats and stat_pool[s].weight <= 50]\n",
    "    elif any(stat in template.stats for stat in [\"invocation\", \"coups_critiques\"]) or (\"sagesse\" in template.stats and template.get_stat_max(\"sagesse\") >= 40):\n",
    "        puit = \"moyen\"\n",
    "        max_exo_weight = 50\n",
    "        weight_limit = 50\n",
    "        exo_candidates = [s for s in stat_pool if s not in template.stats and stat_pool[s].weight <= 30]\n",
    "    else:\n",
    "        puit = \"faible\"\n",
    "        max_exo_weight = 20\n",
    "        weight_limit = 20\n",
    "        exo_candidates = [s for s in stat_pool if s not in template.stats and stat_pool[s].weight <= 15]\n",
    "\n",
    "    total_exo_weight = 0\n",
    "    random.shuffle(exo_candidates)\n",
    "\n",
    "    for exo_stat in exo_candidates:\n",
    "        if exo_stat not in stat_pool:\n",
    "            continue\n",
    "        definition = stat_pool[exo_stat]\n",
    "        is_major_exo = exo_stat in {\"PA\", \"PM\", \"PO\"}\n",
    "        chance = 0.5 if not is_major_exo and not exo_types else 0.01\n",
    "        if random.random() > chance:\n",
    "            continue\n",
    "\n",
    "        exo_val = min(random.randint(1, definition.max_value), 10)  # on limite la valeur brute\n",
    "        added_weight = exo_val * definition.weight\n",
    "\n",
    "        if total_exo_weight + added_weight <= max_exo_weight:\n",
    "            current_stats[exo_stat] = exo_val\n",
    "            exo_types.append(\"majeur\" if is_major_exo else \"classique\")\n",
    "            total_exo_weight += added_weight\n",
    "            if debug:\n",
    "                print(f\"[DEBUG] Ajout exo {exo_stat} = {exo_val} (poids: {added_weight}, total: {total_exo_weight})\")\n",
    "\n",
    "    instance = ItemInstance(template, current_stats)\n",
    "    instance.exo_types = exo_types\n",
    "    return instance"
   ]
  },
  {
   "cell_type": "markdown",
   "id": "344c148d",
   "metadata": {
    "papermill": {
     "duration": 0.009453,
     "end_time": "2025-04-15T21:55:54.527385",
     "exception": false,
     "start_time": "2025-04-15T21:55:54.517932",
     "status": "completed"
    },
    "tags": []
   },
   "source": [
    "# ****2. Création d'un jeu de données artificielles****\n",
    "## 2.1. Fonction generate_dataset(nb_templates, nb_instance_per_case)\n",
    "Création d'un dataset selon le nombre de templates, et nombre d'instances par template"
   ]
  },
  {
   "cell_type": "code",
   "execution_count": 12,
   "id": "325204ad",
   "metadata": {
    "execution": {
     "iopub.execute_input": "2025-04-15T21:55:54.548851Z",
     "iopub.status.busy": "2025-04-15T21:55:54.548503Z",
     "iopub.status.idle": "2025-04-15T21:55:54.556746Z",
     "shell.execute_reply": "2025-04-15T21:55:54.555522Z"
    },
    "papermill": {
     "duration": 0.021014,
     "end_time": "2025-04-15T21:55:54.558542",
     "exception": false,
     "start_time": "2025-04-15T21:55:54.537528",
     "status": "completed"
    },
    "tags": []
   },
   "outputs": [],
   "source": [
    "def generate_dataset(nb_templates=100, nb_instances_per_quality=50):\n",
    "    dataset = []\n",
    "    templates = [generate_random_template() for _ in range(nb_templates)]\n",
    "\n",
    "    for template in templates:\n",
    "        for quality in [\"parfait\", \"très bon jet\", \"jet craft\", \"jet nul\"]:\n",
    "            for _ in range(nb_instances_per_quality):\n",
    "                if quality == \"parfait\":\n",
    "                    instance = generate_perfect_instance(template)\n",
    "                elif quality == \"très bon jet\":\n",
    "                    instance = generate_high_quality_instance(template)\n",
    "                elif quality == \"jet craft\":\n",
    "                    instance = generate_random_instance(template)\n",
    "                elif quality == \"jet nul\":\n",
    "                    instance = generate_bad_instance(template)\n",
    "                else:\n",
    "                    continue  # sécurité\n",
    "\n",
    "                # Extraire toutes les features + l'évaluation\n",
    "                features = instance.get_features()\n",
    "                eval_quality = instance.evaluate_quality_algo()\n",
    "\n",
    "                features.update(eval_quality)\n",
    "                features[\"template_name\"] = template.name\n",
    "                features[\"config_case\"] = quality\n",
    "                dataset.append(features)\n",
    "\n",
    "    return pd.DataFrame(dataset)\n"
   ]
  },
  {
   "cell_type": "markdown",
   "id": "d6a70fde",
   "metadata": {
    "papermill": {
     "duration": 0.009458,
     "end_time": "2025-04-15T21:55:54.577957",
     "exception": false,
     "start_time": "2025-04-15T21:55:54.568499",
     "status": "completed"
    },
    "tags": []
   },
   "source": [
    "## 2.2. Génération du dataset\n",
    "- Une fois généré ne plus exécuter ou commenter\n",
    "- Si dataset pas assez pertinent, regénerer et refaire les tests (voir partie 3)"
   ]
  },
  {
   "cell_type": "code",
   "execution_count": 15,
   "id": "8f5c19e8",
   "metadata": {
    "execution": {
     "iopub.execute_input": "2025-04-15T21:55:54.599341Z",
     "iopub.status.busy": "2025-04-15T21:55:54.598976Z",
     "iopub.status.idle": "2025-04-15T21:55:56.728561Z",
     "shell.execute_reply": "2025-04-15T21:55:56.726900Z"
    },
    "papermill": {
     "duration": 2.142371,
     "end_time": "2025-04-15T21:55:56.730712",
     "exception": false,
     "start_time": "2025-04-15T21:55:54.588341",
     "status": "completed"
    },
    "tags": []
   },
   "outputs": [],
   "source": [
    "import os\n",
    "\n",
    "dataset = generate_dataset()\n",
    "\n",
    "# Détection automatique de l’environnement Kaggle\n",
    "running_on_kaggle = os.environ.get(\"KAGGLE_KERNEL_RUN_TYPE\") is not None\n",
    "\n",
    "if running_on_kaggle:\n",
    "    # Environnement Kaggle : enregistrer à la racine (pour apparaître dans \"Output\")\n",
    "    dataset.to_csv(\"item_dataset_2.csv\", index=False)\n",
    "else:\n",
    "    # Environnement local : dossier structuré\n",
    "    os.makedirs(\"../data/processed\", exist_ok=True)\n",
    "    dataset.to_csv(\"../data/processed/item_dataset_4.csv\", index=False)"
   ]
  }
 ],
 "metadata": {
  "kaggle": {
   "accelerator": "none",
   "dataSources": [],
   "dockerImageVersionId": 30918,
   "isGpuEnabled": false,
   "isInternetEnabled": false,
   "language": "python",
   "sourceType": "notebook"
  },
  "kernelspec": {
   "display_name": ".venv",
   "language": "python",
   "name": "python3"
  },
  "language_info": {
   "codemirror_mode": {
    "name": "ipython",
    "version": 3
   },
   "file_extension": ".py",
   "mimetype": "text/x-python",
   "name": "python",
   "nbconvert_exporter": "python",
   "pygments_lexer": "ipython3",
   "version": "3.10.11"
  },
  "papermill": {
   "default_parameters": {},
   "duration": 81.507858,
   "end_time": "2025-04-15T21:57:10.802036",
   "environment_variables": {},
   "exception": null,
   "input_path": "__notebook__.ipynb",
   "output_path": "__notebook__.ipynb",
   "parameters": {},
   "start_time": "2025-04-15T21:55:49.294178",
   "version": "2.6.0"
  }
 },
 "nbformat": 4,
 "nbformat_minor": 5
}
